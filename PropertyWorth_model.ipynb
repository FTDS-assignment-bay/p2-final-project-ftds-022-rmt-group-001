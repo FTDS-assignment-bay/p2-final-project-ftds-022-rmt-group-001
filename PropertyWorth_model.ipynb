{
  "nbformat": 4,
  "nbformat_minor": 0,
  "metadata": {
    "colab": {
      "provenance": [],
      "collapsed_sections": [
        "EpvW444CCUvQ"
      ]
    },
    "kernelspec": {
      "name": "python3",
      "display_name": "Python 3"
    },
    "language_info": {
      "name": "python"
    },
    "widgets": {
      "application/vnd.jupyter.widget-state+json": {
        "7aefba64de4a4b5495dbd995f72756e4": {
          "model_module": "@jupyter-widgets/controls",
          "model_name": "HBoxModel",
          "model_module_version": "1.5.0",
          "state": {
            "_dom_classes": [],
            "_model_module": "@jupyter-widgets/controls",
            "_model_module_version": "1.5.0",
            "_model_name": "HBoxModel",
            "_view_count": null,
            "_view_module": "@jupyter-widgets/controls",
            "_view_module_version": "1.5.0",
            "_view_name": "HBoxView",
            "box_style": "",
            "children": [
              "IPY_MODEL_572200ac955645d2983020b8a14c05b1",
              "IPY_MODEL_a890a9b6f7ac4191891a9447f6f8a5c7",
              "IPY_MODEL_59308a785a4246f2bcd736c59ac5716f"
            ],
            "layout": "IPY_MODEL_72bb5a28c15b4c76aa26981a80fcef9b"
          }
        },
        "572200ac955645d2983020b8a14c05b1": {
          "model_module": "@jupyter-widgets/controls",
          "model_name": "HTMLModel",
          "model_module_version": "1.5.0",
          "state": {
            "_dom_classes": [],
            "_model_module": "@jupyter-widgets/controls",
            "_model_module_version": "1.5.0",
            "_model_name": "HTMLModel",
            "_view_count": null,
            "_view_module": "@jupyter-widgets/controls",
            "_view_module_version": "1.5.0",
            "_view_name": "HTMLView",
            "description": "",
            "description_tooltip": null,
            "layout": "IPY_MODEL_3959761bd6854aaaa85f106a2107cdae",
            "placeholder": "​",
            "style": "IPY_MODEL_7991407a21a74f1b8b4b209c3d4e6174",
            "value": "Processing: 100%"
          }
        },
        "a890a9b6f7ac4191891a9447f6f8a5c7": {
          "model_module": "@jupyter-widgets/controls",
          "model_name": "FloatProgressModel",
          "model_module_version": "1.5.0",
          "state": {
            "_dom_classes": [],
            "_model_module": "@jupyter-widgets/controls",
            "_model_module_version": "1.5.0",
            "_model_name": "FloatProgressModel",
            "_view_count": null,
            "_view_module": "@jupyter-widgets/controls",
            "_view_module_version": "1.5.0",
            "_view_name": "ProgressView",
            "bar_style": "",
            "description": "",
            "description_tooltip": null,
            "layout": "IPY_MODEL_a281c32885ff4c0f8a8c7e8d4c0373e6",
            "max": 4,
            "min": 0,
            "orientation": "horizontal",
            "style": "IPY_MODEL_4a365f95277f452fa21acd497797fc02",
            "value": 4
          }
        },
        "59308a785a4246f2bcd736c59ac5716f": {
          "model_module": "@jupyter-widgets/controls",
          "model_name": "HTMLModel",
          "model_module_version": "1.5.0",
          "state": {
            "_dom_classes": [],
            "_model_module": "@jupyter-widgets/controls",
            "_model_module_version": "1.5.0",
            "_model_name": "HTMLModel",
            "_view_count": null,
            "_view_module": "@jupyter-widgets/controls",
            "_view_module_version": "1.5.0",
            "_view_name": "HTMLView",
            "description": "",
            "description_tooltip": null,
            "layout": "IPY_MODEL_0cea06ebf1d64a7cb99074696b771e93",
            "placeholder": "​",
            "style": "IPY_MODEL_32c9f8447921430495b15541f90cb852",
            "value": " 4/4 [00:17&lt;00:00,  3.93s/it]"
          }
        },
        "72bb5a28c15b4c76aa26981a80fcef9b": {
          "model_module": "@jupyter-widgets/base",
          "model_name": "LayoutModel",
          "model_module_version": "1.2.0",
          "state": {
            "_model_module": "@jupyter-widgets/base",
            "_model_module_version": "1.2.0",
            "_model_name": "LayoutModel",
            "_view_count": null,
            "_view_module": "@jupyter-widgets/base",
            "_view_module_version": "1.2.0",
            "_view_name": "LayoutView",
            "align_content": null,
            "align_items": null,
            "align_self": null,
            "border": null,
            "bottom": null,
            "display": null,
            "flex": null,
            "flex_flow": null,
            "grid_area": null,
            "grid_auto_columns": null,
            "grid_auto_flow": null,
            "grid_auto_rows": null,
            "grid_column": null,
            "grid_gap": null,
            "grid_row": null,
            "grid_template_areas": null,
            "grid_template_columns": null,
            "grid_template_rows": null,
            "height": null,
            "justify_content": null,
            "justify_items": null,
            "left": null,
            "margin": null,
            "max_height": null,
            "max_width": null,
            "min_height": null,
            "min_width": null,
            "object_fit": null,
            "object_position": null,
            "order": null,
            "overflow": null,
            "overflow_x": null,
            "overflow_y": null,
            "padding": null,
            "right": null,
            "top": null,
            "visibility": "hidden",
            "width": null
          }
        },
        "3959761bd6854aaaa85f106a2107cdae": {
          "model_module": "@jupyter-widgets/base",
          "model_name": "LayoutModel",
          "model_module_version": "1.2.0",
          "state": {
            "_model_module": "@jupyter-widgets/base",
            "_model_module_version": "1.2.0",
            "_model_name": "LayoutModel",
            "_view_count": null,
            "_view_module": "@jupyter-widgets/base",
            "_view_module_version": "1.2.0",
            "_view_name": "LayoutView",
            "align_content": null,
            "align_items": null,
            "align_self": null,
            "border": null,
            "bottom": null,
            "display": null,
            "flex": null,
            "flex_flow": null,
            "grid_area": null,
            "grid_auto_columns": null,
            "grid_auto_flow": null,
            "grid_auto_rows": null,
            "grid_column": null,
            "grid_gap": null,
            "grid_row": null,
            "grid_template_areas": null,
            "grid_template_columns": null,
            "grid_template_rows": null,
            "height": null,
            "justify_content": null,
            "justify_items": null,
            "left": null,
            "margin": null,
            "max_height": null,
            "max_width": null,
            "min_height": null,
            "min_width": null,
            "object_fit": null,
            "object_position": null,
            "order": null,
            "overflow": null,
            "overflow_x": null,
            "overflow_y": null,
            "padding": null,
            "right": null,
            "top": null,
            "visibility": null,
            "width": null
          }
        },
        "7991407a21a74f1b8b4b209c3d4e6174": {
          "model_module": "@jupyter-widgets/controls",
          "model_name": "DescriptionStyleModel",
          "model_module_version": "1.5.0",
          "state": {
            "_model_module": "@jupyter-widgets/controls",
            "_model_module_version": "1.5.0",
            "_model_name": "DescriptionStyleModel",
            "_view_count": null,
            "_view_module": "@jupyter-widgets/base",
            "_view_module_version": "1.2.0",
            "_view_name": "StyleView",
            "description_width": ""
          }
        },
        "a281c32885ff4c0f8a8c7e8d4c0373e6": {
          "model_module": "@jupyter-widgets/base",
          "model_name": "LayoutModel",
          "model_module_version": "1.2.0",
          "state": {
            "_model_module": "@jupyter-widgets/base",
            "_model_module_version": "1.2.0",
            "_model_name": "LayoutModel",
            "_view_count": null,
            "_view_module": "@jupyter-widgets/base",
            "_view_module_version": "1.2.0",
            "_view_name": "LayoutView",
            "align_content": null,
            "align_items": null,
            "align_self": null,
            "border": null,
            "bottom": null,
            "display": null,
            "flex": null,
            "flex_flow": null,
            "grid_area": null,
            "grid_auto_columns": null,
            "grid_auto_flow": null,
            "grid_auto_rows": null,
            "grid_column": null,
            "grid_gap": null,
            "grid_row": null,
            "grid_template_areas": null,
            "grid_template_columns": null,
            "grid_template_rows": null,
            "height": null,
            "justify_content": null,
            "justify_items": null,
            "left": null,
            "margin": null,
            "max_height": null,
            "max_width": null,
            "min_height": null,
            "min_width": null,
            "object_fit": null,
            "object_position": null,
            "order": null,
            "overflow": null,
            "overflow_x": null,
            "overflow_y": null,
            "padding": null,
            "right": null,
            "top": null,
            "visibility": null,
            "width": null
          }
        },
        "4a365f95277f452fa21acd497797fc02": {
          "model_module": "@jupyter-widgets/controls",
          "model_name": "ProgressStyleModel",
          "model_module_version": "1.5.0",
          "state": {
            "_model_module": "@jupyter-widgets/controls",
            "_model_module_version": "1.5.0",
            "_model_name": "ProgressStyleModel",
            "_view_count": null,
            "_view_module": "@jupyter-widgets/base",
            "_view_module_version": "1.2.0",
            "_view_name": "StyleView",
            "bar_color": null,
            "description_width": ""
          }
        },
        "0cea06ebf1d64a7cb99074696b771e93": {
          "model_module": "@jupyter-widgets/base",
          "model_name": "LayoutModel",
          "model_module_version": "1.2.0",
          "state": {
            "_model_module": "@jupyter-widgets/base",
            "_model_module_version": "1.2.0",
            "_model_name": "LayoutModel",
            "_view_count": null,
            "_view_module": "@jupyter-widgets/base",
            "_view_module_version": "1.2.0",
            "_view_name": "LayoutView",
            "align_content": null,
            "align_items": null,
            "align_self": null,
            "border": null,
            "bottom": null,
            "display": null,
            "flex": null,
            "flex_flow": null,
            "grid_area": null,
            "grid_auto_columns": null,
            "grid_auto_flow": null,
            "grid_auto_rows": null,
            "grid_column": null,
            "grid_gap": null,
            "grid_row": null,
            "grid_template_areas": null,
            "grid_template_columns": null,
            "grid_template_rows": null,
            "height": null,
            "justify_content": null,
            "justify_items": null,
            "left": null,
            "margin": null,
            "max_height": null,
            "max_width": null,
            "min_height": null,
            "min_width": null,
            "object_fit": null,
            "object_position": null,
            "order": null,
            "overflow": null,
            "overflow_x": null,
            "overflow_y": null,
            "padding": null,
            "right": null,
            "top": null,
            "visibility": null,
            "width": null
          }
        },
        "32c9f8447921430495b15541f90cb852": {
          "model_module": "@jupyter-widgets/controls",
          "model_name": "DescriptionStyleModel",
          "model_module_version": "1.5.0",
          "state": {
            "_model_module": "@jupyter-widgets/controls",
            "_model_module_version": "1.5.0",
            "_model_name": "DescriptionStyleModel",
            "_view_count": null,
            "_view_module": "@jupyter-widgets/base",
            "_view_module_version": "1.2.0",
            "_view_name": "StyleView",
            "description_width": ""
          }
        },
        "ae343ec73e6545d2b32fd84fe23d55f3": {
          "model_module": "@jupyter-widgets/controls",
          "model_name": "VBoxModel",
          "model_module_version": "1.5.0",
          "state": {
            "_dom_classes": [
              "widget-interact"
            ],
            "_model_module": "@jupyter-widgets/controls",
            "_model_module_version": "1.5.0",
            "_model_name": "VBoxModel",
            "_view_count": null,
            "_view_module": "@jupyter-widgets/controls",
            "_view_module_version": "1.5.0",
            "_view_name": "VBoxView",
            "box_style": "",
            "children": [
              "IPY_MODEL_d224d7da474345a6a9f0b2f5021dd888",
              "IPY_MODEL_dc5ccbf51a0448fe894efda8bee8f50a"
            ],
            "layout": "IPY_MODEL_56d5f561b7494f3a994219d2d25b6fc2"
          }
        },
        "d224d7da474345a6a9f0b2f5021dd888": {
          "model_module": "@jupyter-widgets/controls",
          "model_name": "ToggleButtonsModel",
          "model_module_version": "1.5.0",
          "state": {
            "_dom_classes": [],
            "_model_module": "@jupyter-widgets/controls",
            "_model_module_version": "1.5.0",
            "_model_name": "ToggleButtonsModel",
            "_options_labels": [
              "Pipeline Plot",
              "Hyperparameters",
              "Residuals",
              "Prediction Error",
              "Cooks Distance",
              "Feature Selection",
              "Learning Curve",
              "Manifold Learning",
              "Validation Curve",
              "Feature Importance",
              "Feature Importance (All)",
              "Decision Tree",
              "Interactive Residuals"
            ],
            "_view_count": null,
            "_view_module": "@jupyter-widgets/controls",
            "_view_module_version": "1.5.0",
            "_view_name": "ToggleButtonsView",
            "button_style": "",
            "description": "Plot Type:",
            "description_tooltip": null,
            "disabled": false,
            "icons": [
              ""
            ],
            "index": 10,
            "layout": "IPY_MODEL_e19b55b32825437eaabc1f339da1d5c8",
            "style": "IPY_MODEL_6c1d14f290ae475c866b48db07a26f8c",
            "tooltips": []
          }
        },
        "dc5ccbf51a0448fe894efda8bee8f50a": {
          "model_module": "@jupyter-widgets/output",
          "model_name": "OutputModel",
          "model_module_version": "1.0.0",
          "state": {
            "_dom_classes": [],
            "_model_module": "@jupyter-widgets/output",
            "_model_module_version": "1.0.0",
            "_model_name": "OutputModel",
            "_view_count": null,
            "_view_module": "@jupyter-widgets/output",
            "_view_module_version": "1.0.0",
            "_view_name": "OutputView",
            "layout": "IPY_MODEL_8348cfdfc12640eeb80a7c374b641eda",
            "msg_id": "",
            "outputs": [
              {
                "output_type": "display_data",
                "data": {
                  "text/plain": "<Figure size 800x500 with 1 Axes>",
                  "image/png": "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\n"
                },
                "metadata": {}
              }
            ]
          }
        },
        "56d5f561b7494f3a994219d2d25b6fc2": {
          "model_module": "@jupyter-widgets/base",
          "model_name": "LayoutModel",
          "model_module_version": "1.2.0",
          "state": {
            "_model_module": "@jupyter-widgets/base",
            "_model_module_version": "1.2.0",
            "_model_name": "LayoutModel",
            "_view_count": null,
            "_view_module": "@jupyter-widgets/base",
            "_view_module_version": "1.2.0",
            "_view_name": "LayoutView",
            "align_content": null,
            "align_items": null,
            "align_self": null,
            "border": null,
            "bottom": null,
            "display": null,
            "flex": null,
            "flex_flow": null,
            "grid_area": null,
            "grid_auto_columns": null,
            "grid_auto_flow": null,
            "grid_auto_rows": null,
            "grid_column": null,
            "grid_gap": null,
            "grid_row": null,
            "grid_template_areas": null,
            "grid_template_columns": null,
            "grid_template_rows": null,
            "height": null,
            "justify_content": null,
            "justify_items": null,
            "left": null,
            "margin": null,
            "max_height": null,
            "max_width": null,
            "min_height": null,
            "min_width": null,
            "object_fit": null,
            "object_position": null,
            "order": null,
            "overflow": null,
            "overflow_x": null,
            "overflow_y": null,
            "padding": null,
            "right": null,
            "top": null,
            "visibility": null,
            "width": null
          }
        },
        "e19b55b32825437eaabc1f339da1d5c8": {
          "model_module": "@jupyter-widgets/base",
          "model_name": "LayoutModel",
          "model_module_version": "1.2.0",
          "state": {
            "_model_module": "@jupyter-widgets/base",
            "_model_module_version": "1.2.0",
            "_model_name": "LayoutModel",
            "_view_count": null,
            "_view_module": "@jupyter-widgets/base",
            "_view_module_version": "1.2.0",
            "_view_name": "LayoutView",
            "align_content": null,
            "align_items": null,
            "align_self": null,
            "border": null,
            "bottom": null,
            "display": null,
            "flex": null,
            "flex_flow": null,
            "grid_area": null,
            "grid_auto_columns": null,
            "grid_auto_flow": null,
            "grid_auto_rows": null,
            "grid_column": null,
            "grid_gap": null,
            "grid_row": null,
            "grid_template_areas": null,
            "grid_template_columns": null,
            "grid_template_rows": null,
            "height": null,
            "justify_content": null,
            "justify_items": null,
            "left": null,
            "margin": null,
            "max_height": null,
            "max_width": null,
            "min_height": null,
            "min_width": null,
            "object_fit": null,
            "object_position": null,
            "order": null,
            "overflow": null,
            "overflow_x": null,
            "overflow_y": null,
            "padding": null,
            "right": null,
            "top": null,
            "visibility": null,
            "width": null
          }
        },
        "6c1d14f290ae475c866b48db07a26f8c": {
          "model_module": "@jupyter-widgets/controls",
          "model_name": "ToggleButtonsStyleModel",
          "model_module_version": "1.5.0",
          "state": {
            "_model_module": "@jupyter-widgets/controls",
            "_model_module_version": "1.5.0",
            "_model_name": "ToggleButtonsStyleModel",
            "_view_count": null,
            "_view_module": "@jupyter-widgets/base",
            "_view_module_version": "1.2.0",
            "_view_name": "StyleView",
            "button_width": "",
            "description_width": "",
            "font_weight": ""
          }
        },
        "8348cfdfc12640eeb80a7c374b641eda": {
          "model_module": "@jupyter-widgets/base",
          "model_name": "LayoutModel",
          "model_module_version": "1.2.0",
          "state": {
            "_model_module": "@jupyter-widgets/base",
            "_model_module_version": "1.2.0",
            "_model_name": "LayoutModel",
            "_view_count": null,
            "_view_module": "@jupyter-widgets/base",
            "_view_module_version": "1.2.0",
            "_view_name": "LayoutView",
            "align_content": null,
            "align_items": null,
            "align_self": null,
            "border": null,
            "bottom": null,
            "display": null,
            "flex": null,
            "flex_flow": null,
            "grid_area": null,
            "grid_auto_columns": null,
            "grid_auto_flow": null,
            "grid_auto_rows": null,
            "grid_column": null,
            "grid_gap": null,
            "grid_row": null,
            "grid_template_areas": null,
            "grid_template_columns": null,
            "grid_template_rows": null,
            "height": null,
            "justify_content": null,
            "justify_items": null,
            "left": null,
            "margin": null,
            "max_height": null,
            "max_width": null,
            "min_height": null,
            "min_width": null,
            "object_fit": null,
            "object_position": null,
            "order": null,
            "overflow": null,
            "overflow_x": null,
            "overflow_y": null,
            "padding": null,
            "right": null,
            "top": null,
            "visibility": null,
            "width": null
          }
        },
        "ed20814fa92c4a9aa217495780467fca": {
          "model_module": "@jupyter-widgets/controls",
          "model_name": "HBoxModel",
          "model_module_version": "1.5.0",
          "state": {
            "_dom_classes": [],
            "_model_module": "@jupyter-widgets/controls",
            "_model_module_version": "1.5.0",
            "_model_name": "HBoxModel",
            "_view_count": null,
            "_view_module": "@jupyter-widgets/controls",
            "_view_module_version": "1.5.0",
            "_view_name": "HBoxView",
            "box_style": "",
            "children": [
              "IPY_MODEL_56cf6c97945949dbaf56394309730551",
              "IPY_MODEL_0cecb59604b4485290c49e3994be6cd0",
              "IPY_MODEL_7892fd429df34f8ab042267ee6c977ca"
            ],
            "layout": "IPY_MODEL_d0e1d1f02dcb46aabd839a4e0f42a728"
          }
        },
        "56cf6c97945949dbaf56394309730551": {
          "model_module": "@jupyter-widgets/controls",
          "model_name": "HTMLModel",
          "model_module_version": "1.5.0",
          "state": {
            "_dom_classes": [],
            "_model_module": "@jupyter-widgets/controls",
            "_model_module_version": "1.5.0",
            "_model_name": "HTMLModel",
            "_view_count": null,
            "_view_module": "@jupyter-widgets/controls",
            "_view_module_version": "1.5.0",
            "_view_name": "HTMLView",
            "description": "",
            "description_tooltip": null,
            "layout": "IPY_MODEL_fc5cd4a93c444df29805582a7a280f69",
            "placeholder": "​",
            "style": "IPY_MODEL_407e0335272a450ba50d44d1dddabe23",
            "value": "Processing: 100%"
          }
        },
        "0cecb59604b4485290c49e3994be6cd0": {
          "model_module": "@jupyter-widgets/controls",
          "model_name": "FloatProgressModel",
          "model_module_version": "1.5.0",
          "state": {
            "_dom_classes": [],
            "_model_module": "@jupyter-widgets/controls",
            "_model_module_version": "1.5.0",
            "_model_name": "FloatProgressModel",
            "_view_count": null,
            "_view_module": "@jupyter-widgets/controls",
            "_view_module_version": "1.5.0",
            "_view_name": "ProgressView",
            "bar_style": "",
            "description": "",
            "description_tooltip": null,
            "layout": "IPY_MODEL_c7a42b8f40b240deba3456c4f5469355",
            "max": 81,
            "min": 0,
            "orientation": "horizontal",
            "style": "IPY_MODEL_009fc559b3124f5ca90a97ec6beee028",
            "value": 81
          }
        },
        "7892fd429df34f8ab042267ee6c977ca": {
          "model_module": "@jupyter-widgets/controls",
          "model_name": "HTMLModel",
          "model_module_version": "1.5.0",
          "state": {
            "_dom_classes": [],
            "_model_module": "@jupyter-widgets/controls",
            "_model_module_version": "1.5.0",
            "_model_name": "HTMLModel",
            "_view_count": null,
            "_view_module": "@jupyter-widgets/controls",
            "_view_module_version": "1.5.0",
            "_view_name": "HTMLView",
            "description": "",
            "description_tooltip": null,
            "layout": "IPY_MODEL_99ffb08718ff49e9a9994ea96aaa2302",
            "placeholder": "​",
            "style": "IPY_MODEL_1a5e897d2e9b4dca92136e88363be3a5",
            "value": " 81/81 [00:58&lt;00:00,  1.93it/s]"
          }
        },
        "d0e1d1f02dcb46aabd839a4e0f42a728": {
          "model_module": "@jupyter-widgets/base",
          "model_name": "LayoutModel",
          "model_module_version": "1.2.0",
          "state": {
            "_model_module": "@jupyter-widgets/base",
            "_model_module_version": "1.2.0",
            "_model_name": "LayoutModel",
            "_view_count": null,
            "_view_module": "@jupyter-widgets/base",
            "_view_module_version": "1.2.0",
            "_view_name": "LayoutView",
            "align_content": null,
            "align_items": null,
            "align_self": null,
            "border": null,
            "bottom": null,
            "display": null,
            "flex": null,
            "flex_flow": null,
            "grid_area": null,
            "grid_auto_columns": null,
            "grid_auto_flow": null,
            "grid_auto_rows": null,
            "grid_column": null,
            "grid_gap": null,
            "grid_row": null,
            "grid_template_areas": null,
            "grid_template_columns": null,
            "grid_template_rows": null,
            "height": null,
            "justify_content": null,
            "justify_items": null,
            "left": null,
            "margin": null,
            "max_height": null,
            "max_width": null,
            "min_height": null,
            "min_width": null,
            "object_fit": null,
            "object_position": null,
            "order": null,
            "overflow": null,
            "overflow_x": null,
            "overflow_y": null,
            "padding": null,
            "right": null,
            "top": null,
            "visibility": "hidden",
            "width": null
          }
        },
        "fc5cd4a93c444df29805582a7a280f69": {
          "model_module": "@jupyter-widgets/base",
          "model_name": "LayoutModel",
          "model_module_version": "1.2.0",
          "state": {
            "_model_module": "@jupyter-widgets/base",
            "_model_module_version": "1.2.0",
            "_model_name": "LayoutModel",
            "_view_count": null,
            "_view_module": "@jupyter-widgets/base",
            "_view_module_version": "1.2.0",
            "_view_name": "LayoutView",
            "align_content": null,
            "align_items": null,
            "align_self": null,
            "border": null,
            "bottom": null,
            "display": null,
            "flex": null,
            "flex_flow": null,
            "grid_area": null,
            "grid_auto_columns": null,
            "grid_auto_flow": null,
            "grid_auto_rows": null,
            "grid_column": null,
            "grid_gap": null,
            "grid_row": null,
            "grid_template_areas": null,
            "grid_template_columns": null,
            "grid_template_rows": null,
            "height": null,
            "justify_content": null,
            "justify_items": null,
            "left": null,
            "margin": null,
            "max_height": null,
            "max_width": null,
            "min_height": null,
            "min_width": null,
            "object_fit": null,
            "object_position": null,
            "order": null,
            "overflow": null,
            "overflow_x": null,
            "overflow_y": null,
            "padding": null,
            "right": null,
            "top": null,
            "visibility": null,
            "width": null
          }
        },
        "407e0335272a450ba50d44d1dddabe23": {
          "model_module": "@jupyter-widgets/controls",
          "model_name": "DescriptionStyleModel",
          "model_module_version": "1.5.0",
          "state": {
            "_model_module": "@jupyter-widgets/controls",
            "_model_module_version": "1.5.0",
            "_model_name": "DescriptionStyleModel",
            "_view_count": null,
            "_view_module": "@jupyter-widgets/base",
            "_view_module_version": "1.2.0",
            "_view_name": "StyleView",
            "description_width": ""
          }
        },
        "c7a42b8f40b240deba3456c4f5469355": {
          "model_module": "@jupyter-widgets/base",
          "model_name": "LayoutModel",
          "model_module_version": "1.2.0",
          "state": {
            "_model_module": "@jupyter-widgets/base",
            "_model_module_version": "1.2.0",
            "_model_name": "LayoutModel",
            "_view_count": null,
            "_view_module": "@jupyter-widgets/base",
            "_view_module_version": "1.2.0",
            "_view_name": "LayoutView",
            "align_content": null,
            "align_items": null,
            "align_self": null,
            "border": null,
            "bottom": null,
            "display": null,
            "flex": null,
            "flex_flow": null,
            "grid_area": null,
            "grid_auto_columns": null,
            "grid_auto_flow": null,
            "grid_auto_rows": null,
            "grid_column": null,
            "grid_gap": null,
            "grid_row": null,
            "grid_template_areas": null,
            "grid_template_columns": null,
            "grid_template_rows": null,
            "height": null,
            "justify_content": null,
            "justify_items": null,
            "left": null,
            "margin": null,
            "max_height": null,
            "max_width": null,
            "min_height": null,
            "min_width": null,
            "object_fit": null,
            "object_position": null,
            "order": null,
            "overflow": null,
            "overflow_x": null,
            "overflow_y": null,
            "padding": null,
            "right": null,
            "top": null,
            "visibility": null,
            "width": null
          }
        },
        "009fc559b3124f5ca90a97ec6beee028": {
          "model_module": "@jupyter-widgets/controls",
          "model_name": "ProgressStyleModel",
          "model_module_version": "1.5.0",
          "state": {
            "_model_module": "@jupyter-widgets/controls",
            "_model_module_version": "1.5.0",
            "_model_name": "ProgressStyleModel",
            "_view_count": null,
            "_view_module": "@jupyter-widgets/base",
            "_view_module_version": "1.2.0",
            "_view_name": "StyleView",
            "bar_color": null,
            "description_width": ""
          }
        },
        "99ffb08718ff49e9a9994ea96aaa2302": {
          "model_module": "@jupyter-widgets/base",
          "model_name": "LayoutModel",
          "model_module_version": "1.2.0",
          "state": {
            "_model_module": "@jupyter-widgets/base",
            "_model_module_version": "1.2.0",
            "_model_name": "LayoutModel",
            "_view_count": null,
            "_view_module": "@jupyter-widgets/base",
            "_view_module_version": "1.2.0",
            "_view_name": "LayoutView",
            "align_content": null,
            "align_items": null,
            "align_self": null,
            "border": null,
            "bottom": null,
            "display": null,
            "flex": null,
            "flex_flow": null,
            "grid_area": null,
            "grid_auto_columns": null,
            "grid_auto_flow": null,
            "grid_auto_rows": null,
            "grid_column": null,
            "grid_gap": null,
            "grid_row": null,
            "grid_template_areas": null,
            "grid_template_columns": null,
            "grid_template_rows": null,
            "height": null,
            "justify_content": null,
            "justify_items": null,
            "left": null,
            "margin": null,
            "max_height": null,
            "max_width": null,
            "min_height": null,
            "min_width": null,
            "object_fit": null,
            "object_position": null,
            "order": null,
            "overflow": null,
            "overflow_x": null,
            "overflow_y": null,
            "padding": null,
            "right": null,
            "top": null,
            "visibility": null,
            "width": null
          }
        },
        "1a5e897d2e9b4dca92136e88363be3a5": {
          "model_module": "@jupyter-widgets/controls",
          "model_name": "DescriptionStyleModel",
          "model_module_version": "1.5.0",
          "state": {
            "_model_module": "@jupyter-widgets/controls",
            "_model_module_version": "1.5.0",
            "_model_name": "DescriptionStyleModel",
            "_view_count": null,
            "_view_module": "@jupyter-widgets/base",
            "_view_module_version": "1.2.0",
            "_view_name": "StyleView",
            "description_width": ""
          }
        },
        "7da8ef40054248a594bbceebd0a9bd1c": {
          "model_module": "@jupyter-widgets/controls",
          "model_name": "HBoxModel",
          "model_module_version": "1.5.0",
          "state": {
            "_dom_classes": [],
            "_model_module": "@jupyter-widgets/controls",
            "_model_module_version": "1.5.0",
            "_model_name": "HBoxModel",
            "_view_count": null,
            "_view_module": "@jupyter-widgets/controls",
            "_view_module_version": "1.5.0",
            "_view_name": "HBoxView",
            "box_style": "",
            "children": [
              "IPY_MODEL_014411d082734de184fa85557d73bb34",
              "IPY_MODEL_8f8539e7939e4f72aeb8b34afacc9d1e",
              "IPY_MODEL_ab8c348f0ace44bc8d82884e26dfd001"
            ],
            "layout": "IPY_MODEL_087828b4743c41dcb045a0239656fab3"
          }
        },
        "014411d082734de184fa85557d73bb34": {
          "model_module": "@jupyter-widgets/controls",
          "model_name": "HTMLModel",
          "model_module_version": "1.5.0",
          "state": {
            "_dom_classes": [],
            "_model_module": "@jupyter-widgets/controls",
            "_model_module_version": "1.5.0",
            "_model_name": "HTMLModel",
            "_view_count": null,
            "_view_module": "@jupyter-widgets/controls",
            "_view_module_version": "1.5.0",
            "_view_name": "HTMLView",
            "description": "",
            "description_tooltip": null,
            "layout": "IPY_MODEL_3157af18cfae4609b214172764529de5",
            "placeholder": "​",
            "style": "IPY_MODEL_4acb21e88e714373a195040d718b76bd",
            "value": "Processing: 100%"
          }
        },
        "8f8539e7939e4f72aeb8b34afacc9d1e": {
          "model_module": "@jupyter-widgets/controls",
          "model_name": "FloatProgressModel",
          "model_module_version": "1.5.0",
          "state": {
            "_dom_classes": [],
            "_model_module": "@jupyter-widgets/controls",
            "_model_module_version": "1.5.0",
            "_model_name": "FloatProgressModel",
            "_view_count": null,
            "_view_module": "@jupyter-widgets/controls",
            "_view_module_version": "1.5.0",
            "_view_name": "ProgressView",
            "bar_style": "",
            "description": "",
            "description_tooltip": null,
            "layout": "IPY_MODEL_5ef2e6fe486649b097f5ea2ae93ee5af",
            "max": 4,
            "min": 0,
            "orientation": "horizontal",
            "style": "IPY_MODEL_8226f8c2195c47749af9c1abb10f991a",
            "value": 4
          }
        },
        "ab8c348f0ace44bc8d82884e26dfd001": {
          "model_module": "@jupyter-widgets/controls",
          "model_name": "HTMLModel",
          "model_module_version": "1.5.0",
          "state": {
            "_dom_classes": [],
            "_model_module": "@jupyter-widgets/controls",
            "_model_module_version": "1.5.0",
            "_model_name": "HTMLModel",
            "_view_count": null,
            "_view_module": "@jupyter-widgets/controls",
            "_view_module_version": "1.5.0",
            "_view_name": "HTMLView",
            "description": "",
            "description_tooltip": null,
            "layout": "IPY_MODEL_792c09ce872a441fbdf1ecbe92a30783",
            "placeholder": "​",
            "style": "IPY_MODEL_211f84ea28d24425b5be560adc88dbd3",
            "value": " 4/4 [00:18&lt;00:00,  4.35s/it]"
          }
        },
        "087828b4743c41dcb045a0239656fab3": {
          "model_module": "@jupyter-widgets/base",
          "model_name": "LayoutModel",
          "model_module_version": "1.2.0",
          "state": {
            "_model_module": "@jupyter-widgets/base",
            "_model_module_version": "1.2.0",
            "_model_name": "LayoutModel",
            "_view_count": null,
            "_view_module": "@jupyter-widgets/base",
            "_view_module_version": "1.2.0",
            "_view_name": "LayoutView",
            "align_content": null,
            "align_items": null,
            "align_self": null,
            "border": null,
            "bottom": null,
            "display": null,
            "flex": null,
            "flex_flow": null,
            "grid_area": null,
            "grid_auto_columns": null,
            "grid_auto_flow": null,
            "grid_auto_rows": null,
            "grid_column": null,
            "grid_gap": null,
            "grid_row": null,
            "grid_template_areas": null,
            "grid_template_columns": null,
            "grid_template_rows": null,
            "height": null,
            "justify_content": null,
            "justify_items": null,
            "left": null,
            "margin": null,
            "max_height": null,
            "max_width": null,
            "min_height": null,
            "min_width": null,
            "object_fit": null,
            "object_position": null,
            "order": null,
            "overflow": null,
            "overflow_x": null,
            "overflow_y": null,
            "padding": null,
            "right": null,
            "top": null,
            "visibility": "hidden",
            "width": null
          }
        },
        "3157af18cfae4609b214172764529de5": {
          "model_module": "@jupyter-widgets/base",
          "model_name": "LayoutModel",
          "model_module_version": "1.2.0",
          "state": {
            "_model_module": "@jupyter-widgets/base",
            "_model_module_version": "1.2.0",
            "_model_name": "LayoutModel",
            "_view_count": null,
            "_view_module": "@jupyter-widgets/base",
            "_view_module_version": "1.2.0",
            "_view_name": "LayoutView",
            "align_content": null,
            "align_items": null,
            "align_self": null,
            "border": null,
            "bottom": null,
            "display": null,
            "flex": null,
            "flex_flow": null,
            "grid_area": null,
            "grid_auto_columns": null,
            "grid_auto_flow": null,
            "grid_auto_rows": null,
            "grid_column": null,
            "grid_gap": null,
            "grid_row": null,
            "grid_template_areas": null,
            "grid_template_columns": null,
            "grid_template_rows": null,
            "height": null,
            "justify_content": null,
            "justify_items": null,
            "left": null,
            "margin": null,
            "max_height": null,
            "max_width": null,
            "min_height": null,
            "min_width": null,
            "object_fit": null,
            "object_position": null,
            "order": null,
            "overflow": null,
            "overflow_x": null,
            "overflow_y": null,
            "padding": null,
            "right": null,
            "top": null,
            "visibility": null,
            "width": null
          }
        },
        "4acb21e88e714373a195040d718b76bd": {
          "model_module": "@jupyter-widgets/controls",
          "model_name": "DescriptionStyleModel",
          "model_module_version": "1.5.0",
          "state": {
            "_model_module": "@jupyter-widgets/controls",
            "_model_module_version": "1.5.0",
            "_model_name": "DescriptionStyleModel",
            "_view_count": null,
            "_view_module": "@jupyter-widgets/base",
            "_view_module_version": "1.2.0",
            "_view_name": "StyleView",
            "description_width": ""
          }
        },
        "5ef2e6fe486649b097f5ea2ae93ee5af": {
          "model_module": "@jupyter-widgets/base",
          "model_name": "LayoutModel",
          "model_module_version": "1.2.0",
          "state": {
            "_model_module": "@jupyter-widgets/base",
            "_model_module_version": "1.2.0",
            "_model_name": "LayoutModel",
            "_view_count": null,
            "_view_module": "@jupyter-widgets/base",
            "_view_module_version": "1.2.0",
            "_view_name": "LayoutView",
            "align_content": null,
            "align_items": null,
            "align_self": null,
            "border": null,
            "bottom": null,
            "display": null,
            "flex": null,
            "flex_flow": null,
            "grid_area": null,
            "grid_auto_columns": null,
            "grid_auto_flow": null,
            "grid_auto_rows": null,
            "grid_column": null,
            "grid_gap": null,
            "grid_row": null,
            "grid_template_areas": null,
            "grid_template_columns": null,
            "grid_template_rows": null,
            "height": null,
            "justify_content": null,
            "justify_items": null,
            "left": null,
            "margin": null,
            "max_height": null,
            "max_width": null,
            "min_height": null,
            "min_width": null,
            "object_fit": null,
            "object_position": null,
            "order": null,
            "overflow": null,
            "overflow_x": null,
            "overflow_y": null,
            "padding": null,
            "right": null,
            "top": null,
            "visibility": null,
            "width": null
          }
        },
        "8226f8c2195c47749af9c1abb10f991a": {
          "model_module": "@jupyter-widgets/controls",
          "model_name": "ProgressStyleModel",
          "model_module_version": "1.5.0",
          "state": {
            "_model_module": "@jupyter-widgets/controls",
            "_model_module_version": "1.5.0",
            "_model_name": "ProgressStyleModel",
            "_view_count": null,
            "_view_module": "@jupyter-widgets/base",
            "_view_module_version": "1.2.0",
            "_view_name": "StyleView",
            "bar_color": null,
            "description_width": ""
          }
        },
        "792c09ce872a441fbdf1ecbe92a30783": {
          "model_module": "@jupyter-widgets/base",
          "model_name": "LayoutModel",
          "model_module_version": "1.2.0",
          "state": {
            "_model_module": "@jupyter-widgets/base",
            "_model_module_version": "1.2.0",
            "_model_name": "LayoutModel",
            "_view_count": null,
            "_view_module": "@jupyter-widgets/base",
            "_view_module_version": "1.2.0",
            "_view_name": "LayoutView",
            "align_content": null,
            "align_items": null,
            "align_self": null,
            "border": null,
            "bottom": null,
            "display": null,
            "flex": null,
            "flex_flow": null,
            "grid_area": null,
            "grid_auto_columns": null,
            "grid_auto_flow": null,
            "grid_auto_rows": null,
            "grid_column": null,
            "grid_gap": null,
            "grid_row": null,
            "grid_template_areas": null,
            "grid_template_columns": null,
            "grid_template_rows": null,
            "height": null,
            "justify_content": null,
            "justify_items": null,
            "left": null,
            "margin": null,
            "max_height": null,
            "max_width": null,
            "min_height": null,
            "min_width": null,
            "object_fit": null,
            "object_position": null,
            "order": null,
            "overflow": null,
            "overflow_x": null,
            "overflow_y": null,
            "padding": null,
            "right": null,
            "top": null,
            "visibility": null,
            "width": null
          }
        },
        "211f84ea28d24425b5be560adc88dbd3": {
          "model_module": "@jupyter-widgets/controls",
          "model_name": "DescriptionStyleModel",
          "model_module_version": "1.5.0",
          "state": {
            "_model_module": "@jupyter-widgets/controls",
            "_model_module_version": "1.5.0",
            "_model_name": "DescriptionStyleModel",
            "_view_count": null,
            "_view_module": "@jupyter-widgets/base",
            "_view_module_version": "1.2.0",
            "_view_name": "StyleView",
            "description_width": ""
          }
        },
        "050519846112448590be9e116d2d542d": {
          "model_module": "@jupyter-widgets/controls",
          "model_name": "HBoxModel",
          "model_module_version": "1.5.0",
          "state": {
            "_dom_classes": [],
            "_model_module": "@jupyter-widgets/controls",
            "_model_module_version": "1.5.0",
            "_model_name": "HBoxModel",
            "_view_count": null,
            "_view_module": "@jupyter-widgets/controls",
            "_view_module_version": "1.5.0",
            "_view_name": "HBoxView",
            "box_style": "",
            "children": [
              "IPY_MODEL_12f76895f87f41b19f81be1984a10eb2",
              "IPY_MODEL_5028f99858be49bfae1a6913370ed4d8",
              "IPY_MODEL_2a5bd746825b47b7952ab416b4a4aecc"
            ],
            "layout": "IPY_MODEL_0111ff4c27a8449d85cbf38409c52185"
          }
        },
        "12f76895f87f41b19f81be1984a10eb2": {
          "model_module": "@jupyter-widgets/controls",
          "model_name": "HTMLModel",
          "model_module_version": "1.5.0",
          "state": {
            "_dom_classes": [],
            "_model_module": "@jupyter-widgets/controls",
            "_model_module_version": "1.5.0",
            "_model_name": "HTMLModel",
            "_view_count": null,
            "_view_module": "@jupyter-widgets/controls",
            "_view_module_version": "1.5.0",
            "_view_name": "HTMLView",
            "description": "",
            "description_tooltip": null,
            "layout": "IPY_MODEL_df77309a7f664c869cb002e43550b76c",
            "placeholder": "​",
            "style": "IPY_MODEL_bb2c7f749c78423292013b9b66999ec0",
            "value": "Processing: 100%"
          }
        },
        "5028f99858be49bfae1a6913370ed4d8": {
          "model_module": "@jupyter-widgets/controls",
          "model_name": "FloatProgressModel",
          "model_module_version": "1.5.0",
          "state": {
            "_dom_classes": [],
            "_model_module": "@jupyter-widgets/controls",
            "_model_module_version": "1.5.0",
            "_model_name": "FloatProgressModel",
            "_view_count": null,
            "_view_module": "@jupyter-widgets/controls",
            "_view_module_version": "1.5.0",
            "_view_name": "ProgressView",
            "bar_style": "",
            "description": "",
            "description_tooltip": null,
            "layout": "IPY_MODEL_6a7e70d212834c289c9ca6f7d76d9283",
            "max": 7,
            "min": 0,
            "orientation": "horizontal",
            "style": "IPY_MODEL_4b2fc6e5eef34099963e8e39987027f5",
            "value": 7
          }
        },
        "2a5bd746825b47b7952ab416b4a4aecc": {
          "model_module": "@jupyter-widgets/controls",
          "model_name": "HTMLModel",
          "model_module_version": "1.5.0",
          "state": {
            "_dom_classes": [],
            "_model_module": "@jupyter-widgets/controls",
            "_model_module_version": "1.5.0",
            "_model_name": "HTMLModel",
            "_view_count": null,
            "_view_module": "@jupyter-widgets/controls",
            "_view_module_version": "1.5.0",
            "_view_name": "HTMLView",
            "description": "",
            "description_tooltip": null,
            "layout": "IPY_MODEL_9bef3b967d134b7fa15d5813f94d460d",
            "placeholder": "​",
            "style": "IPY_MODEL_04291812dbc34c12a1a44d2ad7c15052",
            "value": " 7/7 [02:34&lt;00:00, 16.86s/it]"
          }
        },
        "0111ff4c27a8449d85cbf38409c52185": {
          "model_module": "@jupyter-widgets/base",
          "model_name": "LayoutModel",
          "model_module_version": "1.2.0",
          "state": {
            "_model_module": "@jupyter-widgets/base",
            "_model_module_version": "1.2.0",
            "_model_name": "LayoutModel",
            "_view_count": null,
            "_view_module": "@jupyter-widgets/base",
            "_view_module_version": "1.2.0",
            "_view_name": "LayoutView",
            "align_content": null,
            "align_items": null,
            "align_self": null,
            "border": null,
            "bottom": null,
            "display": null,
            "flex": null,
            "flex_flow": null,
            "grid_area": null,
            "grid_auto_columns": null,
            "grid_auto_flow": null,
            "grid_auto_rows": null,
            "grid_column": null,
            "grid_gap": null,
            "grid_row": null,
            "grid_template_areas": null,
            "grid_template_columns": null,
            "grid_template_rows": null,
            "height": null,
            "justify_content": null,
            "justify_items": null,
            "left": null,
            "margin": null,
            "max_height": null,
            "max_width": null,
            "min_height": null,
            "min_width": null,
            "object_fit": null,
            "object_position": null,
            "order": null,
            "overflow": null,
            "overflow_x": null,
            "overflow_y": null,
            "padding": null,
            "right": null,
            "top": null,
            "visibility": "hidden",
            "width": null
          }
        },
        "df77309a7f664c869cb002e43550b76c": {
          "model_module": "@jupyter-widgets/base",
          "model_name": "LayoutModel",
          "model_module_version": "1.2.0",
          "state": {
            "_model_module": "@jupyter-widgets/base",
            "_model_module_version": "1.2.0",
            "_model_name": "LayoutModel",
            "_view_count": null,
            "_view_module": "@jupyter-widgets/base",
            "_view_module_version": "1.2.0",
            "_view_name": "LayoutView",
            "align_content": null,
            "align_items": null,
            "align_self": null,
            "border": null,
            "bottom": null,
            "display": null,
            "flex": null,
            "flex_flow": null,
            "grid_area": null,
            "grid_auto_columns": null,
            "grid_auto_flow": null,
            "grid_auto_rows": null,
            "grid_column": null,
            "grid_gap": null,
            "grid_row": null,
            "grid_template_areas": null,
            "grid_template_columns": null,
            "grid_template_rows": null,
            "height": null,
            "justify_content": null,
            "justify_items": null,
            "left": null,
            "margin": null,
            "max_height": null,
            "max_width": null,
            "min_height": null,
            "min_width": null,
            "object_fit": null,
            "object_position": null,
            "order": null,
            "overflow": null,
            "overflow_x": null,
            "overflow_y": null,
            "padding": null,
            "right": null,
            "top": null,
            "visibility": null,
            "width": null
          }
        },
        "bb2c7f749c78423292013b9b66999ec0": {
          "model_module": "@jupyter-widgets/controls",
          "model_name": "DescriptionStyleModel",
          "model_module_version": "1.5.0",
          "state": {
            "_model_module": "@jupyter-widgets/controls",
            "_model_module_version": "1.5.0",
            "_model_name": "DescriptionStyleModel",
            "_view_count": null,
            "_view_module": "@jupyter-widgets/base",
            "_view_module_version": "1.2.0",
            "_view_name": "StyleView",
            "description_width": ""
          }
        },
        "6a7e70d212834c289c9ca6f7d76d9283": {
          "model_module": "@jupyter-widgets/base",
          "model_name": "LayoutModel",
          "model_module_version": "1.2.0",
          "state": {
            "_model_module": "@jupyter-widgets/base",
            "_model_module_version": "1.2.0",
            "_model_name": "LayoutModel",
            "_view_count": null,
            "_view_module": "@jupyter-widgets/base",
            "_view_module_version": "1.2.0",
            "_view_name": "LayoutView",
            "align_content": null,
            "align_items": null,
            "align_self": null,
            "border": null,
            "bottom": null,
            "display": null,
            "flex": null,
            "flex_flow": null,
            "grid_area": null,
            "grid_auto_columns": null,
            "grid_auto_flow": null,
            "grid_auto_rows": null,
            "grid_column": null,
            "grid_gap": null,
            "grid_row": null,
            "grid_template_areas": null,
            "grid_template_columns": null,
            "grid_template_rows": null,
            "height": null,
            "justify_content": null,
            "justify_items": null,
            "left": null,
            "margin": null,
            "max_height": null,
            "max_width": null,
            "min_height": null,
            "min_width": null,
            "object_fit": null,
            "object_position": null,
            "order": null,
            "overflow": null,
            "overflow_x": null,
            "overflow_y": null,
            "padding": null,
            "right": null,
            "top": null,
            "visibility": null,
            "width": null
          }
        },
        "4b2fc6e5eef34099963e8e39987027f5": {
          "model_module": "@jupyter-widgets/controls",
          "model_name": "ProgressStyleModel",
          "model_module_version": "1.5.0",
          "state": {
            "_model_module": "@jupyter-widgets/controls",
            "_model_module_version": "1.5.0",
            "_model_name": "ProgressStyleModel",
            "_view_count": null,
            "_view_module": "@jupyter-widgets/base",
            "_view_module_version": "1.2.0",
            "_view_name": "StyleView",
            "bar_color": null,
            "description_width": ""
          }
        },
        "9bef3b967d134b7fa15d5813f94d460d": {
          "model_module": "@jupyter-widgets/base",
          "model_name": "LayoutModel",
          "model_module_version": "1.2.0",
          "state": {
            "_model_module": "@jupyter-widgets/base",
            "_model_module_version": "1.2.0",
            "_model_name": "LayoutModel",
            "_view_count": null,
            "_view_module": "@jupyter-widgets/base",
            "_view_module_version": "1.2.0",
            "_view_name": "LayoutView",
            "align_content": null,
            "align_items": null,
            "align_self": null,
            "border": null,
            "bottom": null,
            "display": null,
            "flex": null,
            "flex_flow": null,
            "grid_area": null,
            "grid_auto_columns": null,
            "grid_auto_flow": null,
            "grid_auto_rows": null,
            "grid_column": null,
            "grid_gap": null,
            "grid_row": null,
            "grid_template_areas": null,
            "grid_template_columns": null,
            "grid_template_rows": null,
            "height": null,
            "justify_content": null,
            "justify_items": null,
            "left": null,
            "margin": null,
            "max_height": null,
            "max_width": null,
            "min_height": null,
            "min_width": null,
            "object_fit": null,
            "object_position": null,
            "order": null,
            "overflow": null,
            "overflow_x": null,
            "overflow_y": null,
            "padding": null,
            "right": null,
            "top": null,
            "visibility": null,
            "width": null
          }
        },
        "04291812dbc34c12a1a44d2ad7c15052": {
          "model_module": "@jupyter-widgets/controls",
          "model_name": "DescriptionStyleModel",
          "model_module_version": "1.5.0",
          "state": {
            "_model_module": "@jupyter-widgets/controls",
            "_model_module_version": "1.5.0",
            "_model_name": "DescriptionStyleModel",
            "_view_count": null,
            "_view_module": "@jupyter-widgets/base",
            "_view_module_version": "1.2.0",
            "_view_name": "StyleView",
            "description_width": ""
          }
        },
        "48c753486b8b4a348259b9078a573147": {
          "model_module": "@jupyter-widgets/controls",
          "model_name": "VBoxModel",
          "model_module_version": "1.5.0",
          "state": {
            "_dom_classes": [
              "widget-interact"
            ],
            "_model_module": "@jupyter-widgets/controls",
            "_model_module_version": "1.5.0",
            "_model_name": "VBoxModel",
            "_view_count": null,
            "_view_module": "@jupyter-widgets/controls",
            "_view_module_version": "1.5.0",
            "_view_name": "VBoxView",
            "box_style": "",
            "children": [
              "IPY_MODEL_ffd658e652394c069aa8819e341b7a21",
              "IPY_MODEL_b3700ff46e494bc480d220f482253244"
            ],
            "layout": "IPY_MODEL_a4ace2593be04547aa1d7922e4dca154"
          }
        },
        "ffd658e652394c069aa8819e341b7a21": {
          "model_module": "@jupyter-widgets/controls",
          "model_name": "ToggleButtonsModel",
          "model_module_version": "1.5.0",
          "state": {
            "_dom_classes": [],
            "_model_module": "@jupyter-widgets/controls",
            "_model_module_version": "1.5.0",
            "_model_name": "ToggleButtonsModel",
            "_options_labels": [
              "Pipeline Plot",
              "Hyperparameters",
              "Residuals",
              "Prediction Error",
              "Cooks Distance",
              "Feature Selection",
              "Learning Curve",
              "Manifold Learning",
              "Validation Curve",
              "Feature Importance",
              "Feature Importance (All)",
              "Decision Tree",
              "Interactive Residuals"
            ],
            "_view_count": null,
            "_view_module": "@jupyter-widgets/controls",
            "_view_module_version": "1.5.0",
            "_view_name": "ToggleButtonsView",
            "button_style": "",
            "description": "Plot Type:",
            "description_tooltip": null,
            "disabled": false,
            "icons": [
              ""
            ],
            "index": 1,
            "layout": "IPY_MODEL_244798ab080743c8aec58843e8cc9b2f",
            "style": "IPY_MODEL_52a204b41c2f4d5993fab0c47528cd7e",
            "tooltips": []
          }
        },
        "b3700ff46e494bc480d220f482253244": {
          "model_module": "@jupyter-widgets/output",
          "model_name": "OutputModel",
          "model_module_version": "1.0.0",
          "state": {
            "_dom_classes": [],
            "_model_module": "@jupyter-widgets/output",
            "_model_module_version": "1.0.0",
            "_model_name": "OutputModel",
            "_view_count": null,
            "_view_module": "@jupyter-widgets/output",
            "_view_module_version": "1.0.0",
            "_view_name": "OutputView",
            "layout": "IPY_MODEL_0aeeac8a3f534365be0b82006f2d2cf0",
            "msg_id": "",
            "outputs": [
              {
                "output_type": "display_data",
                "data": {
                  "text/plain": "                             Parameters\nbootstrap                          True\nccp_alpha                           0.0\ncriterion                 squared_error\nmax_depth                            11\nmax_features                       log2\nmax_leaf_nodes                     None\nmax_samples                        None\nmin_impurity_decrease            0.0002\nmin_samples_leaf                      5\nmin_samples_split                    10\nmin_weight_fraction_leaf            0.0\nn_estimators                        180\nn_jobs                               -1\noob_score                         False\nrandom_state                        469\nverbose                               0\nwarm_start                        False",
                  "text/html": "\n  <div id=\"df-05907d0f-296f-4375-9b58-6a52938ae6e5\" class=\"colab-df-container\">\n    <div>\n<style scoped>\n    .dataframe tbody tr th:only-of-type {\n        vertical-align: middle;\n    }\n\n    .dataframe tbody tr th {\n        vertical-align: top;\n    }\n\n    .dataframe thead th {\n        text-align: right;\n    }\n</style>\n<table border=\"1\" class=\"dataframe\">\n  <thead>\n    <tr style=\"text-align: right;\">\n      <th></th>\n      <th>Parameters</th>\n    </tr>\n  </thead>\n  <tbody>\n    <tr>\n      <th>bootstrap</th>\n      <td>True</td>\n    </tr>\n    <tr>\n      <th>ccp_alpha</th>\n      <td>0.0</td>\n    </tr>\n    <tr>\n      <th>criterion</th>\n      <td>squared_error</td>\n    </tr>\n    <tr>\n      <th>max_depth</th>\n      <td>11</td>\n    </tr>\n    <tr>\n      <th>max_features</th>\n      <td>log2</td>\n    </tr>\n    <tr>\n      <th>max_leaf_nodes</th>\n      <td>None</td>\n    </tr>\n    <tr>\n      <th>max_samples</th>\n      <td>None</td>\n    </tr>\n    <tr>\n      <th>min_impurity_decrease</th>\n      <td>0.0002</td>\n    </tr>\n    <tr>\n      <th>min_samples_leaf</th>\n      <td>5</td>\n    </tr>\n    <tr>\n      <th>min_samples_split</th>\n      <td>10</td>\n    </tr>\n    <tr>\n      <th>min_weight_fraction_leaf</th>\n      <td>0.0</td>\n    </tr>\n    <tr>\n      <th>n_estimators</th>\n      <td>180</td>\n    </tr>\n    <tr>\n      <th>n_jobs</th>\n      <td>-1</td>\n    </tr>\n    <tr>\n      <th>oob_score</th>\n      <td>False</td>\n    </tr>\n    <tr>\n      <th>random_state</th>\n      <td>469</td>\n    </tr>\n    <tr>\n      <th>verbose</th>\n      <td>0</td>\n    </tr>\n    <tr>\n      <th>warm_start</th>\n      <td>False</td>\n    </tr>\n  </tbody>\n</table>\n</div>\n    <div class=\"colab-df-buttons\">\n\n  <div class=\"colab-df-container\">\n    <button class=\"colab-df-convert\" onclick=\"convertToInteractive('df-05907d0f-296f-4375-9b58-6a52938ae6e5')\"\n            title=\"Convert this dataframe to an interactive table.\"\n            style=\"display:none;\">\n\n  <svg xmlns=\"http://www.w3.org/2000/svg\" height=\"24px\" viewBox=\"0 -960 960 960\">\n    <path d=\"M120-120v-720h720v720H120Zm60-500h600v-160H180v160Zm220 220h160v-160H400v160Zm0 220h160v-160H400v160ZM180-400h160v-160H180v160Zm440 0h160v-160H620v160ZM180-180h160v-160H180v160Zm440 0h160v-160H620v160Z\"/>\n  </svg>\n    </button>\n\n  <style>\n    .colab-df-container {\n      display:flex;\n      gap: 12px;\n    }\n\n    .colab-df-convert {\n      background-color: #E8F0FE;\n      border: none;\n      border-radius: 50%;\n      cursor: pointer;\n      display: none;\n      fill: #1967D2;\n      height: 32px;\n      padding: 0 0 0 0;\n      width: 32px;\n    }\n\n    .colab-df-convert:hover {\n      background-color: #E2EBFA;\n      box-shadow: 0px 1px 2px rgba(60, 64, 67, 0.3), 0px 1px 3px 1px rgba(60, 64, 67, 0.15);\n      fill: #174EA6;\n    }\n\n    .colab-df-buttons div {\n      margin-bottom: 4px;\n    }\n\n    [theme=dark] .colab-df-convert {\n      background-color: #3B4455;\n      fill: #D2E3FC;\n    }\n\n    [theme=dark] .colab-df-convert:hover {\n      background-color: #434B5C;\n      box-shadow: 0px 1px 3px 1px rgba(0, 0, 0, 0.15);\n      filter: drop-shadow(0px 1px 2px rgba(0, 0, 0, 0.3));\n      fill: #FFFFFF;\n    }\n  </style>\n\n    <script>\n      const buttonEl =\n        document.querySelector('#df-05907d0f-296f-4375-9b58-6a52938ae6e5 button.colab-df-convert');\n      buttonEl.style.display =\n        google.colab.kernel.accessAllowed ? 'block' : 'none';\n\n      async function convertToInteractive(key) {\n        const element = document.querySelector('#df-05907d0f-296f-4375-9b58-6a52938ae6e5');\n        const dataTable =\n          await google.colab.kernel.invokeFunction('convertToInteractive',\n                                                    [key], {});\n        if (!dataTable) return;\n\n        const docLinkHtml = 'Like what you see? Visit the ' +\n          '<a target=\"_blank\" href=https://colab.research.google.com/notebooks/data_table.ipynb>data table notebook</a>'\n          + ' to learn more about interactive tables.';\n        element.innerHTML = '';\n        dataTable['output_type'] = 'display_data';\n        await google.colab.output.renderOutput(dataTable, element);\n        const docLink = document.createElement('div');\n        docLink.innerHTML = docLinkHtml;\n        element.appendChild(docLink);\n      }\n    </script>\n  </div>\n\n\n<div id=\"df-cb02bbbd-25b9-4b69-bd36-fc64f7004cea\">\n  <button class=\"colab-df-quickchart\" onclick=\"quickchart('df-cb02bbbd-25b9-4b69-bd36-fc64f7004cea')\"\n            title=\"Suggest charts.\"\n            style=\"display:none;\">\n\n<svg xmlns=\"http://www.w3.org/2000/svg\" height=\"24px\"viewBox=\"0 0 24 24\"\n     width=\"24px\">\n    <g>\n        <path d=\"M19 3H5c-1.1 0-2 .9-2 2v14c0 1.1.9 2 2 2h14c1.1 0 2-.9 2-2V5c0-1.1-.9-2-2-2zM9 17H7v-7h2v7zm4 0h-2V7h2v10zm4 0h-2v-4h2v4z\"/>\n    </g>\n</svg>\n  </button>\n\n<style>\n  .colab-df-quickchart {\n      --bg-color: #E8F0FE;\n      --fill-color: #1967D2;\n      --hover-bg-color: #E2EBFA;\n      --hover-fill-color: #174EA6;\n      --disabled-fill-color: #AAA;\n      --disabled-bg-color: #DDD;\n  }\n\n  [theme=dark] .colab-df-quickchart {\n      --bg-color: #3B4455;\n      --fill-color: #D2E3FC;\n      --hover-bg-color: #434B5C;\n      --hover-fill-color: #FFFFFF;\n      --disabled-bg-color: #3B4455;\n      --disabled-fill-color: #666;\n  }\n\n  .colab-df-quickchart {\n    background-color: var(--bg-color);\n    border: none;\n    border-radius: 50%;\n    cursor: pointer;\n    display: none;\n    fill: var(--fill-color);\n    height: 32px;\n    padding: 0;\n    width: 32px;\n  }\n\n  .colab-df-quickchart:hover {\n    background-color: var(--hover-bg-color);\n    box-shadow: 0 1px 2px rgba(60, 64, 67, 0.3), 0 1px 3px 1px rgba(60, 64, 67, 0.15);\n    fill: var(--button-hover-fill-color);\n  }\n\n  .colab-df-quickchart-complete:disabled,\n  .colab-df-quickchart-complete:disabled:hover {\n    background-color: var(--disabled-bg-color);\n    fill: var(--disabled-fill-color);\n    box-shadow: none;\n  }\n\n  .colab-df-spinner {\n    border: 2px solid var(--fill-color);\n    border-color: transparent;\n    border-bottom-color: var(--fill-color);\n    animation:\n      spin 1s steps(1) infinite;\n  }\n\n  @keyframes spin {\n    0% {\n      border-color: transparent;\n      border-bottom-color: var(--fill-color);\n      border-left-color: var(--fill-color);\n    }\n    20% {\n      border-color: transparent;\n      border-left-color: var(--fill-color);\n      border-top-color: var(--fill-color);\n    }\n    30% {\n      border-color: transparent;\n      border-left-color: var(--fill-color);\n      border-top-color: var(--fill-color);\n      border-right-color: var(--fill-color);\n    }\n    40% {\n      border-color: transparent;\n      border-right-color: var(--fill-color);\n      border-top-color: var(--fill-color);\n    }\n    60% {\n      border-color: transparent;\n      border-right-color: var(--fill-color);\n    }\n    80% {\n      border-color: transparent;\n      border-right-color: var(--fill-color);\n      border-bottom-color: var(--fill-color);\n    }\n    90% {\n      border-color: transparent;\n      border-bottom-color: var(--fill-color);\n    }\n  }\n</style>\n\n  <script>\n    async function quickchart(key) {\n      const quickchartButtonEl =\n        document.querySelector('#' + key + ' button');\n      quickchartButtonEl.disabled = true;  // To prevent multiple clicks.\n      quickchartButtonEl.classList.add('colab-df-spinner');\n      try {\n        const charts = await google.colab.kernel.invokeFunction(\n            'suggestCharts', [key], {});\n      } catch (error) {\n        console.error('Error during call to suggestCharts:', error);\n      }\n      quickchartButtonEl.classList.remove('colab-df-spinner');\n      quickchartButtonEl.classList.add('colab-df-quickchart-complete');\n    }\n    (() => {\n      let quickchartButtonEl =\n        document.querySelector('#df-cb02bbbd-25b9-4b69-bd36-fc64f7004cea button');\n      quickchartButtonEl.style.display =\n        google.colab.kernel.accessAllowed ? 'block' : 'none';\n    })();\n  </script>\n</div>\n    </div>\n  </div>\n"
                },
                "metadata": {}
              }
            ]
          }
        },
        "a4ace2593be04547aa1d7922e4dca154": {
          "model_module": "@jupyter-widgets/base",
          "model_name": "LayoutModel",
          "model_module_version": "1.2.0",
          "state": {
            "_model_module": "@jupyter-widgets/base",
            "_model_module_version": "1.2.0",
            "_model_name": "LayoutModel",
            "_view_count": null,
            "_view_module": "@jupyter-widgets/base",
            "_view_module_version": "1.2.0",
            "_view_name": "LayoutView",
            "align_content": null,
            "align_items": null,
            "align_self": null,
            "border": null,
            "bottom": null,
            "display": null,
            "flex": null,
            "flex_flow": null,
            "grid_area": null,
            "grid_auto_columns": null,
            "grid_auto_flow": null,
            "grid_auto_rows": null,
            "grid_column": null,
            "grid_gap": null,
            "grid_row": null,
            "grid_template_areas": null,
            "grid_template_columns": null,
            "grid_template_rows": null,
            "height": null,
            "justify_content": null,
            "justify_items": null,
            "left": null,
            "margin": null,
            "max_height": null,
            "max_width": null,
            "min_height": null,
            "min_width": null,
            "object_fit": null,
            "object_position": null,
            "order": null,
            "overflow": null,
            "overflow_x": null,
            "overflow_y": null,
            "padding": null,
            "right": null,
            "top": null,
            "visibility": null,
            "width": null
          }
        },
        "244798ab080743c8aec58843e8cc9b2f": {
          "model_module": "@jupyter-widgets/base",
          "model_name": "LayoutModel",
          "model_module_version": "1.2.0",
          "state": {
            "_model_module": "@jupyter-widgets/base",
            "_model_module_version": "1.2.0",
            "_model_name": "LayoutModel",
            "_view_count": null,
            "_view_module": "@jupyter-widgets/base",
            "_view_module_version": "1.2.0",
            "_view_name": "LayoutView",
            "align_content": null,
            "align_items": null,
            "align_self": null,
            "border": null,
            "bottom": null,
            "display": null,
            "flex": null,
            "flex_flow": null,
            "grid_area": null,
            "grid_auto_columns": null,
            "grid_auto_flow": null,
            "grid_auto_rows": null,
            "grid_column": null,
            "grid_gap": null,
            "grid_row": null,
            "grid_template_areas": null,
            "grid_template_columns": null,
            "grid_template_rows": null,
            "height": null,
            "justify_content": null,
            "justify_items": null,
            "left": null,
            "margin": null,
            "max_height": null,
            "max_width": null,
            "min_height": null,
            "min_width": null,
            "object_fit": null,
            "object_position": null,
            "order": null,
            "overflow": null,
            "overflow_x": null,
            "overflow_y": null,
            "padding": null,
            "right": null,
            "top": null,
            "visibility": null,
            "width": null
          }
        },
        "52a204b41c2f4d5993fab0c47528cd7e": {
          "model_module": "@jupyter-widgets/controls",
          "model_name": "ToggleButtonsStyleModel",
          "model_module_version": "1.5.0",
          "state": {
            "_model_module": "@jupyter-widgets/controls",
            "_model_module_version": "1.5.0",
            "_model_name": "ToggleButtonsStyleModel",
            "_view_count": null,
            "_view_module": "@jupyter-widgets/base",
            "_view_module_version": "1.2.0",
            "_view_name": "StyleView",
            "button_width": "",
            "description_width": "",
            "font_weight": ""
          }
        },
        "0aeeac8a3f534365be0b82006f2d2cf0": {
          "model_module": "@jupyter-widgets/base",
          "model_name": "LayoutModel",
          "model_module_version": "1.2.0",
          "state": {
            "_model_module": "@jupyter-widgets/base",
            "_model_module_version": "1.2.0",
            "_model_name": "LayoutModel",
            "_view_count": null,
            "_view_module": "@jupyter-widgets/base",
            "_view_module_version": "1.2.0",
            "_view_name": "LayoutView",
            "align_content": null,
            "align_items": null,
            "align_self": null,
            "border": null,
            "bottom": null,
            "display": null,
            "flex": null,
            "flex_flow": null,
            "grid_area": null,
            "grid_auto_columns": null,
            "grid_auto_flow": null,
            "grid_auto_rows": null,
            "grid_column": null,
            "grid_gap": null,
            "grid_row": null,
            "grid_template_areas": null,
            "grid_template_columns": null,
            "grid_template_rows": null,
            "height": null,
            "justify_content": null,
            "justify_items": null,
            "left": null,
            "margin": null,
            "max_height": null,
            "max_width": null,
            "min_height": null,
            "min_width": null,
            "object_fit": null,
            "object_position": null,
            "order": null,
            "overflow": null,
            "overflow_x": null,
            "overflow_y": null,
            "padding": null,
            "right": null,
            "top": null,
            "visibility": null,
            "width": null
          }
        }
      }
    }
  },
  "cells": [
    {
      "cell_type": "code",
      "execution_count": 1,
      "metadata": {
        "id": "cm0X1V74Iz7Y"
      },
      "outputs": [],
      "source": [
        "import pandas as pd\n",
        "import numpy as np\n",
        "import matplotlib.pyplot as plt\n",
        "import seaborn as sns\n",
        "from sklearn.model_selection import train_test_split\n",
        "from sklearn.preprocessing import OneHotEncoder\n",
        "from sklearn.preprocessing import RobustScaler\n",
        "from sklearn.compose import ColumnTransformer\n",
        "from sklearn.pipeline import Pipeline\n",
        "from sklearn.linear_model import Ridge\n",
        "from sklearn.linear_model import ElasticNet\n",
        "from sklearn.decomposition import PCA, KernelPCA\n",
        "from sklearn.ensemble import GradientBoostingRegressor\n",
        "from sklearn.metrics import mean_absolute_error, mean_squared_error, mean_squared_log_error, median_absolute_error, r2_score, explained_variance_score\n",
        "import joblib\n",
        "import json\n",
        "from sklearn.ensemble import RandomForestRegressor\n",
        "from sklearn.preprocessing import LabelEncoder"
      ]
    },
    {
      "cell_type": "code",
      "source": [
        "!pip install --pre pycaret"
      ],
      "metadata": {
        "id": "QefWDI72OOX2"
      },
      "execution_count": null,
      "outputs": []
    },
    {
      "cell_type": "code",
      "source": [
        "from pycaret.regression import *"
      ],
      "metadata": {
        "id": "Mqm7aQeRniWB"
      },
      "execution_count": null,
      "outputs": []
    },
    {
      "cell_type": "code",
      "source": [
        "df_original = pd.read_csv('/content/drive/MyDrive/# Hacktiv8 Data Science/Final Project/lamudi_final.csv')\n",
        "df = df_original.copy()"
      ],
      "metadata": {
        "id": "0QU1AZUrJc8c"
      },
      "execution_count": 2,
      "outputs": []
    },
    {
      "cell_type": "code",
      "source": [
        "df.info()"
      ],
      "metadata": {
        "colab": {
          "base_uri": "https://localhost:8080/"
        },
        "id": "KOoAAJUX29Uz",
        "outputId": "b15cc3ad-e7e5-497d-f818-3522755801f7"
      },
      "execution_count": 3,
      "outputs": [
        {
          "output_type": "stream",
          "name": "stdout",
          "text": [
            "<class 'pandas.core.frame.DataFrame'>\n",
            "RangeIndex: 2565 entries, 0 to 2564\n",
            "Data columns (total 16 columns):\n",
            " #   Column              Non-Null Count  Dtype  \n",
            "---  ------              --------------  -----  \n",
            " 0   Unnamed: 0.1        2565 non-null   int64  \n",
            " 1   Unnamed: 0          2565 non-null   int64  \n",
            " 2   kota                2565 non-null   object \n",
            " 3   lokasi              2565 non-null   object \n",
            " 4   luas_lahan          2565 non-null   int64  \n",
            " 5   luas_bangunan       2565 non-null   int64  \n",
            " 6   kamar_tidur         2565 non-null   int64  \n",
            " 7   kamar_mandi         2565 non-null   int64  \n",
            " 8   keamanan_24jam      2565 non-null   object \n",
            " 9   taman_bermain_anak  2565 non-null   object \n",
            " 10  harga               2565 non-null   float64\n",
            " 11  latitude            2565 non-null   float64\n",
            " 12  longitude           2565 non-null   float64\n",
            " 13  latitude_district   2565 non-null   float64\n",
            " 14  longitude_district  2565 non-null   float64\n",
            " 15  kecamatan           2565 non-null   object \n",
            "dtypes: float64(5), int64(6), object(5)\n",
            "memory usage: 320.8+ KB\n"
          ]
        }
      ]
    },
    {
      "cell_type": "code",
      "source": [
        "df['lokasi'].nunique()"
      ],
      "metadata": {
        "colab": {
          "base_uri": "https://localhost:8080/"
        },
        "id": "LFPXUz_YcFSy",
        "outputId": "7bd27626-3e45-4103-be24-da5335318964"
      },
      "execution_count": 5,
      "outputs": [
        {
          "output_type": "execute_result",
          "data": {
            "text/plain": [
              "807"
            ]
          },
          "metadata": {},
          "execution_count": 5
        }
      ]
    },
    {
      "cell_type": "code",
      "source": [
        "df.drop(['Unnamed: 0.1', 'Unnamed: 0'], axis=1, inplace=True)\n",
        "df.drop(['lokasi'], axis=1, inplace=True)\n",
        "df.drop(['latitude', 'longitude'], axis=1, inplace=True)"
      ],
      "metadata": {
        "id": "c6OAiTel3CCv"
      },
      "execution_count": 3,
      "outputs": []
    },
    {
      "cell_type": "code",
      "source": [
        "df['kecamatan'].unique()"
      ],
      "metadata": {
        "colab": {
          "base_uri": "https://localhost:8080/"
        },
        "id": "vLA3kN_1tF2i",
        "outputId": "6c275390-9ccf-40e9-d701-094da9501850"
      },
      "execution_count": 20,
      "outputs": [
        {
          "output_type": "execute_result",
          "data": {
            "text/plain": [
              "array(['Cakung', 'Kebayoran Baru', 'Kebayoran Lama', 'Jagakarsa',\n",
              "       'Duren Sawit', 'Ciracas', 'Kebon Jeruk', 'Kembangan',\n",
              "       'Pulo Gadung', 'Cipayung', 'Cilandak', 'Makasar', 'Setia Budi',\n",
              "       'Kali Deres', 'Pasar Rebo', 'Tebet', 'Pesanggrahan', 'Senen',\n",
              "       'Jatinegara', 'Kramat Jati', 'Tanjung Priok', 'Pademangan',\n",
              "       'Penjaringan', 'Mampang Prapatan', 'Grogol Petamburan', 'Pancoran',\n",
              "       'Menteng', 'Pasar Minggu', 'Gunung Putri', 'Kemayoran',\n",
              "       'Cilincing', 'Cempaka Putih', 'Cengkareng', 'Kelapa Gading',\n",
              "       'Tanah Abang', 'Jatiasih', 'Gambir', 'Matraman', 'Koja', 'Tambora',\n",
              "       'Palmerah', 'Pamulang', 'Taman Sari', 'Johar Baru', 'Sawah Besar',\n",
              "       'Tapos', 'Cinere', 'Jatisampurna'], dtype=object)"
            ]
          },
          "metadata": {},
          "execution_count": 20
        }
      ]
    },
    {
      "cell_type": "markdown",
      "source": [
        "# FEATURE ENGINEERING"
      ],
      "metadata": {
        "id": "Si368GNOK1O8"
      }
    },
    {
      "cell_type": "code",
      "source": [
        "df.info()"
      ],
      "metadata": {
        "colab": {
          "base_uri": "https://localhost:8080/"
        },
        "id": "GDVtedEj3MAh",
        "outputId": "4aa02e8d-f5b1-47fc-aa43-37574e5eab40"
      },
      "execution_count": 10,
      "outputs": [
        {
          "output_type": "stream",
          "name": "stdout",
          "text": [
            "<class 'pandas.core.frame.DataFrame'>\n",
            "RangeIndex: 2565 entries, 0 to 2564\n",
            "Data columns (total 13 columns):\n",
            " #   Column              Non-Null Count  Dtype  \n",
            "---  ------              --------------  -----  \n",
            " 0   kota                2565 non-null   object \n",
            " 1   luas_lahan          2565 non-null   int64  \n",
            " 2   luas_bangunan       2565 non-null   int64  \n",
            " 3   kamar_tidur         2565 non-null   int64  \n",
            " 4   kamar_mandi         2565 non-null   int64  \n",
            " 5   keamanan_24jam      2565 non-null   object \n",
            " 6   taman_bermain_anak  2565 non-null   object \n",
            " 7   harga               2565 non-null   float64\n",
            " 8   latitude            2565 non-null   float64\n",
            " 9   longitude           2565 non-null   float64\n",
            " 10  latitude_district   2565 non-null   float64\n",
            " 11  longitude_district  2565 non-null   float64\n",
            " 12  kecamatan           2565 non-null   object \n",
            "dtypes: float64(5), int64(4), object(4)\n",
            "memory usage: 260.6+ KB\n"
          ]
        }
      ]
    },
    {
      "cell_type": "code",
      "source": [
        "X = df.drop(['harga'], axis=1)\n",
        "Y = df['harga']"
      ],
      "metadata": {
        "id": "drvU1BPw7vfp"
      },
      "execution_count": 4,
      "outputs": []
    },
    {
      "cell_type": "code",
      "source": [
        "X_train, X_test, Y_train, Y_test = train_test_split(X, Y, test_size=0.2, random_state=33)"
      ],
      "metadata": {
        "id": "_ajFYg7KKNJj"
      },
      "execution_count": 5,
      "outputs": []
    },
    {
      "cell_type": "code",
      "source": [
        "input_transformer = ColumnTransformer(\n",
        "  transformers=[\n",
        "    (\"robust scaler\", RobustScaler(), ['luas_lahan', 'luas_bangunan']),\n",
        "    (\"Onehot Encoder\", OneHotEncoder(handle_unknown='ignore'), ['kota', 'keamanan_24jam', 'taman_bermain_anak', 'kecamatan']),\n",
        "    ('Drop location column', 'drop', ['kecamatan'])\n",
        "  ],\n",
        "  remainder = 'passthrough'\n",
        ")"
      ],
      "metadata": {
        "id": "0zz5PnC4lpRe"
      },
      "execution_count": 6,
      "outputs": []
    },
    {
      "cell_type": "code",
      "source": [
        "X_train.shape"
      ],
      "metadata": {
        "colab": {
          "base_uri": "https://localhost:8080/"
        },
        "id": "Kw7Hw16i2vSn",
        "outputId": "f64232b2-c3b5-40e3-9eb5-2ed1014ecdf4"
      },
      "execution_count": 15,
      "outputs": [
        {
          "output_type": "execute_result",
          "data": {
            "text/plain": [
              "(2052, 13)"
            ]
          },
          "metadata": {},
          "execution_count": 15
        }
      ]
    },
    {
      "cell_type": "code",
      "source": [
        "X_test.shape"
      ],
      "metadata": {
        "colab": {
          "base_uri": "https://localhost:8080/"
        },
        "id": "dFvtySuK2xS6",
        "outputId": "e6fd3e10-05e2-4aac-9414-75297ebeada7"
      },
      "execution_count": 16,
      "outputs": [
        {
          "output_type": "execute_result",
          "data": {
            "text/plain": [
              "(513, 13)"
            ]
          },
          "metadata": {},
          "execution_count": 16
        }
      ]
    },
    {
      "cell_type": "markdown",
      "source": [
        "## Checking Feature Importance"
      ],
      "metadata": {
        "id": "lOj2D0H5hGCD"
      }
    },
    {
      "cell_type": "code",
      "source": [
        "train = pd.concat([X_train, Y_train], axis=1)\n",
        "\n",
        "s = setup(train, target = 'harga')"
      ],
      "metadata": {
        "colab": {
          "base_uri": "https://localhost:8080/",
          "height": 829
        },
        "id": "hJfZJ2kqhIYz",
        "outputId": "18da711e-459c-49b9-d3b3-fe35fefb52e3"
      },
      "execution_count": 7,
      "outputs": [
        {
          "output_type": "display_data",
          "data": {
            "text/plain": [
              "<pandas.io.formats.style.Styler at 0x79a5ddc54880>"
            ],
            "text/html": [
              "<style type=\"text/css\">\n",
              "#T_5d0d6_row10_col1 {\n",
              "  background-color: lightgreen;\n",
              "}\n",
              "</style>\n",
              "<table id=\"T_5d0d6\" class=\"dataframe\">\n",
              "  <thead>\n",
              "    <tr>\n",
              "      <th class=\"blank level0\" >&nbsp;</th>\n",
              "      <th id=\"T_5d0d6_level0_col0\" class=\"col_heading level0 col0\" >Description</th>\n",
              "      <th id=\"T_5d0d6_level0_col1\" class=\"col_heading level0 col1\" >Value</th>\n",
              "    </tr>\n",
              "  </thead>\n",
              "  <tbody>\n",
              "    <tr>\n",
              "      <th id=\"T_5d0d6_level0_row0\" class=\"row_heading level0 row0\" >0</th>\n",
              "      <td id=\"T_5d0d6_row0_col0\" class=\"data row0 col0\" >Session id</td>\n",
              "      <td id=\"T_5d0d6_row0_col1\" class=\"data row0 col1\" >7715</td>\n",
              "    </tr>\n",
              "    <tr>\n",
              "      <th id=\"T_5d0d6_level0_row1\" class=\"row_heading level0 row1\" >1</th>\n",
              "      <td id=\"T_5d0d6_row1_col0\" class=\"data row1 col0\" >Target</td>\n",
              "      <td id=\"T_5d0d6_row1_col1\" class=\"data row1 col1\" >harga</td>\n",
              "    </tr>\n",
              "    <tr>\n",
              "      <th id=\"T_5d0d6_level0_row2\" class=\"row_heading level0 row2\" >2</th>\n",
              "      <td id=\"T_5d0d6_row2_col0\" class=\"data row2 col0\" >Target type</td>\n",
              "      <td id=\"T_5d0d6_row2_col1\" class=\"data row2 col1\" >Regression</td>\n",
              "    </tr>\n",
              "    <tr>\n",
              "      <th id=\"T_5d0d6_level0_row3\" class=\"row_heading level0 row3\" >3</th>\n",
              "      <td id=\"T_5d0d6_row3_col0\" class=\"data row3 col0\" >Original data shape</td>\n",
              "      <td id=\"T_5d0d6_row3_col1\" class=\"data row3 col1\" >(2052, 11)</td>\n",
              "    </tr>\n",
              "    <tr>\n",
              "      <th id=\"T_5d0d6_level0_row4\" class=\"row_heading level0 row4\" >4</th>\n",
              "      <td id=\"T_5d0d6_row4_col0\" class=\"data row4 col0\" >Transformed data shape</td>\n",
              "      <td id=\"T_5d0d6_row4_col1\" class=\"data row4 col1\" >(2052, 15)</td>\n",
              "    </tr>\n",
              "    <tr>\n",
              "      <th id=\"T_5d0d6_level0_row5\" class=\"row_heading level0 row5\" >5</th>\n",
              "      <td id=\"T_5d0d6_row5_col0\" class=\"data row5 col0\" >Transformed train set shape</td>\n",
              "      <td id=\"T_5d0d6_row5_col1\" class=\"data row5 col1\" >(1436, 15)</td>\n",
              "    </tr>\n",
              "    <tr>\n",
              "      <th id=\"T_5d0d6_level0_row6\" class=\"row_heading level0 row6\" >6</th>\n",
              "      <td id=\"T_5d0d6_row6_col0\" class=\"data row6 col0\" >Transformed test set shape</td>\n",
              "      <td id=\"T_5d0d6_row6_col1\" class=\"data row6 col1\" >(616, 15)</td>\n",
              "    </tr>\n",
              "    <tr>\n",
              "      <th id=\"T_5d0d6_level0_row7\" class=\"row_heading level0 row7\" >7</th>\n",
              "      <td id=\"T_5d0d6_row7_col0\" class=\"data row7 col0\" >Ordinal features</td>\n",
              "      <td id=\"T_5d0d6_row7_col1\" class=\"data row7 col1\" >2</td>\n",
              "    </tr>\n",
              "    <tr>\n",
              "      <th id=\"T_5d0d6_level0_row8\" class=\"row_heading level0 row8\" >8</th>\n",
              "      <td id=\"T_5d0d6_row8_col0\" class=\"data row8 col0\" >Numeric features</td>\n",
              "      <td id=\"T_5d0d6_row8_col1\" class=\"data row8 col1\" >6</td>\n",
              "    </tr>\n",
              "    <tr>\n",
              "      <th id=\"T_5d0d6_level0_row9\" class=\"row_heading level0 row9\" >9</th>\n",
              "      <td id=\"T_5d0d6_row9_col0\" class=\"data row9 col0\" >Categorical features</td>\n",
              "      <td id=\"T_5d0d6_row9_col1\" class=\"data row9 col1\" >4</td>\n",
              "    </tr>\n",
              "    <tr>\n",
              "      <th id=\"T_5d0d6_level0_row10\" class=\"row_heading level0 row10\" >10</th>\n",
              "      <td id=\"T_5d0d6_row10_col0\" class=\"data row10 col0\" >Preprocess</td>\n",
              "      <td id=\"T_5d0d6_row10_col1\" class=\"data row10 col1\" >True</td>\n",
              "    </tr>\n",
              "    <tr>\n",
              "      <th id=\"T_5d0d6_level0_row11\" class=\"row_heading level0 row11\" >11</th>\n",
              "      <td id=\"T_5d0d6_row11_col0\" class=\"data row11 col0\" >Imputation type</td>\n",
              "      <td id=\"T_5d0d6_row11_col1\" class=\"data row11 col1\" >simple</td>\n",
              "    </tr>\n",
              "    <tr>\n",
              "      <th id=\"T_5d0d6_level0_row12\" class=\"row_heading level0 row12\" >12</th>\n",
              "      <td id=\"T_5d0d6_row12_col0\" class=\"data row12 col0\" >Numeric imputation</td>\n",
              "      <td id=\"T_5d0d6_row12_col1\" class=\"data row12 col1\" >mean</td>\n",
              "    </tr>\n",
              "    <tr>\n",
              "      <th id=\"T_5d0d6_level0_row13\" class=\"row_heading level0 row13\" >13</th>\n",
              "      <td id=\"T_5d0d6_row13_col0\" class=\"data row13 col0\" >Categorical imputation</td>\n",
              "      <td id=\"T_5d0d6_row13_col1\" class=\"data row13 col1\" >mode</td>\n",
              "    </tr>\n",
              "    <tr>\n",
              "      <th id=\"T_5d0d6_level0_row14\" class=\"row_heading level0 row14\" >14</th>\n",
              "      <td id=\"T_5d0d6_row14_col0\" class=\"data row14 col0\" >Maximum one-hot encoding</td>\n",
              "      <td id=\"T_5d0d6_row14_col1\" class=\"data row14 col1\" >25</td>\n",
              "    </tr>\n",
              "    <tr>\n",
              "      <th id=\"T_5d0d6_level0_row15\" class=\"row_heading level0 row15\" >15</th>\n",
              "      <td id=\"T_5d0d6_row15_col0\" class=\"data row15 col0\" >Encoding method</td>\n",
              "      <td id=\"T_5d0d6_row15_col1\" class=\"data row15 col1\" >None</td>\n",
              "    </tr>\n",
              "    <tr>\n",
              "      <th id=\"T_5d0d6_level0_row16\" class=\"row_heading level0 row16\" >16</th>\n",
              "      <td id=\"T_5d0d6_row16_col0\" class=\"data row16 col0\" >Fold Generator</td>\n",
              "      <td id=\"T_5d0d6_row16_col1\" class=\"data row16 col1\" >KFold</td>\n",
              "    </tr>\n",
              "    <tr>\n",
              "      <th id=\"T_5d0d6_level0_row17\" class=\"row_heading level0 row17\" >17</th>\n",
              "      <td id=\"T_5d0d6_row17_col0\" class=\"data row17 col0\" >Fold Number</td>\n",
              "      <td id=\"T_5d0d6_row17_col1\" class=\"data row17 col1\" >10</td>\n",
              "    </tr>\n",
              "    <tr>\n",
              "      <th id=\"T_5d0d6_level0_row18\" class=\"row_heading level0 row18\" >18</th>\n",
              "      <td id=\"T_5d0d6_row18_col0\" class=\"data row18 col0\" >CPU Jobs</td>\n",
              "      <td id=\"T_5d0d6_row18_col1\" class=\"data row18 col1\" >-1</td>\n",
              "    </tr>\n",
              "    <tr>\n",
              "      <th id=\"T_5d0d6_level0_row19\" class=\"row_heading level0 row19\" >19</th>\n",
              "      <td id=\"T_5d0d6_row19_col0\" class=\"data row19 col0\" >Use GPU</td>\n",
              "      <td id=\"T_5d0d6_row19_col1\" class=\"data row19 col1\" >False</td>\n",
              "    </tr>\n",
              "    <tr>\n",
              "      <th id=\"T_5d0d6_level0_row20\" class=\"row_heading level0 row20\" >20</th>\n",
              "      <td id=\"T_5d0d6_row20_col0\" class=\"data row20 col0\" >Log Experiment</td>\n",
              "      <td id=\"T_5d0d6_row20_col1\" class=\"data row20 col1\" >False</td>\n",
              "    </tr>\n",
              "    <tr>\n",
              "      <th id=\"T_5d0d6_level0_row21\" class=\"row_heading level0 row21\" >21</th>\n",
              "      <td id=\"T_5d0d6_row21_col0\" class=\"data row21 col0\" >Experiment Name</td>\n",
              "      <td id=\"T_5d0d6_row21_col1\" class=\"data row21 col1\" >reg-default-name</td>\n",
              "    </tr>\n",
              "    <tr>\n",
              "      <th id=\"T_5d0d6_level0_row22\" class=\"row_heading level0 row22\" >22</th>\n",
              "      <td id=\"T_5d0d6_row22_col0\" class=\"data row22 col0\" >USI</td>\n",
              "      <td id=\"T_5d0d6_row22_col1\" class=\"data row22 col1\" >4461</td>\n",
              "    </tr>\n",
              "  </tbody>\n",
              "</table>\n"
            ]
          },
          "metadata": {}
        }
      ]
    },
    {
      "cell_type": "code",
      "source": [
        "rf_model = create_model('rf')"
      ],
      "metadata": {
        "colab": {
          "base_uri": "https://localhost:8080/",
          "height": 491,
          "referenced_widgets": [
            "7aefba64de4a4b5495dbd995f72756e4",
            "572200ac955645d2983020b8a14c05b1",
            "a890a9b6f7ac4191891a9447f6f8a5c7",
            "59308a785a4246f2bcd736c59ac5716f",
            "72bb5a28c15b4c76aa26981a80fcef9b",
            "3959761bd6854aaaa85f106a2107cdae",
            "7991407a21a74f1b8b4b209c3d4e6174",
            "a281c32885ff4c0f8a8c7e8d4c0373e6",
            "4a365f95277f452fa21acd497797fc02",
            "0cea06ebf1d64a7cb99074696b771e93",
            "32c9f8447921430495b15541f90cb852"
          ]
        },
        "id": "fSHUW2GZhaNb",
        "outputId": "c725964d-e02a-4db7-d2be-c1518fc91ce2"
      },
      "execution_count": 8,
      "outputs": [
        {
          "output_type": "display_data",
          "data": {
            "text/plain": [
              "<IPython.core.display.HTML object>"
            ],
            "text/html": []
          },
          "metadata": {}
        },
        {
          "output_type": "display_data",
          "data": {
            "text/plain": [
              "<pandas.io.formats.style.Styler at 0x79a5de1165f0>"
            ],
            "text/html": [
              "<style type=\"text/css\">\n",
              "#T_d0a73_row10_col0, #T_d0a73_row10_col1, #T_d0a73_row10_col2, #T_d0a73_row10_col3, #T_d0a73_row10_col4, #T_d0a73_row10_col5 {\n",
              "  background: yellow;\n",
              "}\n",
              "</style>\n",
              "<table id=\"T_d0a73\" class=\"dataframe\">\n",
              "  <thead>\n",
              "    <tr>\n",
              "      <th class=\"blank level0\" >&nbsp;</th>\n",
              "      <th id=\"T_d0a73_level0_col0\" class=\"col_heading level0 col0\" >MAE</th>\n",
              "      <th id=\"T_d0a73_level0_col1\" class=\"col_heading level0 col1\" >MSE</th>\n",
              "      <th id=\"T_d0a73_level0_col2\" class=\"col_heading level0 col2\" >RMSE</th>\n",
              "      <th id=\"T_d0a73_level0_col3\" class=\"col_heading level0 col3\" >R2</th>\n",
              "      <th id=\"T_d0a73_level0_col4\" class=\"col_heading level0 col4\" >RMSLE</th>\n",
              "      <th id=\"T_d0a73_level0_col5\" class=\"col_heading level0 col5\" >MAPE</th>\n",
              "    </tr>\n",
              "    <tr>\n",
              "      <th class=\"index_name level0\" >Fold</th>\n",
              "      <th class=\"blank col0\" >&nbsp;</th>\n",
              "      <th class=\"blank col1\" >&nbsp;</th>\n",
              "      <th class=\"blank col2\" >&nbsp;</th>\n",
              "      <th class=\"blank col3\" >&nbsp;</th>\n",
              "      <th class=\"blank col4\" >&nbsp;</th>\n",
              "      <th class=\"blank col5\" >&nbsp;</th>\n",
              "    </tr>\n",
              "  </thead>\n",
              "  <tbody>\n",
              "    <tr>\n",
              "      <th id=\"T_d0a73_level0_row0\" class=\"row_heading level0 row0\" >0</th>\n",
              "      <td id=\"T_d0a73_row0_col0\" class=\"data row0 col0\" >2648183158.4962</td>\n",
              "      <td id=\"T_d0a73_row0_col1\" class=\"data row0 col1\" >56826501167225921536.0000</td>\n",
              "      <td id=\"T_d0a73_row0_col2\" class=\"data row0 col2\" >7538335437.4309</td>\n",
              "      <td id=\"T_d0a73_row0_col3\" class=\"data row0 col3\" >0.6752</td>\n",
              "      <td id=\"T_d0a73_row0_col4\" class=\"data row0 col4\" >0.3962</td>\n",
              "      <td id=\"T_d0a73_row0_col5\" class=\"data row0 col5\" >0.3455</td>\n",
              "    </tr>\n",
              "    <tr>\n",
              "      <th id=\"T_d0a73_level0_row1\" class=\"row_heading level0 row1\" >1</th>\n",
              "      <td id=\"T_d0a73_row1_col0\" class=\"data row1 col0\" >4408843848.3324</td>\n",
              "      <td id=\"T_d0a73_row1_col1\" class=\"data row1 col1\" >423932852336771465216.0000</td>\n",
              "      <td id=\"T_d0a73_row1_col2\" class=\"data row1 col2\" >20589629728.0153</td>\n",
              "      <td id=\"T_d0a73_row1_col3\" class=\"data row1 col3\" >0.3315</td>\n",
              "      <td id=\"T_d0a73_row1_col4\" class=\"data row1 col4\" >0.5147</td>\n",
              "      <td id=\"T_d0a73_row1_col5\" class=\"data row1 col5\" >0.4615</td>\n",
              "    </tr>\n",
              "    <tr>\n",
              "      <th id=\"T_d0a73_level0_row2\" class=\"row_heading level0 row2\" >2</th>\n",
              "      <td id=\"T_d0a73_row2_col0\" class=\"data row2 col0\" >2574829508.9895</td>\n",
              "      <td id=\"T_d0a73_row2_col1\" class=\"data row2 col1\" >70722709831153639424.0000</td>\n",
              "      <td id=\"T_d0a73_row2_col2\" class=\"data row2 col2\" >8409679532.0127</td>\n",
              "      <td id=\"T_d0a73_row2_col3\" class=\"data row2 col3\" >0.4402</td>\n",
              "      <td id=\"T_d0a73_row2_col4\" class=\"data row2 col4\" >0.4402</td>\n",
              "      <td id=\"T_d0a73_row2_col5\" class=\"data row2 col5\" >0.4031</td>\n",
              "    </tr>\n",
              "    <tr>\n",
              "      <th id=\"T_d0a73_level0_row3\" class=\"row_heading level0 row3\" >3</th>\n",
              "      <td id=\"T_d0a73_row3_col0\" class=\"data row3 col0\" >3107567216.1801</td>\n",
              "      <td id=\"T_d0a73_row3_col1\" class=\"data row3 col1\" >142554750092616957952.0000</td>\n",
              "      <td id=\"T_d0a73_row3_col2\" class=\"data row3 col2\" >11939629395.1118</td>\n",
              "      <td id=\"T_d0a73_row3_col3\" class=\"data row3 col3\" >-0.2735</td>\n",
              "      <td id=\"T_d0a73_row3_col4\" class=\"data row3 col4\" >0.5328</td>\n",
              "      <td id=\"T_d0a73_row3_col5\" class=\"data row3 col5\" >0.5256</td>\n",
              "    </tr>\n",
              "    <tr>\n",
              "      <th id=\"T_d0a73_level0_row4\" class=\"row_heading level0 row4\" >4</th>\n",
              "      <td id=\"T_d0a73_row4_col0\" class=\"data row4 col0\" >3407263445.4349</td>\n",
              "      <td id=\"T_d0a73_row4_col1\" class=\"data row4 col1\" >85855900900513251328.0000</td>\n",
              "      <td id=\"T_d0a73_row4_col2\" class=\"data row4 col2\" >9265845935.5049</td>\n",
              "      <td id=\"T_d0a73_row4_col3\" class=\"data row4 col3\" >0.7627</td>\n",
              "      <td id=\"T_d0a73_row4_col4\" class=\"data row4 col4\" >0.4442</td>\n",
              "      <td id=\"T_d0a73_row4_col5\" class=\"data row4 col5\" >0.4666</td>\n",
              "    </tr>\n",
              "    <tr>\n",
              "      <th id=\"T_d0a73_level0_row5\" class=\"row_heading level0 row5\" >5</th>\n",
              "      <td id=\"T_d0a73_row5_col0\" class=\"data row5 col0\" >3357022444.1734</td>\n",
              "      <td id=\"T_d0a73_row5_col1\" class=\"data row5 col1\" >126654527834127646720.0000</td>\n",
              "      <td id=\"T_d0a73_row5_col2\" class=\"data row5 col2\" >11254089382.7145</td>\n",
              "      <td id=\"T_d0a73_row5_col3\" class=\"data row5 col3\" >0.6798</td>\n",
              "      <td id=\"T_d0a73_row5_col4\" class=\"data row5 col4\" >0.5042</td>\n",
              "      <td id=\"T_d0a73_row5_col5\" class=\"data row5 col5\" >0.4342</td>\n",
              "    </tr>\n",
              "    <tr>\n",
              "      <th id=\"T_d0a73_level0_row6\" class=\"row_heading level0 row6\" >6</th>\n",
              "      <td id=\"T_d0a73_row6_col0\" class=\"data row6 col0\" >2462481263.6785</td>\n",
              "      <td id=\"T_d0a73_row6_col1\" class=\"data row6 col1\" >40345092597821882368.0000</td>\n",
              "      <td id=\"T_d0a73_row6_col2\" class=\"data row6 col2\" >6351778695.5956</td>\n",
              "      <td id=\"T_d0a73_row6_col3\" class=\"data row6 col3\" >0.5651</td>\n",
              "      <td id=\"T_d0a73_row6_col4\" class=\"data row6 col4\" >0.4317</td>\n",
              "      <td id=\"T_d0a73_row6_col5\" class=\"data row6 col5\" >0.3944</td>\n",
              "    </tr>\n",
              "    <tr>\n",
              "      <th id=\"T_d0a73_level0_row7\" class=\"row_heading level0 row7\" >7</th>\n",
              "      <td id=\"T_d0a73_row7_col0\" class=\"data row7 col0\" >2172151501.2478</td>\n",
              "      <td id=\"T_d0a73_row7_col1\" class=\"data row7 col1\" >24437622254690684928.0000</td>\n",
              "      <td id=\"T_d0a73_row7_col2\" class=\"data row7 col2\" >4943442348.6767</td>\n",
              "      <td id=\"T_d0a73_row7_col3\" class=\"data row7 col3\" >0.8616</td>\n",
              "      <td id=\"T_d0a73_row7_col4\" class=\"data row7 col4\" >0.4742</td>\n",
              "      <td id=\"T_d0a73_row7_col5\" class=\"data row7 col5\" >0.4587</td>\n",
              "    </tr>\n",
              "    <tr>\n",
              "      <th id=\"T_d0a73_level0_row8\" class=\"row_heading level0 row8\" >8</th>\n",
              "      <td id=\"T_d0a73_row8_col0\" class=\"data row8 col0\" >2851723063.3552</td>\n",
              "      <td id=\"T_d0a73_row8_col1\" class=\"data row8 col1\" >91760677714871042048.0000</td>\n",
              "      <td id=\"T_d0a73_row8_col2\" class=\"data row8 col2\" >9579179386.2977</td>\n",
              "      <td id=\"T_d0a73_row8_col3\" class=\"data row8 col3\" >0.4652</td>\n",
              "      <td id=\"T_d0a73_row8_col4\" class=\"data row8 col4\" >0.5200</td>\n",
              "      <td id=\"T_d0a73_row8_col5\" class=\"data row8 col5\" >0.5058</td>\n",
              "    </tr>\n",
              "    <tr>\n",
              "      <th id=\"T_d0a73_level0_row9\" class=\"row_heading level0 row9\" >9</th>\n",
              "      <td id=\"T_d0a73_row9_col0\" class=\"data row9 col0\" >1994239470.8412</td>\n",
              "      <td id=\"T_d0a73_row9_col1\" class=\"data row9 col1\" >46096764967451230208.0000</td>\n",
              "      <td id=\"T_d0a73_row9_col2\" class=\"data row9 col2\" >6789459843.5701</td>\n",
              "      <td id=\"T_d0a73_row9_col3\" class=\"data row9 col3\" >0.5696</td>\n",
              "      <td id=\"T_d0a73_row9_col4\" class=\"data row9 col4\" >0.4265</td>\n",
              "      <td id=\"T_d0a73_row9_col5\" class=\"data row9 col5\" >0.4033</td>\n",
              "    </tr>\n",
              "    <tr>\n",
              "      <th id=\"T_d0a73_level0_row10\" class=\"row_heading level0 row10\" >Mean</th>\n",
              "      <td id=\"T_d0a73_row10_col0\" class=\"data row10 col0\" >2898430492.0729</td>\n",
              "      <td id=\"T_d0a73_row10_col1\" class=\"data row10 col1\" >110918739969724383232.0000</td>\n",
              "      <td id=\"T_d0a73_row10_col2\" class=\"data row10 col2\" >9666106968.4930</td>\n",
              "      <td id=\"T_d0a73_row10_col3\" class=\"data row10 col3\" >0.5077</td>\n",
              "      <td id=\"T_d0a73_row10_col4\" class=\"data row10 col4\" >0.4685</td>\n",
              "      <td id=\"T_d0a73_row10_col5\" class=\"data row10 col5\" >0.4399</td>\n",
              "    </tr>\n",
              "    <tr>\n",
              "      <th id=\"T_d0a73_level0_row11\" class=\"row_heading level0 row11\" >Std</th>\n",
              "      <td id=\"T_d0a73_row11_col0\" class=\"data row11 col0\" >670739997.4905</td>\n",
              "      <td id=\"T_d0a73_row11_col1\" class=\"data row11 col1\" >110192861363197001728.0000</td>\n",
              "      <td id=\"T_d0a73_row11_col2\" class=\"data row11 col2\" >4181520781.1722</td>\n",
              "      <td id=\"T_d0a73_row11_col3\" class=\"data row11 col3\" >0.3005</td>\n",
              "      <td id=\"T_d0a73_row11_col4\" class=\"data row11 col4\" >0.0447</td>\n",
              "      <td id=\"T_d0a73_row11_col5\" class=\"data row11 col5\" >0.0519</td>\n",
              "    </tr>\n",
              "  </tbody>\n",
              "</table>\n"
            ]
          },
          "metadata": {}
        },
        {
          "output_type": "display_data",
          "data": {
            "text/plain": [
              "Processing:   0%|          | 0/4 [00:00<?, ?it/s]"
            ],
            "application/vnd.jupyter.widget-view+json": {
              "version_major": 2,
              "version_minor": 0,
              "model_id": "7aefba64de4a4b5495dbd995f72756e4"
            }
          },
          "metadata": {
            "application/vnd.jupyter.widget-view+json": {
              "colab": {
                "custom_widget_manager": {
                  "url": "https://ssl.gstatic.com/colaboratory-static/widgets/colab-cdn-widget-manager/b3e629b1971e1542/manager.min.js"
                }
              }
            }
          }
        },
        {
          "output_type": "display_data",
          "data": {
            "text/plain": [
              "<IPython.core.display.HTML object>"
            ],
            "text/html": []
          },
          "metadata": {}
        }
      ]
    },
    {
      "cell_type": "code",
      "source": [
        "evaluate_model(rf_model)"
      ],
      "metadata": {
        "colab": {
          "base_uri": "https://localhost:8080/",
          "height": 570,
          "referenced_widgets": [
            "ae343ec73e6545d2b32fd84fe23d55f3",
            "d224d7da474345a6a9f0b2f5021dd888",
            "dc5ccbf51a0448fe894efda8bee8f50a",
            "56d5f561b7494f3a994219d2d25b6fc2",
            "e19b55b32825437eaabc1f339da1d5c8",
            "6c1d14f290ae475c866b48db07a26f8c",
            "8348cfdfc12640eeb80a7c374b641eda"
          ]
        },
        "id": "gQturFhOhfBP",
        "outputId": "0d89dca0-676a-4f23-ed6d-d563f94b3721"
      },
      "execution_count": 9,
      "outputs": [
        {
          "output_type": "display_data",
          "data": {
            "text/plain": [
              "interactive(children=(ToggleButtons(description='Plot Type:', icons=('',), options=(('Pipeline Plot', 'pipelin…"
            ],
            "application/vnd.jupyter.widget-view+json": {
              "version_major": 2,
              "version_minor": 0,
              "model_id": "ae343ec73e6545d2b32fd84fe23d55f3"
            }
          },
          "metadata": {
            "application/vnd.jupyter.widget-view+json": {
              "colab": {
                "custom_widget_manager": {
                  "url": "https://ssl.gstatic.com/colaboratory-static/widgets/colab-cdn-widget-manager/b3e629b1971e1542/manager.min.js"
                }
              }
            }
          }
        }
      ]
    },
    {
      "cell_type": "markdown",
      "source": [
        "# MODELLING"
      ],
      "metadata": {
        "id": "b_tcUK27OY6G"
      }
    },
    {
      "cell_type": "markdown",
      "source": [
        "## Model & Hyperparameter Selection with PyCaret"
      ],
      "metadata": {
        "id": "12Ozi9231CaU"
      }
    },
    {
      "cell_type": "code",
      "source": [
        "train = pd.concat([X_train, Y_train], axis=1)"
      ],
      "metadata": {
        "id": "OzYyGaQ-8W1D"
      },
      "execution_count": 7,
      "outputs": []
    },
    {
      "cell_type": "code",
      "source": [
        "s = setup(train, target = 'harga')"
      ],
      "metadata": {
        "colab": {
          "base_uri": "https://localhost:8080/",
          "height": 829
        },
        "id": "_mK_YczLMKYe",
        "outputId": "49f0174a-5713-4245-c056-efe7458787d0"
      },
      "execution_count": 8,
      "outputs": [
        {
          "output_type": "display_data",
          "data": {
            "text/plain": [
              "<pandas.io.formats.style.Styler at 0x7d0abde6a5f0>"
            ],
            "text/html": [
              "<style type=\"text/css\">\n",
              "#T_1a428_row10_col1 {\n",
              "  background-color: lightgreen;\n",
              "}\n",
              "</style>\n",
              "<table id=\"T_1a428\" class=\"dataframe\">\n",
              "  <thead>\n",
              "    <tr>\n",
              "      <th class=\"blank level0\" >&nbsp;</th>\n",
              "      <th id=\"T_1a428_level0_col0\" class=\"col_heading level0 col0\" >Description</th>\n",
              "      <th id=\"T_1a428_level0_col1\" class=\"col_heading level0 col1\" >Value</th>\n",
              "    </tr>\n",
              "  </thead>\n",
              "  <tbody>\n",
              "    <tr>\n",
              "      <th id=\"T_1a428_level0_row0\" class=\"row_heading level0 row0\" >0</th>\n",
              "      <td id=\"T_1a428_row0_col0\" class=\"data row0 col0\" >Session id</td>\n",
              "      <td id=\"T_1a428_row0_col1\" class=\"data row0 col1\" >469</td>\n",
              "    </tr>\n",
              "    <tr>\n",
              "      <th id=\"T_1a428_level0_row1\" class=\"row_heading level0 row1\" >1</th>\n",
              "      <td id=\"T_1a428_row1_col0\" class=\"data row1 col0\" >Target</td>\n",
              "      <td id=\"T_1a428_row1_col1\" class=\"data row1 col1\" >harga</td>\n",
              "    </tr>\n",
              "    <tr>\n",
              "      <th id=\"T_1a428_level0_row2\" class=\"row_heading level0 row2\" >2</th>\n",
              "      <td id=\"T_1a428_row2_col0\" class=\"data row2 col0\" >Target type</td>\n",
              "      <td id=\"T_1a428_row2_col1\" class=\"data row2 col1\" >Regression</td>\n",
              "    </tr>\n",
              "    <tr>\n",
              "      <th id=\"T_1a428_level0_row3\" class=\"row_heading level0 row3\" >3</th>\n",
              "      <td id=\"T_1a428_row3_col0\" class=\"data row3 col0\" >Original data shape</td>\n",
              "      <td id=\"T_1a428_row3_col1\" class=\"data row3 col1\" >(2052, 11)</td>\n",
              "    </tr>\n",
              "    <tr>\n",
              "      <th id=\"T_1a428_level0_row4\" class=\"row_heading level0 row4\" >4</th>\n",
              "      <td id=\"T_1a428_row4_col0\" class=\"data row4 col0\" >Transformed data shape</td>\n",
              "      <td id=\"T_1a428_row4_col1\" class=\"data row4 col1\" >(2052, 15)</td>\n",
              "    </tr>\n",
              "    <tr>\n",
              "      <th id=\"T_1a428_level0_row5\" class=\"row_heading level0 row5\" >5</th>\n",
              "      <td id=\"T_1a428_row5_col0\" class=\"data row5 col0\" >Transformed train set shape</td>\n",
              "      <td id=\"T_1a428_row5_col1\" class=\"data row5 col1\" >(1436, 15)</td>\n",
              "    </tr>\n",
              "    <tr>\n",
              "      <th id=\"T_1a428_level0_row6\" class=\"row_heading level0 row6\" >6</th>\n",
              "      <td id=\"T_1a428_row6_col0\" class=\"data row6 col0\" >Transformed test set shape</td>\n",
              "      <td id=\"T_1a428_row6_col1\" class=\"data row6 col1\" >(616, 15)</td>\n",
              "    </tr>\n",
              "    <tr>\n",
              "      <th id=\"T_1a428_level0_row7\" class=\"row_heading level0 row7\" >7</th>\n",
              "      <td id=\"T_1a428_row7_col0\" class=\"data row7 col0\" >Ordinal features</td>\n",
              "      <td id=\"T_1a428_row7_col1\" class=\"data row7 col1\" >2</td>\n",
              "    </tr>\n",
              "    <tr>\n",
              "      <th id=\"T_1a428_level0_row8\" class=\"row_heading level0 row8\" >8</th>\n",
              "      <td id=\"T_1a428_row8_col0\" class=\"data row8 col0\" >Numeric features</td>\n",
              "      <td id=\"T_1a428_row8_col1\" class=\"data row8 col1\" >6</td>\n",
              "    </tr>\n",
              "    <tr>\n",
              "      <th id=\"T_1a428_level0_row9\" class=\"row_heading level0 row9\" >9</th>\n",
              "      <td id=\"T_1a428_row9_col0\" class=\"data row9 col0\" >Categorical features</td>\n",
              "      <td id=\"T_1a428_row9_col1\" class=\"data row9 col1\" >4</td>\n",
              "    </tr>\n",
              "    <tr>\n",
              "      <th id=\"T_1a428_level0_row10\" class=\"row_heading level0 row10\" >10</th>\n",
              "      <td id=\"T_1a428_row10_col0\" class=\"data row10 col0\" >Preprocess</td>\n",
              "      <td id=\"T_1a428_row10_col1\" class=\"data row10 col1\" >True</td>\n",
              "    </tr>\n",
              "    <tr>\n",
              "      <th id=\"T_1a428_level0_row11\" class=\"row_heading level0 row11\" >11</th>\n",
              "      <td id=\"T_1a428_row11_col0\" class=\"data row11 col0\" >Imputation type</td>\n",
              "      <td id=\"T_1a428_row11_col1\" class=\"data row11 col1\" >simple</td>\n",
              "    </tr>\n",
              "    <tr>\n",
              "      <th id=\"T_1a428_level0_row12\" class=\"row_heading level0 row12\" >12</th>\n",
              "      <td id=\"T_1a428_row12_col0\" class=\"data row12 col0\" >Numeric imputation</td>\n",
              "      <td id=\"T_1a428_row12_col1\" class=\"data row12 col1\" >mean</td>\n",
              "    </tr>\n",
              "    <tr>\n",
              "      <th id=\"T_1a428_level0_row13\" class=\"row_heading level0 row13\" >13</th>\n",
              "      <td id=\"T_1a428_row13_col0\" class=\"data row13 col0\" >Categorical imputation</td>\n",
              "      <td id=\"T_1a428_row13_col1\" class=\"data row13 col1\" >mode</td>\n",
              "    </tr>\n",
              "    <tr>\n",
              "      <th id=\"T_1a428_level0_row14\" class=\"row_heading level0 row14\" >14</th>\n",
              "      <td id=\"T_1a428_row14_col0\" class=\"data row14 col0\" >Maximum one-hot encoding</td>\n",
              "      <td id=\"T_1a428_row14_col1\" class=\"data row14 col1\" >25</td>\n",
              "    </tr>\n",
              "    <tr>\n",
              "      <th id=\"T_1a428_level0_row15\" class=\"row_heading level0 row15\" >15</th>\n",
              "      <td id=\"T_1a428_row15_col0\" class=\"data row15 col0\" >Encoding method</td>\n",
              "      <td id=\"T_1a428_row15_col1\" class=\"data row15 col1\" >None</td>\n",
              "    </tr>\n",
              "    <tr>\n",
              "      <th id=\"T_1a428_level0_row16\" class=\"row_heading level0 row16\" >16</th>\n",
              "      <td id=\"T_1a428_row16_col0\" class=\"data row16 col0\" >Fold Generator</td>\n",
              "      <td id=\"T_1a428_row16_col1\" class=\"data row16 col1\" >KFold</td>\n",
              "    </tr>\n",
              "    <tr>\n",
              "      <th id=\"T_1a428_level0_row17\" class=\"row_heading level0 row17\" >17</th>\n",
              "      <td id=\"T_1a428_row17_col0\" class=\"data row17 col0\" >Fold Number</td>\n",
              "      <td id=\"T_1a428_row17_col1\" class=\"data row17 col1\" >10</td>\n",
              "    </tr>\n",
              "    <tr>\n",
              "      <th id=\"T_1a428_level0_row18\" class=\"row_heading level0 row18\" >18</th>\n",
              "      <td id=\"T_1a428_row18_col0\" class=\"data row18 col0\" >CPU Jobs</td>\n",
              "      <td id=\"T_1a428_row18_col1\" class=\"data row18 col1\" >-1</td>\n",
              "    </tr>\n",
              "    <tr>\n",
              "      <th id=\"T_1a428_level0_row19\" class=\"row_heading level0 row19\" >19</th>\n",
              "      <td id=\"T_1a428_row19_col0\" class=\"data row19 col0\" >Use GPU</td>\n",
              "      <td id=\"T_1a428_row19_col1\" class=\"data row19 col1\" >False</td>\n",
              "    </tr>\n",
              "    <tr>\n",
              "      <th id=\"T_1a428_level0_row20\" class=\"row_heading level0 row20\" >20</th>\n",
              "      <td id=\"T_1a428_row20_col0\" class=\"data row20 col0\" >Log Experiment</td>\n",
              "      <td id=\"T_1a428_row20_col1\" class=\"data row20 col1\" >False</td>\n",
              "    </tr>\n",
              "    <tr>\n",
              "      <th id=\"T_1a428_level0_row21\" class=\"row_heading level0 row21\" >21</th>\n",
              "      <td id=\"T_1a428_row21_col0\" class=\"data row21 col0\" >Experiment Name</td>\n",
              "      <td id=\"T_1a428_row21_col1\" class=\"data row21 col1\" >reg-default-name</td>\n",
              "    </tr>\n",
              "    <tr>\n",
              "      <th id=\"T_1a428_level0_row22\" class=\"row_heading level0 row22\" >22</th>\n",
              "      <td id=\"T_1a428_row22_col0\" class=\"data row22 col0\" >USI</td>\n",
              "      <td id=\"T_1a428_row22_col1\" class=\"data row22 col1\" >6be9</td>\n",
              "    </tr>\n",
              "  </tbody>\n",
              "</table>\n"
            ]
          },
          "metadata": {}
        }
      ]
    },
    {
      "cell_type": "code",
      "source": [
        "best_model = compare_models()"
      ],
      "metadata": {
        "colab": {
          "base_uri": "https://localhost:8080/",
          "height": 694,
          "referenced_widgets": [
            "ed20814fa92c4a9aa217495780467fca",
            "56cf6c97945949dbaf56394309730551",
            "0cecb59604b4485290c49e3994be6cd0",
            "7892fd429df34f8ab042267ee6c977ca",
            "d0e1d1f02dcb46aabd839a4e0f42a728",
            "fc5cd4a93c444df29805582a7a280f69",
            "407e0335272a450ba50d44d1dddabe23",
            "c7a42b8f40b240deba3456c4f5469355",
            "009fc559b3124f5ca90a97ec6beee028",
            "99ffb08718ff49e9a9994ea96aaa2302",
            "1a5e897d2e9b4dca92136e88363be3a5"
          ]
        },
        "id": "o89nkOwMObF1",
        "outputId": "bad0a819-4158-4841-c1bb-f31b8e82cccf"
      },
      "execution_count": 9,
      "outputs": [
        {
          "output_type": "display_data",
          "data": {
            "text/plain": [
              "<IPython.core.display.HTML object>"
            ],
            "text/html": []
          },
          "metadata": {}
        },
        {
          "output_type": "display_data",
          "data": {
            "text/plain": [
              "<pandas.io.formats.style.Styler at 0x7d0ac765cbe0>"
            ],
            "text/html": [
              "<style type=\"text/css\">\n",
              "#T_0d3e9 th {\n",
              "  text-align: left;\n",
              "}\n",
              "#T_0d3e9_row0_col0, #T_0d3e9_row0_col1, #T_0d3e9_row0_col2, #T_0d3e9_row0_col3, #T_0d3e9_row0_col5, #T_0d3e9_row0_col6, #T_0d3e9_row1_col0, #T_0d3e9_row1_col1, #T_0d3e9_row1_col2, #T_0d3e9_row1_col3, #T_0d3e9_row1_col4, #T_0d3e9_row1_col5, #T_0d3e9_row1_col6, #T_0d3e9_row2_col0, #T_0d3e9_row2_col1, #T_0d3e9_row2_col2, #T_0d3e9_row2_col3, #T_0d3e9_row2_col4, #T_0d3e9_row2_col5, #T_0d3e9_row2_col6, #T_0d3e9_row3_col0, #T_0d3e9_row3_col1, #T_0d3e9_row3_col2, #T_0d3e9_row3_col3, #T_0d3e9_row3_col4, #T_0d3e9_row3_col5, #T_0d3e9_row3_col6, #T_0d3e9_row4_col0, #T_0d3e9_row4_col1, #T_0d3e9_row4_col2, #T_0d3e9_row4_col3, #T_0d3e9_row4_col4, #T_0d3e9_row4_col5, #T_0d3e9_row4_col6, #T_0d3e9_row5_col0, #T_0d3e9_row5_col1, #T_0d3e9_row5_col2, #T_0d3e9_row5_col3, #T_0d3e9_row5_col4, #T_0d3e9_row5_col5, #T_0d3e9_row5_col6, #T_0d3e9_row6_col0, #T_0d3e9_row6_col1, #T_0d3e9_row6_col2, #T_0d3e9_row6_col3, #T_0d3e9_row6_col4, #T_0d3e9_row6_col5, #T_0d3e9_row6_col6, #T_0d3e9_row7_col0, #T_0d3e9_row7_col4, #T_0d3e9_row8_col0, #T_0d3e9_row8_col1, #T_0d3e9_row8_col2, #T_0d3e9_row8_col3, #T_0d3e9_row8_col4, #T_0d3e9_row8_col5, #T_0d3e9_row8_col6, #T_0d3e9_row9_col0, #T_0d3e9_row9_col1, #T_0d3e9_row9_col2, #T_0d3e9_row9_col3, #T_0d3e9_row9_col4, #T_0d3e9_row9_col5, #T_0d3e9_row9_col6, #T_0d3e9_row10_col0, #T_0d3e9_row10_col1, #T_0d3e9_row10_col2, #T_0d3e9_row10_col3, #T_0d3e9_row10_col4, #T_0d3e9_row10_col5, #T_0d3e9_row10_col6, #T_0d3e9_row11_col0, #T_0d3e9_row11_col1, #T_0d3e9_row11_col2, #T_0d3e9_row11_col3, #T_0d3e9_row11_col4, #T_0d3e9_row11_col5, #T_0d3e9_row11_col6, #T_0d3e9_row12_col0, #T_0d3e9_row12_col1, #T_0d3e9_row12_col2, #T_0d3e9_row12_col3, #T_0d3e9_row12_col4, #T_0d3e9_row12_col5, #T_0d3e9_row12_col6, #T_0d3e9_row13_col0, #T_0d3e9_row13_col1, #T_0d3e9_row13_col2, #T_0d3e9_row13_col3, #T_0d3e9_row13_col4, #T_0d3e9_row13_col5, #T_0d3e9_row13_col6, #T_0d3e9_row14_col0, #T_0d3e9_row14_col1, #T_0d3e9_row14_col2, #T_0d3e9_row14_col3, #T_0d3e9_row14_col4, #T_0d3e9_row14_col5, #T_0d3e9_row14_col6, #T_0d3e9_row15_col0, #T_0d3e9_row15_col1, #T_0d3e9_row15_col2, #T_0d3e9_row15_col3, #T_0d3e9_row15_col4, #T_0d3e9_row15_col5, #T_0d3e9_row15_col6, #T_0d3e9_row16_col0, #T_0d3e9_row16_col1, #T_0d3e9_row16_col2, #T_0d3e9_row16_col3, #T_0d3e9_row16_col4, #T_0d3e9_row16_col5, #T_0d3e9_row16_col6, #T_0d3e9_row17_col0, #T_0d3e9_row17_col1, #T_0d3e9_row17_col2, #T_0d3e9_row17_col3, #T_0d3e9_row17_col4, #T_0d3e9_row17_col5, #T_0d3e9_row17_col6, #T_0d3e9_row18_col0, #T_0d3e9_row18_col1, #T_0d3e9_row18_col2, #T_0d3e9_row18_col3, #T_0d3e9_row18_col4, #T_0d3e9_row18_col5, #T_0d3e9_row18_col6 {\n",
              "  text-align: left;\n",
              "}\n",
              "#T_0d3e9_row0_col4, #T_0d3e9_row7_col1, #T_0d3e9_row7_col2, #T_0d3e9_row7_col3, #T_0d3e9_row7_col5, #T_0d3e9_row7_col6 {\n",
              "  text-align: left;\n",
              "  background-color: yellow;\n",
              "}\n",
              "#T_0d3e9_row0_col7, #T_0d3e9_row1_col7, #T_0d3e9_row2_col7, #T_0d3e9_row3_col7, #T_0d3e9_row4_col7, #T_0d3e9_row5_col7, #T_0d3e9_row6_col7, #T_0d3e9_row7_col7, #T_0d3e9_row8_col7, #T_0d3e9_row9_col7, #T_0d3e9_row10_col7, #T_0d3e9_row11_col7, #T_0d3e9_row12_col7, #T_0d3e9_row13_col7, #T_0d3e9_row14_col7, #T_0d3e9_row15_col7, #T_0d3e9_row16_col7, #T_0d3e9_row18_col7 {\n",
              "  text-align: left;\n",
              "  background-color: lightgrey;\n",
              "}\n",
              "#T_0d3e9_row17_col7 {\n",
              "  text-align: left;\n",
              "  background-color: yellow;\n",
              "  background-color: lightgrey;\n",
              "}\n",
              "</style>\n",
              "<table id=\"T_0d3e9\" class=\"dataframe\">\n",
              "  <thead>\n",
              "    <tr>\n",
              "      <th class=\"blank level0\" >&nbsp;</th>\n",
              "      <th id=\"T_0d3e9_level0_col0\" class=\"col_heading level0 col0\" >Model</th>\n",
              "      <th id=\"T_0d3e9_level0_col1\" class=\"col_heading level0 col1\" >MAE</th>\n",
              "      <th id=\"T_0d3e9_level0_col2\" class=\"col_heading level0 col2\" >MSE</th>\n",
              "      <th id=\"T_0d3e9_level0_col3\" class=\"col_heading level0 col3\" >RMSE</th>\n",
              "      <th id=\"T_0d3e9_level0_col4\" class=\"col_heading level0 col4\" >R2</th>\n",
              "      <th id=\"T_0d3e9_level0_col5\" class=\"col_heading level0 col5\" >RMSLE</th>\n",
              "      <th id=\"T_0d3e9_level0_col6\" class=\"col_heading level0 col6\" >MAPE</th>\n",
              "      <th id=\"T_0d3e9_level0_col7\" class=\"col_heading level0 col7\" >TT (Sec)</th>\n",
              "    </tr>\n",
              "  </thead>\n",
              "  <tbody>\n",
              "    <tr>\n",
              "      <th id=\"T_0d3e9_level0_row0\" class=\"row_heading level0 row0\" >en</th>\n",
              "      <td id=\"T_0d3e9_row0_col0\" class=\"data row0 col0\" >Elastic Net</td>\n",
              "      <td id=\"T_0d3e9_row0_col1\" class=\"data row0 col1\" >4131085826.9737</td>\n",
              "      <td id=\"T_0d3e9_row0_col2\" class=\"data row0 col2\" >104676913460536492032.0000</td>\n",
              "      <td id=\"T_0d3e9_row0_col3\" class=\"data row0 col3\" >9323399003.8916</td>\n",
              "      <td id=\"T_0d3e9_row0_col4\" class=\"data row0 col4\" >0.6264</td>\n",
              "      <td id=\"T_0d3e9_row0_col5\" class=\"data row0 col5\" >1.1487</td>\n",
              "      <td id=\"T_0d3e9_row0_col6\" class=\"data row0 col6\" >1.5326</td>\n",
              "      <td id=\"T_0d3e9_row0_col7\" class=\"data row0 col7\" >0.1160</td>\n",
              "    </tr>\n",
              "    <tr>\n",
              "      <th id=\"T_0d3e9_level0_row1\" class=\"row_heading level0 row1\" >ridge</th>\n",
              "      <td id=\"T_0d3e9_row1_col0\" class=\"data row1 col0\" >Ridge Regression</td>\n",
              "      <td id=\"T_0d3e9_row1_col1\" class=\"data row1 col1\" >4166439130.9228</td>\n",
              "      <td id=\"T_0d3e9_row1_col2\" class=\"data row1 col2\" >104943567287006806016.0000</td>\n",
              "      <td id=\"T_0d3e9_row1_col3\" class=\"data row1 col3\" >9339288306.8532</td>\n",
              "      <td id=\"T_0d3e9_row1_col4\" class=\"data row1 col4\" >0.6249</td>\n",
              "      <td id=\"T_0d3e9_row1_col5\" class=\"data row1 col5\" >1.1460</td>\n",
              "      <td id=\"T_0d3e9_row1_col6\" class=\"data row1 col6\" >1.5944</td>\n",
              "      <td id=\"T_0d3e9_row1_col7\" class=\"data row1 col7\" >0.1130</td>\n",
              "    </tr>\n",
              "    <tr>\n",
              "      <th id=\"T_0d3e9_level0_row2\" class=\"row_heading level0 row2\" >lr</th>\n",
              "      <td id=\"T_0d3e9_row2_col0\" class=\"data row2 col0\" >Linear Regression</td>\n",
              "      <td id=\"T_0d3e9_row2_col1\" class=\"data row2 col1\" >4167434724.9967</td>\n",
              "      <td id=\"T_0d3e9_row2_col2\" class=\"data row2 col2\" >104948811798079815680.0000</td>\n",
              "      <td id=\"T_0d3e9_row2_col3\" class=\"data row2 col3\" >9339560690.8917</td>\n",
              "      <td id=\"T_0d3e9_row2_col4\" class=\"data row2 col4\" >0.6248</td>\n",
              "      <td id=\"T_0d3e9_row2_col5\" class=\"data row2 col5\" >1.1454</td>\n",
              "      <td id=\"T_0d3e9_row2_col6\" class=\"data row2 col6\" >1.5956</td>\n",
              "      <td id=\"T_0d3e9_row2_col7\" class=\"data row2 col7\" >0.6990</td>\n",
              "    </tr>\n",
              "    <tr>\n",
              "      <th id=\"T_0d3e9_level0_row3\" class=\"row_heading level0 row3\" >lasso</th>\n",
              "      <td id=\"T_0d3e9_row3_col0\" class=\"data row3 col0\" >Lasso Regression</td>\n",
              "      <td id=\"T_0d3e9_row3_col1\" class=\"data row3 col1\" >4167434769.5580</td>\n",
              "      <td id=\"T_0d3e9_row3_col2\" class=\"data row3 col2\" >104948811922902614016.0000</td>\n",
              "      <td id=\"T_0d3e9_row3_col3\" class=\"data row3 col3\" >9339560699.8193</td>\n",
              "      <td id=\"T_0d3e9_row3_col4\" class=\"data row3 col4\" >0.6248</td>\n",
              "      <td id=\"T_0d3e9_row3_col5\" class=\"data row3 col5\" >1.1454</td>\n",
              "      <td id=\"T_0d3e9_row3_col6\" class=\"data row3 col6\" >1.5956</td>\n",
              "      <td id=\"T_0d3e9_row3_col7\" class=\"data row3 col7\" >0.1280</td>\n",
              "    </tr>\n",
              "    <tr>\n",
              "      <th id=\"T_0d3e9_level0_row4\" class=\"row_heading level0 row4\" >lar</th>\n",
              "      <td id=\"T_0d3e9_row4_col0\" class=\"data row4 col0\" >Least Angle Regression</td>\n",
              "      <td id=\"T_0d3e9_row4_col1\" class=\"data row4 col1\" >4167434769.4846</td>\n",
              "      <td id=\"T_0d3e9_row4_col2\" class=\"data row4 col2\" >104948811932534292480.0000</td>\n",
              "      <td id=\"T_0d3e9_row4_col3\" class=\"data row4 col3\" >9339560700.1813</td>\n",
              "      <td id=\"T_0d3e9_row4_col4\" class=\"data row4 col4\" >0.6248</td>\n",
              "      <td id=\"T_0d3e9_row4_col5\" class=\"data row4 col5\" >1.1454</td>\n",
              "      <td id=\"T_0d3e9_row4_col6\" class=\"data row4 col6\" >1.5956</td>\n",
              "      <td id=\"T_0d3e9_row4_col7\" class=\"data row4 col7\" >0.1180</td>\n",
              "    </tr>\n",
              "    <tr>\n",
              "      <th id=\"T_0d3e9_level0_row5\" class=\"row_heading level0 row5\" >llar</th>\n",
              "      <td id=\"T_0d3e9_row5_col0\" class=\"data row5 col0\" >Lasso Least Angle Regression</td>\n",
              "      <td id=\"T_0d3e9_row5_col1\" class=\"data row5 col1\" >4167434768.5634</td>\n",
              "      <td id=\"T_0d3e9_row5_col2\" class=\"data row5 col2\" >104948811925209825280.0000</td>\n",
              "      <td id=\"T_0d3e9_row5_col3\" class=\"data row5 col3\" >9339560699.7812</td>\n",
              "      <td id=\"T_0d3e9_row5_col4\" class=\"data row5 col4\" >0.6248</td>\n",
              "      <td id=\"T_0d3e9_row5_col5\" class=\"data row5 col5\" >1.1454</td>\n",
              "      <td id=\"T_0d3e9_row5_col6\" class=\"data row5 col6\" >1.5956</td>\n",
              "      <td id=\"T_0d3e9_row5_col7\" class=\"data row5 col7\" >0.2090</td>\n",
              "    </tr>\n",
              "    <tr>\n",
              "      <th id=\"T_0d3e9_level0_row6\" class=\"row_heading level0 row6\" >knn</th>\n",
              "      <td id=\"T_0d3e9_row6_col0\" class=\"data row6 col0\" >K Neighbors Regressor</td>\n",
              "      <td id=\"T_0d3e9_row6_col1\" class=\"data row6 col1\" >3061589824.0000</td>\n",
              "      <td id=\"T_0d3e9_row6_col2\" class=\"data row6 col2\" >104145154683538145280.0000</td>\n",
              "      <td id=\"T_0d3e9_row6_col3\" class=\"data row6 col3\" >9308207308.8000</td>\n",
              "      <td id=\"T_0d3e9_row6_col4\" class=\"data row6 col4\" >0.6184</td>\n",
              "      <td id=\"T_0d3e9_row6_col5\" class=\"data row6 col5\" >0.5856</td>\n",
              "      <td id=\"T_0d3e9_row6_col6\" class=\"data row6 col6\" >0.5815</td>\n",
              "      <td id=\"T_0d3e9_row6_col7\" class=\"data row6 col7\" >0.1200</td>\n",
              "    </tr>\n",
              "    <tr>\n",
              "      <th id=\"T_0d3e9_level0_row7\" class=\"row_heading level0 row7\" >rf</th>\n",
              "      <td id=\"T_0d3e9_row7_col0\" class=\"data row7 col0\" >Random Forest Regressor</td>\n",
              "      <td id=\"T_0d3e9_row7_col1\" class=\"data row7 col1\" >2946565959.6807</td>\n",
              "      <td id=\"T_0d3e9_row7_col2\" class=\"data row7 col2\" >103418482310770180096.0000</td>\n",
              "      <td id=\"T_0d3e9_row7_col3\" class=\"data row7 col3\" >9304826106.3012</td>\n",
              "      <td id=\"T_0d3e9_row7_col4\" class=\"data row7 col4\" >0.6038</td>\n",
              "      <td id=\"T_0d3e9_row7_col5\" class=\"data row7 col5\" >0.4780</td>\n",
              "      <td id=\"T_0d3e9_row7_col6\" class=\"data row7 col6\" >0.4493</td>\n",
              "      <td id=\"T_0d3e9_row7_col7\" class=\"data row7 col7\" >0.7520</td>\n",
              "    </tr>\n",
              "    <tr>\n",
              "      <th id=\"T_0d3e9_level0_row8\" class=\"row_heading level0 row8\" >lightgbm</th>\n",
              "      <td id=\"T_0d3e9_row8_col0\" class=\"data row8 col0\" >Light Gradient Boosting Machine</td>\n",
              "      <td id=\"T_0d3e9_row8_col1\" class=\"data row8 col1\" >3057398716.6437</td>\n",
              "      <td id=\"T_0d3e9_row8_col2\" class=\"data row8 col2\" >106066558364761063424.0000</td>\n",
              "      <td id=\"T_0d3e9_row8_col3\" class=\"data row8 col3\" >9435552922.0170</td>\n",
              "      <td id=\"T_0d3e9_row8_col4\" class=\"data row8 col4\" >0.5842</td>\n",
              "      <td id=\"T_0d3e9_row8_col5\" class=\"data row8 col5\" >0.5057</td>\n",
              "      <td id=\"T_0d3e9_row8_col6\" class=\"data row8 col6\" >0.4763</td>\n",
              "      <td id=\"T_0d3e9_row8_col7\" class=\"data row8 col7\" >0.7180</td>\n",
              "    </tr>\n",
              "    <tr>\n",
              "      <th id=\"T_0d3e9_level0_row9\" class=\"row_heading level0 row9\" >gbr</th>\n",
              "      <td id=\"T_0d3e9_row9_col0\" class=\"data row9 col0\" >Gradient Boosting Regressor</td>\n",
              "      <td id=\"T_0d3e9_row9_col1\" class=\"data row9 col1\" >3245031489.2014</td>\n",
              "      <td id=\"T_0d3e9_row9_col2\" class=\"data row9 col2\" >127331831752752496640.0000</td>\n",
              "      <td id=\"T_0d3e9_row9_col3\" class=\"data row9 col3\" >10251757989.5601</td>\n",
              "      <td id=\"T_0d3e9_row9_col4\" class=\"data row9 col4\" >0.5174</td>\n",
              "      <td id=\"T_0d3e9_row9_col5\" class=\"data row9 col5\" >0.5478</td>\n",
              "      <td id=\"T_0d3e9_row9_col6\" class=\"data row9 col6\" >0.5768</td>\n",
              "      <td id=\"T_0d3e9_row9_col7\" class=\"data row9 col7\" >0.2420</td>\n",
              "    </tr>\n",
              "    <tr>\n",
              "      <th id=\"T_0d3e9_level0_row10\" class=\"row_heading level0 row10\" >et</th>\n",
              "      <td id=\"T_0d3e9_row10_col0\" class=\"data row10 col0\" >Extra Trees Regressor</td>\n",
              "      <td id=\"T_0d3e9_row10_col1\" class=\"data row10 col1\" >3035027934.5531</td>\n",
              "      <td id=\"T_0d3e9_row10_col2\" class=\"data row10 col2\" >117867060079110832128.0000</td>\n",
              "      <td id=\"T_0d3e9_row10_col3\" class=\"data row10 col3\" >10076845480.4157</td>\n",
              "      <td id=\"T_0d3e9_row10_col4\" class=\"data row10 col4\" >0.5081</td>\n",
              "      <td id=\"T_0d3e9_row10_col5\" class=\"data row10 col5\" >0.4866</td>\n",
              "      <td id=\"T_0d3e9_row10_col6\" class=\"data row10 col6\" >0.4539</td>\n",
              "      <td id=\"T_0d3e9_row10_col7\" class=\"data row10 col7\" >0.6860</td>\n",
              "    </tr>\n",
              "    <tr>\n",
              "      <th id=\"T_0d3e9_level0_row11\" class=\"row_heading level0 row11\" >xgboost</th>\n",
              "      <td id=\"T_0d3e9_row11_col0\" class=\"data row11 col0\" >Extreme Gradient Boosting</td>\n",
              "      <td id=\"T_0d3e9_row11_col1\" class=\"data row11 col1\" >3332052518.4000</td>\n",
              "      <td id=\"T_0d3e9_row11_col2\" class=\"data row11 col2\" >136019129258090070016.0000</td>\n",
              "      <td id=\"T_0d3e9_row11_col3\" class=\"data row11 col3\" >10936872192.0000</td>\n",
              "      <td id=\"T_0d3e9_row11_col4\" class=\"data row11 col4\" >0.4160</td>\n",
              "      <td id=\"T_0d3e9_row11_col5\" class=\"data row11 col5\" >0.5354</td>\n",
              "      <td id=\"T_0d3e9_row11_col6\" class=\"data row11 col6\" >0.4763</td>\n",
              "      <td id=\"T_0d3e9_row11_col7\" class=\"data row11 col7\" >0.1810</td>\n",
              "    </tr>\n",
              "    <tr>\n",
              "      <th id=\"T_0d3e9_level0_row12\" class=\"row_heading level0 row12\" >ada</th>\n",
              "      <td id=\"T_0d3e9_row12_col0\" class=\"data row12 col0\" >AdaBoost Regressor</td>\n",
              "      <td id=\"T_0d3e9_row12_col1\" class=\"data row12 col1\" >7060514440.1509</td>\n",
              "      <td id=\"T_0d3e9_row12_col2\" class=\"data row12 col2\" >185799729035633491968.0000</td>\n",
              "      <td id=\"T_0d3e9_row12_col3\" class=\"data row12 col3\" >12601807552.3515</td>\n",
              "      <td id=\"T_0d3e9_row12_col4\" class=\"data row12 col4\" >0.2100</td>\n",
              "      <td id=\"T_0d3e9_row12_col5\" class=\"data row12 col5\" >1.3857</td>\n",
              "      <td id=\"T_0d3e9_row12_col6\" class=\"data row12 col6\" >4.0661</td>\n",
              "      <td id=\"T_0d3e9_row12_col7\" class=\"data row12 col7\" >0.1850</td>\n",
              "    </tr>\n",
              "    <tr>\n",
              "      <th id=\"T_0d3e9_level0_row13\" class=\"row_heading level0 row13\" >br</th>\n",
              "      <td id=\"T_0d3e9_row13_col0\" class=\"data row13 col0\" >Bayesian Ridge</td>\n",
              "      <td id=\"T_0d3e9_row13_col1\" class=\"data row13 col1\" >6147135121.3021</td>\n",
              "      <td id=\"T_0d3e9_row13_col2\" class=\"data row13 col2\" >195038139645402185728.0000</td>\n",
              "      <td id=\"T_0d3e9_row13_col3\" class=\"data row13 col3\" >13347096304.8239</td>\n",
              "      <td id=\"T_0d3e9_row13_col4\" class=\"data row13 col4\" >0.1882</td>\n",
              "      <td id=\"T_0d3e9_row13_col5\" class=\"data row13 col5\" >1.2682</td>\n",
              "      <td id=\"T_0d3e9_row13_col6\" class=\"data row13 col6\" >3.3630</td>\n",
              "      <td id=\"T_0d3e9_row13_col7\" class=\"data row13 col7\" >0.2050</td>\n",
              "    </tr>\n",
              "    <tr>\n",
              "      <th id=\"T_0d3e9_level0_row14\" class=\"row_heading level0 row14\" >omp</th>\n",
              "      <td id=\"T_0d3e9_row14_col0\" class=\"data row14 col0\" >Orthogonal Matching Pursuit</td>\n",
              "      <td id=\"T_0d3e9_row14_col1\" class=\"data row14 col1\" >6148394181.0820</td>\n",
              "      <td id=\"T_0d3e9_row14_col2\" class=\"data row14 col2\" >195056043565371686912.0000</td>\n",
              "      <td id=\"T_0d3e9_row14_col3\" class=\"data row14 col3\" >13348441705.2428</td>\n",
              "      <td id=\"T_0d3e9_row14_col4\" class=\"data row14 col4\" >0.1878</td>\n",
              "      <td id=\"T_0d3e9_row14_col5\" class=\"data row14 col5\" >1.2688</td>\n",
              "      <td id=\"T_0d3e9_row14_col6\" class=\"data row14 col6\" >3.3620</td>\n",
              "      <td id=\"T_0d3e9_row14_col7\" class=\"data row14 col7\" >0.1940</td>\n",
              "    </tr>\n",
              "    <tr>\n",
              "      <th id=\"T_0d3e9_level0_row15\" class=\"row_heading level0 row15\" >huber</th>\n",
              "      <td id=\"T_0d3e9_row15_col0\" class=\"data row15 col0\" >Huber Regressor</td>\n",
              "      <td id=\"T_0d3e9_row15_col1\" class=\"data row15 col1\" >4927956566.0073</td>\n",
              "      <td id=\"T_0d3e9_row15_col2\" class=\"data row15 col2\" >198714461770139959296.0000</td>\n",
              "      <td id=\"T_0d3e9_row15_col3\" class=\"data row15 col3\" >12683372515.8779</td>\n",
              "      <td id=\"T_0d3e9_row15_col4\" class=\"data row15 col4\" >0.1301</td>\n",
              "      <td id=\"T_0d3e9_row15_col5\" class=\"data row15 col5\" >1.0169</td>\n",
              "      <td id=\"T_0d3e9_row15_col6\" class=\"data row15 col6\" >1.8720</td>\n",
              "      <td id=\"T_0d3e9_row15_col7\" class=\"data row15 col7\" >0.1200</td>\n",
              "    </tr>\n",
              "    <tr>\n",
              "      <th id=\"T_0d3e9_level0_row16\" class=\"row_heading level0 row16\" >dt</th>\n",
              "      <td id=\"T_0d3e9_row16_col0\" class=\"data row16 col0\" >Decision Tree Regressor</td>\n",
              "      <td id=\"T_0d3e9_row16_col1\" class=\"data row16 col1\" >3946544082.2037</td>\n",
              "      <td id=\"T_0d3e9_row16_col2\" class=\"data row16 col2\" >216368280758923329536.0000</td>\n",
              "      <td id=\"T_0d3e9_row16_col3\" class=\"data row16 col3\" >13667386743.9207</td>\n",
              "      <td id=\"T_0d3e9_row16_col4\" class=\"data row16 col4\" >0.0384</td>\n",
              "      <td id=\"T_0d3e9_row16_col5\" class=\"data row16 col5\" >0.6137</td>\n",
              "      <td id=\"T_0d3e9_row16_col6\" class=\"data row16 col6\" >0.5446</td>\n",
              "      <td id=\"T_0d3e9_row16_col7\" class=\"data row16 col7\" >0.2350</td>\n",
              "    </tr>\n",
              "    <tr>\n",
              "      <th id=\"T_0d3e9_level0_row17\" class=\"row_heading level0 row17\" >dummy</th>\n",
              "      <td id=\"T_0d3e9_row17_col0\" class=\"data row17 col0\" >Dummy Regressor</td>\n",
              "      <td id=\"T_0d3e9_row17_col1\" class=\"data row17 col1\" >7751788288.0000</td>\n",
              "      <td id=\"T_0d3e9_row17_col2\" class=\"data row17 col2\" >244982700356212359168.0000</td>\n",
              "      <td id=\"T_0d3e9_row17_col3\" class=\"data row17 col3\" >14975914598.4000</td>\n",
              "      <td id=\"T_0d3e9_row17_col4\" class=\"data row17 col4\" >-0.0061</td>\n",
              "      <td id=\"T_0d3e9_row17_col5\" class=\"data row17 col5\" >1.5626</td>\n",
              "      <td id=\"T_0d3e9_row17_col6\" class=\"data row17 col6\" >4.3877</td>\n",
              "      <td id=\"T_0d3e9_row17_col7\" class=\"data row17 col7\" >0.1090</td>\n",
              "    </tr>\n",
              "    <tr>\n",
              "      <th id=\"T_0d3e9_level0_row18\" class=\"row_heading level0 row18\" >par</th>\n",
              "      <td id=\"T_0d3e9_row18_col0\" class=\"data row18 col0\" >Passive Aggressive Regressor</td>\n",
              "      <td id=\"T_0d3e9_row18_col1\" class=\"data row18 col1\" >7888500213.2668</td>\n",
              "      <td id=\"T_0d3e9_row18_col2\" class=\"data row18 col2\" >342113673972860059648.0000</td>\n",
              "      <td id=\"T_0d3e9_row18_col3\" class=\"data row18 col3\" >16507243772.1962</td>\n",
              "      <td id=\"T_0d3e9_row18_col4\" class=\"data row18 col4\" >-0.3061</td>\n",
              "      <td id=\"T_0d3e9_row18_col5\" class=\"data row18 col5\" >1.3465</td>\n",
              "      <td id=\"T_0d3e9_row18_col6\" class=\"data row18 col6\" >3.2008</td>\n",
              "      <td id=\"T_0d3e9_row18_col7\" class=\"data row18 col7\" >0.1640</td>\n",
              "    </tr>\n",
              "  </tbody>\n",
              "</table>\n"
            ]
          },
          "metadata": {}
        },
        {
          "output_type": "display_data",
          "data": {
            "text/plain": [
              "Processing:   0%|          | 0/81 [00:00<?, ?it/s]"
            ],
            "application/vnd.jupyter.widget-view+json": {
              "version_major": 2,
              "version_minor": 0,
              "model_id": "ed20814fa92c4a9aa217495780467fca"
            }
          },
          "metadata": {
            "application/vnd.jupyter.widget-view+json": {
              "colab": {
                "custom_widget_manager": {
                  "url": "https://ssl.gstatic.com/colaboratory-static/widgets/colab-cdn-widget-manager/b3e629b1971e1542/manager.min.js"
                }
              }
            }
          }
        },
        {
          "output_type": "display_data",
          "data": {
            "text/plain": [
              "<IPython.core.display.HTML object>"
            ],
            "text/html": []
          },
          "metadata": {}
        }
      ]
    },
    {
      "cell_type": "code",
      "source": [
        "print(best_model)"
      ],
      "metadata": {
        "colab": {
          "base_uri": "https://localhost:8080/"
        },
        "id": "2pQfa2Xvi389",
        "outputId": "e0681bd2-8434-4097-9a0a-99b3d20ae27a"
      },
      "execution_count": 18,
      "outputs": [
        {
          "output_type": "stream",
          "name": "stdout",
          "text": [
            "ElasticNet(random_state=469)\n"
          ]
        }
      ]
    },
    {
      "cell_type": "code",
      "source": [
        "rf_model = create_model('rf')"
      ],
      "metadata": {
        "colab": {
          "base_uri": "https://localhost:8080/",
          "height": 491,
          "referenced_widgets": [
            "7da8ef40054248a594bbceebd0a9bd1c",
            "014411d082734de184fa85557d73bb34",
            "8f8539e7939e4f72aeb8b34afacc9d1e",
            "ab8c348f0ace44bc8d82884e26dfd001",
            "087828b4743c41dcb045a0239656fab3",
            "3157af18cfae4609b214172764529de5",
            "4acb21e88e714373a195040d718b76bd",
            "5ef2e6fe486649b097f5ea2ae93ee5af",
            "8226f8c2195c47749af9c1abb10f991a",
            "792c09ce872a441fbdf1ecbe92a30783",
            "211f84ea28d24425b5be560adc88dbd3"
          ]
        },
        "id": "Z_47yi9doBfg",
        "outputId": "0897ce54-620a-42a0-c208-833aab86a896"
      },
      "execution_count": 27,
      "outputs": [
        {
          "output_type": "display_data",
          "data": {
            "text/plain": [
              "<IPython.core.display.HTML object>"
            ],
            "text/html": []
          },
          "metadata": {}
        },
        {
          "output_type": "display_data",
          "data": {
            "text/plain": [
              "<pandas.io.formats.style.Styler at 0x7d0a932d6a10>"
            ],
            "text/html": [
              "<style type=\"text/css\">\n",
              "#T_815d7_row10_col0, #T_815d7_row10_col1, #T_815d7_row10_col2, #T_815d7_row10_col3, #T_815d7_row10_col4, #T_815d7_row10_col5 {\n",
              "  background: yellow;\n",
              "}\n",
              "</style>\n",
              "<table id=\"T_815d7\" class=\"dataframe\">\n",
              "  <thead>\n",
              "    <tr>\n",
              "      <th class=\"blank level0\" >&nbsp;</th>\n",
              "      <th id=\"T_815d7_level0_col0\" class=\"col_heading level0 col0\" >MAE</th>\n",
              "      <th id=\"T_815d7_level0_col1\" class=\"col_heading level0 col1\" >MSE</th>\n",
              "      <th id=\"T_815d7_level0_col2\" class=\"col_heading level0 col2\" >RMSE</th>\n",
              "      <th id=\"T_815d7_level0_col3\" class=\"col_heading level0 col3\" >R2</th>\n",
              "      <th id=\"T_815d7_level0_col4\" class=\"col_heading level0 col4\" >RMSLE</th>\n",
              "      <th id=\"T_815d7_level0_col5\" class=\"col_heading level0 col5\" >MAPE</th>\n",
              "    </tr>\n",
              "    <tr>\n",
              "      <th class=\"index_name level0\" >Fold</th>\n",
              "      <th class=\"blank col0\" >&nbsp;</th>\n",
              "      <th class=\"blank col1\" >&nbsp;</th>\n",
              "      <th class=\"blank col2\" >&nbsp;</th>\n",
              "      <th class=\"blank col3\" >&nbsp;</th>\n",
              "      <th class=\"blank col4\" >&nbsp;</th>\n",
              "      <th class=\"blank col5\" >&nbsp;</th>\n",
              "    </tr>\n",
              "  </thead>\n",
              "  <tbody>\n",
              "    <tr>\n",
              "      <th id=\"T_815d7_level0_row0\" class=\"row_heading level0 row0\" >0</th>\n",
              "      <td id=\"T_815d7_row0_col0\" class=\"data row0 col0\" >3078884174.6398</td>\n",
              "      <td id=\"T_815d7_row0_col1\" class=\"data row0 col1\" >89483669456869621760.0000</td>\n",
              "      <td id=\"T_815d7_row0_col2\" class=\"data row0 col2\" >9459580828.8142</td>\n",
              "      <td id=\"T_815d7_row0_col3\" class=\"data row0 col3\" >0.6543</td>\n",
              "      <td id=\"T_815d7_row0_col4\" class=\"data row0 col4\" >0.4930</td>\n",
              "      <td id=\"T_815d7_row0_col5\" class=\"data row0 col5\" >0.4541</td>\n",
              "    </tr>\n",
              "    <tr>\n",
              "      <th id=\"T_815d7_level0_row1\" class=\"row_heading level0 row1\" >1</th>\n",
              "      <td id=\"T_815d7_row1_col0\" class=\"data row1 col0\" >3783675614.3924</td>\n",
              "      <td id=\"T_815d7_row1_col1\" class=\"data row1 col1\" >101984688524490522624.0000</td>\n",
              "      <td id=\"T_815d7_row1_col2\" class=\"data row1 col2\" >10098746878.9197</td>\n",
              "      <td id=\"T_815d7_row1_col3\" class=\"data row1 col3\" >0.3925</td>\n",
              "      <td id=\"T_815d7_row1_col4\" class=\"data row1 col4\" >0.5081</td>\n",
              "      <td id=\"T_815d7_row1_col5\" class=\"data row1 col5\" >0.5057</td>\n",
              "    </tr>\n",
              "    <tr>\n",
              "      <th id=\"T_815d7_level0_row2\" class=\"row_heading level0 row2\" >2</th>\n",
              "      <td id=\"T_815d7_row2_col0\" class=\"data row2 col0\" >2272339987.0848</td>\n",
              "      <td id=\"T_815d7_row2_col1\" class=\"data row2 col1\" >57112024264407310336.0000</td>\n",
              "      <td id=\"T_815d7_row2_col2\" class=\"data row2 col2\" >7557249781.7928</td>\n",
              "      <td id=\"T_815d7_row2_col3\" class=\"data row2 col3\" >0.6099</td>\n",
              "      <td id=\"T_815d7_row2_col4\" class=\"data row2 col4\" >0.4316</td>\n",
              "      <td id=\"T_815d7_row2_col5\" class=\"data row2 col5\" >0.3396</td>\n",
              "    </tr>\n",
              "    <tr>\n",
              "      <th id=\"T_815d7_level0_row3\" class=\"row_heading level0 row3\" >3</th>\n",
              "      <td id=\"T_815d7_row3_col0\" class=\"data row3 col0\" >2574459132.0359</td>\n",
              "      <td id=\"T_815d7_row3_col1\" class=\"data row3 col1\" >53937906534609084416.0000</td>\n",
              "      <td id=\"T_815d7_row3_col2\" class=\"data row3 col2\" >7344243087.9301</td>\n",
              "      <td id=\"T_815d7_row3_col3\" class=\"data row3 col3\" >0.3816</td>\n",
              "      <td id=\"T_815d7_row3_col4\" class=\"data row3 col4\" >0.5292</td>\n",
              "      <td id=\"T_815d7_row3_col5\" class=\"data row3 col5\" >0.5231</td>\n",
              "    </tr>\n",
              "    <tr>\n",
              "      <th id=\"T_815d7_level0_row4\" class=\"row_heading level0 row4\" >4</th>\n",
              "      <td id=\"T_815d7_row4_col0\" class=\"data row4 col0\" >1574585378.9888</td>\n",
              "      <td id=\"T_815d7_row4_col1\" class=\"data row4 col1\" >14763265398139060224.0000</td>\n",
              "      <td id=\"T_815d7_row4_col2\" class=\"data row4 col2\" >3842299493.5506</td>\n",
              "      <td id=\"T_815d7_row4_col3\" class=\"data row4 col3\" >0.8772</td>\n",
              "      <td id=\"T_815d7_row4_col4\" class=\"data row4 col4\" >0.4216</td>\n",
              "      <td id=\"T_815d7_row4_col5\" class=\"data row4 col5\" >0.3528</td>\n",
              "    </tr>\n",
              "    <tr>\n",
              "      <th id=\"T_815d7_level0_row5\" class=\"row_heading level0 row5\" >5</th>\n",
              "      <td id=\"T_815d7_row5_col0\" class=\"data row5 col0\" >3023454799.3419</td>\n",
              "      <td id=\"T_815d7_row5_col1\" class=\"data row5 col1\" >116505168512782663680.0000</td>\n",
              "      <td id=\"T_815d7_row5_col2\" class=\"data row5 col2\" >10793755996.5372</td>\n",
              "      <td id=\"T_815d7_row5_col3\" class=\"data row5 col3\" >0.6833</td>\n",
              "      <td id=\"T_815d7_row5_col4\" class=\"data row5 col4\" >0.4254</td>\n",
              "      <td id=\"T_815d7_row5_col5\" class=\"data row5 col5\" >0.3984</td>\n",
              "    </tr>\n",
              "    <tr>\n",
              "      <th id=\"T_815d7_level0_row6\" class=\"row_heading level0 row6\" >6</th>\n",
              "      <td id=\"T_815d7_row6_col0\" class=\"data row6 col0\" >4472399799.9193</td>\n",
              "      <td id=\"T_815d7_row6_col1\" class=\"data row6 col1\" >395379145768983461888.0000</td>\n",
              "      <td id=\"T_815d7_row6_col2\" class=\"data row6 col2\" >19884143073.5394</td>\n",
              "      <td id=\"T_815d7_row6_col3\" class=\"data row6 col3\" >0.3896</td>\n",
              "      <td id=\"T_815d7_row6_col4\" class=\"data row6 col4\" >0.4519</td>\n",
              "      <td id=\"T_815d7_row6_col5\" class=\"data row6 col5\" >0.4044</td>\n",
              "    </tr>\n",
              "    <tr>\n",
              "      <th id=\"T_815d7_level0_row7\" class=\"row_heading level0 row7\" >7</th>\n",
              "      <td id=\"T_815d7_row7_col0\" class=\"data row7 col0\" >2738947377.5826</td>\n",
              "      <td id=\"T_815d7_row7_col1\" class=\"data row7 col1\" >45338307949797548032.0000</td>\n",
              "      <td id=\"T_815d7_row7_col2\" class=\"data row7 col2\" >6733372702.4276</td>\n",
              "      <td id=\"T_815d7_row7_col3\" class=\"data row7 col3\" >0.8091</td>\n",
              "      <td id=\"T_815d7_row7_col4\" class=\"data row7 col4\" >0.5158</td>\n",
              "      <td id=\"T_815d7_row7_col5\" class=\"data row7 col5\" >0.5155</td>\n",
              "    </tr>\n",
              "    <tr>\n",
              "      <th id=\"T_815d7_level0_row8\" class=\"row_heading level0 row8\" >8</th>\n",
              "      <td id=\"T_815d7_row8_col0\" class=\"data row8 col0\" >2642554299.3418</td>\n",
              "      <td id=\"T_815d7_row8_col1\" class=\"data row8 col1\" >42195705526566117376.0000</td>\n",
              "      <td id=\"T_815d7_row8_col2\" class=\"data row8 col2\" >6495822159.4011</td>\n",
              "      <td id=\"T_815d7_row8_col3\" class=\"data row8 col3\" >0.6544</td>\n",
              "      <td id=\"T_815d7_row8_col4\" class=\"data row8 col4\" >0.5100</td>\n",
              "      <td id=\"T_815d7_row8_col5\" class=\"data row8 col5\" >0.5447</td>\n",
              "    </tr>\n",
              "    <tr>\n",
              "      <th id=\"T_815d7_level0_row9\" class=\"row_heading level0 row9\" >9</th>\n",
              "      <td id=\"T_815d7_row9_col0\" class=\"data row9 col0\" >3304359033.4796</td>\n",
              "      <td id=\"T_815d7_row9_col1\" class=\"data row9 col1\" >117484941171056476160.0000</td>\n",
              "      <td id=\"T_815d7_row9_col2\" class=\"data row9 col2\" >10839047060.0997</td>\n",
              "      <td id=\"T_815d7_row9_col3\" class=\"data row9 col3\" >0.5864</td>\n",
              "      <td id=\"T_815d7_row9_col4\" class=\"data row9 col4\" >0.4934</td>\n",
              "      <td id=\"T_815d7_row9_col5\" class=\"data row9 col5\" >0.4542</td>\n",
              "    </tr>\n",
              "    <tr>\n",
              "      <th id=\"T_815d7_level0_row10\" class=\"row_heading level0 row10\" >Mean</th>\n",
              "      <td id=\"T_815d7_row10_col0\" class=\"data row10 col0\" >2946565959.6807</td>\n",
              "      <td id=\"T_815d7_row10_col1\" class=\"data row10 col1\" >103418482310770180096.0000</td>\n",
              "      <td id=\"T_815d7_row10_col2\" class=\"data row10 col2\" >9304826106.3012</td>\n",
              "      <td id=\"T_815d7_row10_col3\" class=\"data row10 col3\" >0.6038</td>\n",
              "      <td id=\"T_815d7_row10_col4\" class=\"data row10 col4\" >0.4780</td>\n",
              "      <td id=\"T_815d7_row10_col5\" class=\"data row10 col5\" >0.4493</td>\n",
              "    </tr>\n",
              "    <tr>\n",
              "      <th id=\"T_815d7_level0_row11\" class=\"row_heading level0 row11\" >Std</th>\n",
              "      <td id=\"T_815d7_row11_col0\" class=\"data row11 col0\" >761003337.8189</td>\n",
              "      <td id=\"T_815d7_row11_col1\" class=\"data row11 col1\" >102654901672646918144.0000</td>\n",
              "      <td id=\"T_815d7_row11_col2\" class=\"data row11 col2\" >4103497708.3295</td>\n",
              "      <td id=\"T_815d7_row11_col3\" class=\"data row11 col3\" >0.1639</td>\n",
              "      <td id=\"T_815d7_row11_col4\" class=\"data row11 col4\" >0.0390</td>\n",
              "      <td id=\"T_815d7_row11_col5\" class=\"data row11 col5\" >0.0694</td>\n",
              "    </tr>\n",
              "  </tbody>\n",
              "</table>\n"
            ]
          },
          "metadata": {}
        },
        {
          "output_type": "display_data",
          "data": {
            "text/plain": [
              "Processing:   0%|          | 0/4 [00:00<?, ?it/s]"
            ],
            "application/vnd.jupyter.widget-view+json": {
              "version_major": 2,
              "version_minor": 0,
              "model_id": "7da8ef40054248a594bbceebd0a9bd1c"
            }
          },
          "metadata": {
            "application/vnd.jupyter.widget-view+json": {
              "colab": {
                "custom_widget_manager": {
                  "url": "https://ssl.gstatic.com/colaboratory-static/widgets/colab-cdn-widget-manager/b3e629b1971e1542/manager.min.js"
                }
              }
            }
          }
        },
        {
          "output_type": "display_data",
          "data": {
            "text/plain": [
              "<IPython.core.display.HTML object>"
            ],
            "text/html": []
          },
          "metadata": {}
        }
      ]
    },
    {
      "cell_type": "code",
      "source": [
        "tuned_model = tune_model(rf_model)"
      ],
      "metadata": {
        "colab": {
          "base_uri": "https://localhost:8080/",
          "height": 511,
          "referenced_widgets": [
            "050519846112448590be9e116d2d542d",
            "12f76895f87f41b19f81be1984a10eb2",
            "5028f99858be49bfae1a6913370ed4d8",
            "2a5bd746825b47b7952ab416b4a4aecc",
            "0111ff4c27a8449d85cbf38409c52185",
            "df77309a7f664c869cb002e43550b76c",
            "bb2c7f749c78423292013b9b66999ec0",
            "6a7e70d212834c289c9ca6f7d76d9283",
            "4b2fc6e5eef34099963e8e39987027f5",
            "9bef3b967d134b7fa15d5813f94d460d",
            "04291812dbc34c12a1a44d2ad7c15052"
          ]
        },
        "id": "Z4BYBItcAJqc",
        "outputId": "254d70e0-db3b-400d-b5d9-44e5b20aa8a3"
      },
      "execution_count": 28,
      "outputs": [
        {
          "output_type": "display_data",
          "data": {
            "text/plain": [
              "<IPython.core.display.HTML object>"
            ],
            "text/html": []
          },
          "metadata": {}
        },
        {
          "output_type": "display_data",
          "data": {
            "text/plain": [
              "<pandas.io.formats.style.Styler at 0x7d0aa498f700>"
            ],
            "text/html": [
              "<style type=\"text/css\">\n",
              "#T_5e915_row10_col0, #T_5e915_row10_col1, #T_5e915_row10_col2, #T_5e915_row10_col3, #T_5e915_row10_col4, #T_5e915_row10_col5 {\n",
              "  background: yellow;\n",
              "}\n",
              "</style>\n",
              "<table id=\"T_5e915\" class=\"dataframe\">\n",
              "  <thead>\n",
              "    <tr>\n",
              "      <th class=\"blank level0\" >&nbsp;</th>\n",
              "      <th id=\"T_5e915_level0_col0\" class=\"col_heading level0 col0\" >MAE</th>\n",
              "      <th id=\"T_5e915_level0_col1\" class=\"col_heading level0 col1\" >MSE</th>\n",
              "      <th id=\"T_5e915_level0_col2\" class=\"col_heading level0 col2\" >RMSE</th>\n",
              "      <th id=\"T_5e915_level0_col3\" class=\"col_heading level0 col3\" >R2</th>\n",
              "      <th id=\"T_5e915_level0_col4\" class=\"col_heading level0 col4\" >RMSLE</th>\n",
              "      <th id=\"T_5e915_level0_col5\" class=\"col_heading level0 col5\" >MAPE</th>\n",
              "    </tr>\n",
              "    <tr>\n",
              "      <th class=\"index_name level0\" >Fold</th>\n",
              "      <th class=\"blank col0\" >&nbsp;</th>\n",
              "      <th class=\"blank col1\" >&nbsp;</th>\n",
              "      <th class=\"blank col2\" >&nbsp;</th>\n",
              "      <th class=\"blank col3\" >&nbsp;</th>\n",
              "      <th class=\"blank col4\" >&nbsp;</th>\n",
              "      <th class=\"blank col5\" >&nbsp;</th>\n",
              "    </tr>\n",
              "  </thead>\n",
              "  <tbody>\n",
              "    <tr>\n",
              "      <th id=\"T_5e915_level0_row0\" class=\"row_heading level0 row0\" >0</th>\n",
              "      <td id=\"T_5e915_row0_col0\" class=\"data row0 col0\" >3274551845.6437</td>\n",
              "      <td id=\"T_5e915_row0_col1\" class=\"data row0 col1\" >89849664417716043776.0000</td>\n",
              "      <td id=\"T_5e915_row0_col2\" class=\"data row0 col2\" >9478906288.0543</td>\n",
              "      <td id=\"T_5e915_row0_col3\" class=\"data row0 col3\" >0.6529</td>\n",
              "      <td id=\"T_5e915_row0_col4\" class=\"data row0 col4\" >0.5958</td>\n",
              "      <td id=\"T_5e915_row0_col5\" class=\"data row0 col5\" >0.6593</td>\n",
              "    </tr>\n",
              "    <tr>\n",
              "      <th id=\"T_5e915_level0_row1\" class=\"row_heading level0 row1\" >1</th>\n",
              "      <td id=\"T_5e915_row1_col0\" class=\"data row1 col0\" >3130011501.9475</td>\n",
              "      <td id=\"T_5e915_row1_col1\" class=\"data row1 col1\" >41344869432120901632.0000</td>\n",
              "      <td id=\"T_5e915_row1_col2\" class=\"data row1 col2\" >6429997623.0261</td>\n",
              "      <td id=\"T_5e915_row1_col3\" class=\"data row1 col3\" >0.7537</td>\n",
              "      <td id=\"T_5e915_row1_col4\" class=\"data row1 col4\" >0.5527</td>\n",
              "      <td id=\"T_5e915_row1_col5\" class=\"data row1 col5\" >0.6036</td>\n",
              "    </tr>\n",
              "    <tr>\n",
              "      <th id=\"T_5e915_level0_row2\" class=\"row_heading level0 row2\" >2</th>\n",
              "      <td id=\"T_5e915_row2_col0\" class=\"data row2 col0\" >2282272665.9797</td>\n",
              "      <td id=\"T_5e915_row2_col1\" class=\"data row2 col1\" >45161560388420378624.0000</td>\n",
              "      <td id=\"T_5e915_row2_col2\" class=\"data row2 col2\" >6720235143.8339</td>\n",
              "      <td id=\"T_5e915_row2_col3\" class=\"data row2 col3\" >0.6916</td>\n",
              "      <td id=\"T_5e915_row2_col4\" class=\"data row2 col4\" >0.4831</td>\n",
              "      <td id=\"T_5e915_row2_col5\" class=\"data row2 col5\" >0.4618</td>\n",
              "    </tr>\n",
              "    <tr>\n",
              "      <th id=\"T_5e915_level0_row3\" class=\"row_heading level0 row3\" >3</th>\n",
              "      <td id=\"T_5e915_row3_col0\" class=\"data row3 col0\" >2562595749.2957</td>\n",
              "      <td id=\"T_5e915_row3_col1\" class=\"data row3 col1\" >39997348356844396544.0000</td>\n",
              "      <td id=\"T_5e915_row3_col2\" class=\"data row3 col2\" >6324345686.0646</td>\n",
              "      <td id=\"T_5e915_row3_col3\" class=\"data row3 col3\" >0.5415</td>\n",
              "      <td id=\"T_5e915_row3_col4\" class=\"data row3 col4\" >0.6233</td>\n",
              "      <td id=\"T_5e915_row3_col5\" class=\"data row3 col5\" >0.7863</td>\n",
              "    </tr>\n",
              "    <tr>\n",
              "      <th id=\"T_5e915_level0_row4\" class=\"row_heading level0 row4\" >4</th>\n",
              "      <td id=\"T_5e915_row4_col0\" class=\"data row4 col0\" >1701006873.1251</td>\n",
              "      <td id=\"T_5e915_row4_col1\" class=\"data row4 col1\" >11040136439476097024.0000</td>\n",
              "      <td id=\"T_5e915_row4_col2\" class=\"data row4 col2\" >3322670076.8322</td>\n",
              "      <td id=\"T_5e915_row4_col3\" class=\"data row4 col3\" >0.9081</td>\n",
              "      <td id=\"T_5e915_row4_col4\" class=\"data row4 col4\" >0.5080</td>\n",
              "      <td id=\"T_5e915_row4_col5\" class=\"data row4 col5\" >0.5271</td>\n",
              "    </tr>\n",
              "    <tr>\n",
              "      <th id=\"T_5e915_level0_row5\" class=\"row_heading level0 row5\" >5</th>\n",
              "      <td id=\"T_5e915_row5_col0\" class=\"data row5 col0\" >3141697720.2178</td>\n",
              "      <td id=\"T_5e915_row5_col1\" class=\"data row5 col1\" >142163194492474114048.0000</td>\n",
              "      <td id=\"T_5e915_row5_col2\" class=\"data row5 col2\" >11923220810.3546</td>\n",
              "      <td id=\"T_5e915_row5_col3\" class=\"data row5 col3\" >0.6136</td>\n",
              "      <td id=\"T_5e915_row5_col4\" class=\"data row5 col4\" >0.5096</td>\n",
              "      <td id=\"T_5e915_row5_col5\" class=\"data row5 col5\" >0.5279</td>\n",
              "    </tr>\n",
              "    <tr>\n",
              "      <th id=\"T_5e915_level0_row6\" class=\"row_heading level0 row6\" >6</th>\n",
              "      <td id=\"T_5e915_row6_col0\" class=\"data row6 col0\" >4808920516.8243</td>\n",
              "      <td id=\"T_5e915_row6_col1\" class=\"data row6 col1\" >398137103918110998528.0000</td>\n",
              "      <td id=\"T_5e915_row6_col2\" class=\"data row6 col2\" >19953373246.5995</td>\n",
              "      <td id=\"T_5e915_row6_col3\" class=\"data row6 col3\" >0.3853</td>\n",
              "      <td id=\"T_5e915_row6_col4\" class=\"data row6 col4\" >0.5756</td>\n",
              "      <td id=\"T_5e915_row6_col5\" class=\"data row6 col5\" >0.6162</td>\n",
              "    </tr>\n",
              "    <tr>\n",
              "      <th id=\"T_5e915_level0_row7\" class=\"row_heading level0 row7\" >7</th>\n",
              "      <td id=\"T_5e915_row7_col0\" class=\"data row7 col0\" >3305279620.9240</td>\n",
              "      <td id=\"T_5e915_row7_col1\" class=\"data row7 col1\" >55613064466202132480.0000</td>\n",
              "      <td id=\"T_5e915_row7_col2\" class=\"data row7 col2\" >7457416742.1569</td>\n",
              "      <td id=\"T_5e915_row7_col3\" class=\"data row7 col3\" >0.7658</td>\n",
              "      <td id=\"T_5e915_row7_col4\" class=\"data row7 col4\" >0.6527</td>\n",
              "      <td id=\"T_5e915_row7_col5\" class=\"data row7 col5\" >0.8017</td>\n",
              "    </tr>\n",
              "    <tr>\n",
              "      <th id=\"T_5e915_level0_row8\" class=\"row_heading level0 row8\" >8</th>\n",
              "      <td id=\"T_5e915_row8_col0\" class=\"data row8 col0\" >2580515259.5716</td>\n",
              "      <td id=\"T_5e915_row8_col1\" class=\"data row8 col1\" >32817308698175950848.0000</td>\n",
              "      <td id=\"T_5e915_row8_col2\" class=\"data row8 col2\" >5728639340.9060</td>\n",
              "      <td id=\"T_5e915_row8_col3\" class=\"data row8 col3\" >0.7312</td>\n",
              "      <td id=\"T_5e915_row8_col4\" class=\"data row8 col4\" >0.6202</td>\n",
              "      <td id=\"T_5e915_row8_col5\" class=\"data row8 col5\" >0.7667</td>\n",
              "    </tr>\n",
              "    <tr>\n",
              "      <th id=\"T_5e915_level0_row9\" class=\"row_heading level0 row9\" >9</th>\n",
              "      <td id=\"T_5e915_row9_col0\" class=\"data row9 col0\" >3601574965.2131</td>\n",
              "      <td id=\"T_5e915_row9_col1\" class=\"data row9 col1\" >120661452769547042816.0000</td>\n",
              "      <td id=\"T_5e915_row9_col2\" class=\"data row9 col2\" >10984600710.5196</td>\n",
              "      <td id=\"T_5e915_row9_col3\" class=\"data row9 col3\" >0.5752</td>\n",
              "      <td id=\"T_5e915_row9_col4\" class=\"data row9 col4\" >0.5963</td>\n",
              "      <td id=\"T_5e915_row9_col5\" class=\"data row9 col5\" >0.6274</td>\n",
              "    </tr>\n",
              "    <tr>\n",
              "      <th id=\"T_5e915_level0_row10\" class=\"row_heading level0 row10\" >Mean</th>\n",
              "      <td id=\"T_5e915_row10_col0\" class=\"data row10 col0\" >3038842671.8742</td>\n",
              "      <td id=\"T_5e915_row10_col1\" class=\"data row10 col1\" >97678570337908801536.0000</td>\n",
              "      <td id=\"T_5e915_row10_col2\" class=\"data row10 col2\" >8832340566.8348</td>\n",
              "      <td id=\"T_5e915_row10_col3\" class=\"data row10 col3\" >0.6619</td>\n",
              "      <td id=\"T_5e915_row10_col4\" class=\"data row10 col4\" >0.5717</td>\n",
              "      <td id=\"T_5e915_row10_col5\" class=\"data row10 col5\" >0.6378</td>\n",
              "    </tr>\n",
              "    <tr>\n",
              "      <th id=\"T_5e915_level0_row11\" class=\"row_heading level0 row11\" >Std</th>\n",
              "      <td id=\"T_5e915_row11_col0\" class=\"data row11 col0\" >799647393.3229</td>\n",
              "      <td id=\"T_5e915_row11_col1\" class=\"data row11 col1\" >107510497475935797248.0000</td>\n",
              "      <td id=\"T_5e915_row11_col2\" class=\"data row11 col2\" >4434899147.5967</td>\n",
              "      <td id=\"T_5e915_row11_col3\" class=\"data row11 col3\" >0.1366</td>\n",
              "      <td id=\"T_5e915_row11_col4\" class=\"data row11 col4\" >0.0538</td>\n",
              "      <td id=\"T_5e915_row11_col5\" class=\"data row11 col5\" >0.1109</td>\n",
              "    </tr>\n",
              "  </tbody>\n",
              "</table>\n"
            ]
          },
          "metadata": {}
        },
        {
          "output_type": "display_data",
          "data": {
            "text/plain": [
              "Processing:   0%|          | 0/7 [00:00<?, ?it/s]"
            ],
            "application/vnd.jupyter.widget-view+json": {
              "version_major": 2,
              "version_minor": 0,
              "model_id": "050519846112448590be9e116d2d542d"
            }
          },
          "metadata": {
            "application/vnd.jupyter.widget-view+json": {
              "colab": {
                "custom_widget_manager": {
                  "url": "https://ssl.gstatic.com/colaboratory-static/widgets/colab-cdn-widget-manager/b3e629b1971e1542/manager.min.js"
                }
              }
            }
          }
        },
        {
          "output_type": "stream",
          "name": "stdout",
          "text": [
            "Fitting 10 folds for each of 10 candidates, totalling 100 fits\n"
          ]
        },
        {
          "output_type": "display_data",
          "data": {
            "text/plain": [
              "<IPython.core.display.HTML object>"
            ],
            "text/html": []
          },
          "metadata": {}
        }
      ]
    },
    {
      "cell_type": "code",
      "source": [
        "evaluate_model(tuned_model)"
      ],
      "metadata": {
        "colab": {
          "base_uri": "https://localhost:8080/",
          "height": 712,
          "referenced_widgets": [
            "48c753486b8b4a348259b9078a573147",
            "ffd658e652394c069aa8819e341b7a21",
            "b3700ff46e494bc480d220f482253244",
            "a4ace2593be04547aa1d7922e4dca154",
            "244798ab080743c8aec58843e8cc9b2f",
            "52a204b41c2f4d5993fab0c47528cd7e",
            "0aeeac8a3f534365be0b82006f2d2cf0"
          ]
        },
        "id": "QJywOK83OruW",
        "outputId": "3b7189a4-e6c8-4fb3-8e9b-722f023ce55e"
      },
      "execution_count": 29,
      "outputs": [
        {
          "output_type": "display_data",
          "data": {
            "text/plain": [
              "interactive(children=(ToggleButtons(description='Plot Type:', icons=('',), options=(('Pipeline Plot', 'pipelin…"
            ],
            "application/vnd.jupyter.widget-view+json": {
              "version_major": 2,
              "version_minor": 0,
              "model_id": "48c753486b8b4a348259b9078a573147"
            }
          },
          "metadata": {
            "application/vnd.jupyter.widget-view+json": {
              "colab": {
                "custom_widget_manager": {
                  "url": "https://ssl.gstatic.com/colaboratory-static/widgets/colab-cdn-widget-manager/b3e629b1971e1542/manager.min.js"
                }
              }
            }
          }
        }
      ]
    },
    {
      "cell_type": "code",
      "source": [
        "evaluate_model(tuned_model)"
      ],
      "metadata": {
        "id": "8tNM1Kutp8rd"
      },
      "execution_count": null,
      "outputs": []
    },
    {
      "cell_type": "markdown",
      "source": [
        "### Visualizing Regression Line on Low Level Feature"
      ],
      "metadata": {
        "id": "hodikg5K1RT8"
      }
    },
    {
      "cell_type": "code",
      "source": [
        "# create PCA object\n",
        "pca = PCA(n_components=1, random_state=33)\n",
        "rb_scaler = RobustScaler()\n",
        "# fit PCA to the data\n",
        "X_train_pca = X_train.copy()\n",
        "X_train_pca.drop('kecamatan', axis=1, inplace=True)\n",
        "X_train_pca[['luas_lahan','luas_bangunan']] = rb_scaler.fit_transform(X_train_pca[['luas_lahan','luas_bangunan']])\n",
        "X_train_pca = pd.get_dummies(X_train_pca, columns=['kota', 'keamanan_24jam', 'taman_bermain_anak'])\n",
        "pca.fit(X_train_pca)\n",
        "\n",
        "# create a new dataframe with principal components as columns\n",
        "df_1d_pca = pd.DataFrame(pca.transform(X_train_pca), columns=['PCA 1'])"
      ],
      "metadata": {
        "id": "gahOpn-C3OMX"
      },
      "execution_count": 11,
      "outputs": []
    },
    {
      "cell_type": "code",
      "source": [
        "# df_1d_pca = df_1d_pca.reset_index(drop=True)\n",
        "# Y_train = Y_train.reset_index(drop=True)\n",
        "df_1d_pca = df_1d_pca.values\n",
        "Y_train = Y_train.values\n",
        "df_1d_pca = df_1d_pca[:, 0]\n",
        "\n",
        "# pca_train = pd.concat([df_1d_pca, Y_train], columns =['PCA', 'harga'],axis=1, ignore_index=True)\n",
        "train_pca = pd.DataFrame({'pca': df_1d_pca, 'price': Y_train})"
      ],
      "metadata": {
        "id": "_tzHPiLuqch2"
      },
      "execution_count": 12,
      "outputs": []
    },
    {
      "cell_type": "code",
      "source": [
        "plt.figure(figsize=(8, 6))\n",
        "plt.scatter(train_pca['pca'], train_pca['price'], marker='o', color='b')\n",
        "plt.title('PCA Feature vs. Price')\n",
        "plt.xlabel('PCA feature')\n",
        "plt.ylabel('Price ($)')\n",
        "plt.grid(True)\n",
        "\n",
        "# Show the plot\n",
        "plt.show()"
      ],
      "metadata": {
        "colab": {
          "base_uri": "https://localhost:8080/",
          "height": 562
        },
        "id": "rUz-XweA-vhC",
        "outputId": "5f6cc797-4945-49f2-c415-7dc35f99180d"
      },
      "execution_count": 13,
      "outputs": [
        {
          "output_type": "display_data",
          "data": {
            "text/plain": [
              "<Figure size 800x600 with 1 Axes>"
            ],
            "image/png": "[encoded data removed]"
          },
          "metadata": {}
        }
      ]
    },
    {
      "cell_type": "code",
      "source": [
        "X = train_pca['pca'].values.reshape(-1, 1)\n",
        "y = train_pca['price'].values.reshape(-1, 1)\n",
        "\n",
        "model_visualizer = RandomForestRegressor()\n",
        "model_visualizer.fit(X, y)"
      ],
      "metadata": {
        "colab": {
          "base_uri": "https://localhost:8080/",
          "height": 79
        },
        "id": "-_7nYTznnh5q",
        "outputId": "f40ae8c8-e654-42fb-8ff8-9f4a9a6eb461"
      },
      "execution_count": 24,
      "outputs": [
        {
          "output_type": "execute_result",
          "data": {
            "text/plain": [
              "RandomForestRegressor()"
            ],
            "text/html": [
              "<style>#sk-container-id-3 {color: black;background-color: white;}#sk-container-id-3 pre{padding: 0;}#sk-container-id-3 div.sk-toggleable {background-color: white;}#sk-container-id-3 label.sk-toggleable__label {cursor: pointer;display: block;width: 100%;margin-bottom: 0;padding: 0.3em;box-sizing: border-box;text-align: center;}#sk-container-id-3 label.sk-toggleable__label-arrow:before {content: \"▸\";float: left;margin-right: 0.25em;color: #696969;}#sk-container-id-3 label.sk-toggleable__label-arrow:hover:before {color: black;}#sk-container-id-3 div.sk-estimator:hover label.sk-toggleable__label-arrow:before {color: black;}#sk-container-id-3 div.sk-toggleable__content {max-height: 0;max-width: 0;overflow: hidden;text-align: left;background-color: #f0f8ff;}#sk-container-id-3 div.sk-toggleable__content pre {margin: 0.2em;color: black;border-radius: 0.25em;background-color: #f0f8ff;}#sk-container-id-3 input.sk-toggleable__control:checked~div.sk-toggleable__content {max-height: 200px;max-width: 100%;overflow: auto;}#sk-container-id-3 input.sk-toggleable__control:checked~label.sk-toggleable__label-arrow:before {content: \"▾\";}#sk-container-id-3 div.sk-estimator input.sk-toggleable__control:checked~label.sk-toggleable__label {background-color: #d4ebff;}#sk-container-id-3 div.sk-label input.sk-toggleable__control:checked~label.sk-toggleable__label {background-color: #d4ebff;}#sk-container-id-3 input.sk-hidden--visually {border: 0;clip: rect(1px 1px 1px 1px);clip: rect(1px, 1px, 1px, 1px);height: 1px;margin: -1px;overflow: hidden;padding: 0;position: absolute;width: 1px;}#sk-container-id-3 div.sk-estimator {font-family: monospace;background-color: #f0f8ff;border: 1px dotted black;border-radius: 0.25em;box-sizing: border-box;margin-bottom: 0.5em;}#sk-container-id-3 div.sk-estimator:hover {background-color: #d4ebff;}#sk-container-id-3 div.sk-parallel-item::after {content: \"\";width: 100%;border-bottom: 1px solid gray;flex-grow: 1;}#sk-container-id-3 div.sk-label:hover label.sk-toggleable__label {background-color: #d4ebff;}#sk-container-id-3 div.sk-serial::before {content: \"\";position: absolute;border-left: 1px solid gray;box-sizing: border-box;top: 0;bottom: 0;left: 50%;z-index: 0;}#sk-container-id-3 div.sk-serial {display: flex;flex-direction: column;align-items: center;background-color: white;padding-right: 0.2em;padding-left: 0.2em;position: relative;}#sk-container-id-3 div.sk-item {position: relative;z-index: 1;}#sk-container-id-3 div.sk-parallel {display: flex;align-items: stretch;justify-content: center;background-color: white;position: relative;}#sk-container-id-3 div.sk-item::before, #sk-container-id-3 div.sk-parallel-item::before {content: \"\";position: absolute;border-left: 1px solid gray;box-sizing: border-box;top: 0;bottom: 0;left: 50%;z-index: -1;}#sk-container-id-3 div.sk-parallel-item {display: flex;flex-direction: column;z-index: 1;position: relative;background-color: white;}#sk-container-id-3 div.sk-parallel-item:first-child::after {align-self: flex-end;width: 50%;}#sk-container-id-3 div.sk-parallel-item:last-child::after {align-self: flex-start;width: 50%;}#sk-container-id-3 div.sk-parallel-item:only-child::after {width: 0;}#sk-container-id-3 div.sk-dashed-wrapped {border: 1px dashed gray;margin: 0 0.4em 0.5em 0.4em;box-sizing: border-box;padding-bottom: 0.4em;background-color: white;}#sk-container-id-3 div.sk-label label {font-family: monospace;font-weight: bold;display: inline-block;line-height: 1.2em;}#sk-container-id-3 div.sk-label-container {text-align: center;}#sk-container-id-3 div.sk-container {/* jupyter's `normalize.less` sets `[hidden] { display: none; }` but bootstrap.min.css set `[hidden] { display: none !important; }` so we also need the `!important` here to be able to override the default hidden behavior on the sphinx rendered scikit-learn.org. See: https://github.com/scikit-learn/scikit-learn/issues/21755 */display: inline-block !important;position: relative;}#sk-container-id-3 div.sk-text-repr-fallback {display: none;}</style><div id=\"sk-container-id-3\" class=\"sk-top-container\"><div class=\"sk-text-repr-fallback\"><pre>RandomForestRegressor()</pre><b>In a Jupyter environment, please rerun this cell to show the HTML representation or trust the notebook. <br />On GitHub, the HTML representation is unable to render, please try loading this page with nbviewer.org.</b></div><div class=\"sk-container\" hidden><div class=\"sk-item\"><div class=\"sk-estimator sk-toggleable\"><input class=\"sk-toggleable__control sk-hidden--visually\" id=\"sk-estimator-id-3\" type=\"checkbox\" checked><label for=\"sk-estimator-id-3\" class=\"sk-toggleable__label sk-toggleable__label-arrow\">RandomForestRegressor</label><div class=\"sk-toggleable__content\"><pre>RandomForestRegressor()</pre></div></div></div></div></div>"
            ]
          },
          "metadata": {},
          "execution_count": 24
        }
      ]
    },
    {
      "cell_type": "code",
      "source": [
        "X_range = np.linspace(X.min(), X.max(), 2052).reshape(-1, 1)\n",
        "y_pred = model_visualizer.predict(X_range)"
      ],
      "metadata": {
        "id": "iJiESVaznuDM"
      },
      "execution_count": 25,
      "outputs": []
    },
    {
      "cell_type": "code",
      "source": [
        "plt.figure(figsize=(8, 6))\n",
        "plt.scatter(train_pca['pca'], train_pca['price'], marker='o', color='b')\n",
        "\n",
        "plt.plot(X_range, y_pred, label='Random Forest Regressor', color='red', linewidth=2)\n",
        "\n",
        "plt.title('Feature vs. Price')\n",
        "plt.xlabel('PCA feature')\n",
        "plt.ylabel('Price ($)')\n",
        "plt.grid(True)\n",
        "\n",
        "# Show the plot\n",
        "plt.show()"
      ],
      "metadata": {
        "colab": {
          "base_uri": "https://localhost:8080/",
          "height": 562
        },
        "id": "vvZ5Gf-8nwIp",
        "outputId": "602beb7c-a6dc-4869-f364-c83f725749e9"
      },
      "execution_count": 26,
      "outputs": [
        {
          "output_type": "display_data",
          "data": {
            "text/plain": [
              "<Figure size 800x600 with 1 Axes>"
            ],
            "image/png": "[encoded data removed]"
          },
          "metadata": {}
        }
      ]
    },
    {
      "cell_type": "code",
      "source": [
        "X = train_pca['pca'].values.reshape(-1, 1)\n",
        "y = train_pca['price'].values.reshape(-1, 1)\n",
        "model_visualizer = ElasticNet(alpha=7.63,\n",
        "                                    copy_X =True,\n",
        "                                    fit_intercept = False,\n",
        "                                    l1_ratio=0.532,\n",
        "                                    max_iter=1000,\n",
        "                                    positive=False,\n",
        "                                    precompute=False,\n",
        "                                    random_state = 469,\n",
        "                                    selection = 'cyclic',\n",
        "                                    tol=0.0001,\n",
        "                                    warm_start = False)\n",
        "\n",
        "model_visualizer.fit(X, y)"
      ],
      "metadata": {
        "colab": {
          "base_uri": "https://localhost:8080/",
          "height": 79
        },
        "id": "1_-P4_g5CAAH",
        "outputId": "990c6a87-9d32-4169-fbb7-45dcba2fba62"
      },
      "execution_count": 21,
      "outputs": [
        {
          "output_type": "execute_result",
          "data": {
            "text/plain": [
              "ElasticNet(alpha=7.63, fit_intercept=False, l1_ratio=0.532, random_state=469)"
            ],
            "text/html": [
              "<style>#sk-container-id-2 {color: black;background-color: white;}#sk-container-id-2 pre{padding: 0;}#sk-container-id-2 div.sk-toggleable {background-color: white;}#sk-container-id-2 label.sk-toggleable__label {cursor: pointer;display: block;width: 100%;margin-bottom: 0;padding: 0.3em;box-sizing: border-box;text-align: center;}#sk-container-id-2 label.sk-toggleable__label-arrow:before {content: \"▸\";float: left;margin-right: 0.25em;color: #696969;}#sk-container-id-2 label.sk-toggleable__label-arrow:hover:before {color: black;}#sk-container-id-2 div.sk-estimator:hover label.sk-toggleable__label-arrow:before {color: black;}#sk-container-id-2 div.sk-toggleable__content {max-height: 0;max-width: 0;overflow: hidden;text-align: left;background-color: #f0f8ff;}#sk-container-id-2 div.sk-toggleable__content pre {margin: 0.2em;color: black;border-radius: 0.25em;background-color: #f0f8ff;}#sk-container-id-2 input.sk-toggleable__control:checked~div.sk-toggleable__content {max-height: 200px;max-width: 100%;overflow: auto;}#sk-container-id-2 input.sk-toggleable__control:checked~label.sk-toggleable__label-arrow:before {content: \"▾\";}#sk-container-id-2 div.sk-estimator input.sk-toggleable__control:checked~label.sk-toggleable__label {background-color: #d4ebff;}#sk-container-id-2 div.sk-label input.sk-toggleable__control:checked~label.sk-toggleable__label {background-color: #d4ebff;}#sk-container-id-2 input.sk-hidden--visually {border: 0;clip: rect(1px 1px 1px 1px);clip: rect(1px, 1px, 1px, 1px);height: 1px;margin: -1px;overflow: hidden;padding: 0;position: absolute;width: 1px;}#sk-container-id-2 div.sk-estimator {font-family: monospace;background-color: #f0f8ff;border: 1px dotted black;border-radius: 0.25em;box-sizing: border-box;margin-bottom: 0.5em;}#sk-container-id-2 div.sk-estimator:hover {background-color: #d4ebff;}#sk-container-id-2 div.sk-parallel-item::after {content: \"\";width: 100%;border-bottom: 1px solid gray;flex-grow: 1;}#sk-container-id-2 div.sk-label:hover label.sk-toggleable__label {background-color: #d4ebff;}#sk-container-id-2 div.sk-serial::before {content: \"\";position: absolute;border-left: 1px solid gray;box-sizing: border-box;top: 0;bottom: 0;left: 50%;z-index: 0;}#sk-container-id-2 div.sk-serial {display: flex;flex-direction: column;align-items: center;background-color: white;padding-right: 0.2em;padding-left: 0.2em;position: relative;}#sk-container-id-2 div.sk-item {position: relative;z-index: 1;}#sk-container-id-2 div.sk-parallel {display: flex;align-items: stretch;justify-content: center;background-color: white;position: relative;}#sk-container-id-2 div.sk-item::before, #sk-container-id-2 div.sk-parallel-item::before {content: \"\";position: absolute;border-left: 1px solid gray;box-sizing: border-box;top: 0;bottom: 0;left: 50%;z-index: -1;}#sk-container-id-2 div.sk-parallel-item {display: flex;flex-direction: column;z-index: 1;position: relative;background-color: white;}#sk-container-id-2 div.sk-parallel-item:first-child::after {align-self: flex-end;width: 50%;}#sk-container-id-2 div.sk-parallel-item:last-child::after {align-self: flex-start;width: 50%;}#sk-container-id-2 div.sk-parallel-item:only-child::after {width: 0;}#sk-container-id-2 div.sk-dashed-wrapped {border: 1px dashed gray;margin: 0 0.4em 0.5em 0.4em;box-sizing: border-box;padding-bottom: 0.4em;background-color: white;}#sk-container-id-2 div.sk-label label {font-family: monospace;font-weight: bold;display: inline-block;line-height: 1.2em;}#sk-container-id-2 div.sk-label-container {text-align: center;}#sk-container-id-2 div.sk-container {/* jupyter's `normalize.less` sets `[hidden] { display: none; }` but bootstrap.min.css set `[hidden] { display: none !important; }` so we also need the `!important` here to be able to override the default hidden behavior on the sphinx rendered scikit-learn.org. See: https://github.com/scikit-learn/scikit-learn/issues/21755 */display: inline-block !important;position: relative;}#sk-container-id-2 div.sk-text-repr-fallback {display: none;}</style><div id=\"sk-container-id-2\" class=\"sk-top-container\"><div class=\"sk-text-repr-fallback\"><pre>ElasticNet(alpha=7.63, fit_intercept=False, l1_ratio=0.532, random_state=469)</pre><b>In a Jupyter environment, please rerun this cell to show the HTML representation or trust the notebook. <br />On GitHub, the HTML representation is unable to render, please try loading this page with nbviewer.org.</b></div><div class=\"sk-container\" hidden><div class=\"sk-item\"><div class=\"sk-estimator sk-toggleable\"><input class=\"sk-toggleable__control sk-hidden--visually\" id=\"sk-estimator-id-2\" type=\"checkbox\" checked><label for=\"sk-estimator-id-2\" class=\"sk-toggleable__label sk-toggleable__label-arrow\">ElasticNet</label><div class=\"sk-toggleable__content\"><pre>ElasticNet(alpha=7.63, fit_intercept=False, l1_ratio=0.532, random_state=469)</pre></div></div></div></div></div>"
            ]
          },
          "metadata": {},
          "execution_count": 21
        }
      ]
    },
    {
      "cell_type": "code",
      "source": [
        "X_range = np.linspace(X.min(), X.max(), 2052).reshape(-1, 1)\n",
        "y_pred = model_visualizer.predict(X_range)"
      ],
      "metadata": {
        "id": "nj3ubROoCNqE"
      },
      "execution_count": 22,
      "outputs": []
    },
    {
      "cell_type": "code",
      "source": [
        "plt.figure(figsize=(8, 6))\n",
        "plt.scatter(train_pca['pca'], train_pca['price'], marker='o', color='b')\n",
        "\n",
        "plt.plot(X_range, y_pred, label='Elastic Net Regression', color='red', linewidth=2)\n",
        "\n",
        "plt.title('Feature vs. Price')\n",
        "plt.xlabel('PCA feature')\n",
        "plt.ylabel('Price ($)')\n",
        "plt.grid(True)\n",
        "\n",
        "# Show the plot\n",
        "plt.show()"
      ],
      "metadata": {
        "colab": {
          "base_uri": "https://localhost:8080/",
          "height": 562
        },
        "id": "j5rMSuzHAYD0",
        "outputId": "81c16332-1dc6-4a9b-8bf6-4b3d60d4d6a1"
      },
      "execution_count": 23,
      "outputs": [
        {
          "output_type": "display_data",
          "data": {
            "text/plain": [
              "<Figure size 800x600 with 1 Axes>"
            ],
            "image/png": "[encoded data removed]"
          },
          "metadata": {}
        }
      ]
    },
    {
      "cell_type": "markdown",
      "source": [
        "## Defining the Best Model"
      ],
      "metadata": {
        "id": "tcydKLCOq_SI"
      }
    },
    {
      "cell_type": "code",
      "source": [
        "model = Pipeline(\n",
        "  steps=[\n",
        "    (\"input processing\", input_transformer),\n",
        "    (\"Regression Model\", RandomForestRegressor(bootstrap=True,\n",
        "                                               ccp_alpha = 0.0,\n",
        "                                               criterion = 'squared_error',\n",
        "                                               max_depth =11,\n",
        "                                               max_features = 'log2',\n",
        "                                               max_leaf_nodes = None,\n",
        "                                               max_samples =None,\n",
        "                                               min_impurity_decrease = 0.0002,\n",
        "                                               min_samples_leaf = 5,\n",
        "                                               min_samples_split =10,\n",
        "                                               min_weight_fraction_leaf\t=0.0,\n",
        "                                               n_estimators =180,\n",
        "                                               n_jobs =-1,\n",
        "                                               oob_score = False,\n",
        "                                               random_state = 469,\n",
        "                                               verbose = 0,\n",
        "                                               warm_start = False))\n",
        "  ]\n",
        ")"
      ],
      "metadata": {
        "id": "JX-ZW1zeq5Bu"
      },
      "execution_count": 7,
      "outputs": []
    },
    {
      "cell_type": "markdown",
      "source": [
        "# MODEL EVALUATION & RESULT INTERPRETATION"
      ],
      "metadata": {
        "id": "6IbXG50Gf8N4"
      }
    },
    {
      "cell_type": "markdown",
      "source": [
        "## Evaluation Metric"
      ],
      "metadata": {
        "id": "hFAV01uNwry-"
      }
    },
    {
      "cell_type": "markdown",
      "source": [
        "***Mean Absolute Error (MAE)***\n",
        "measures the average absolute difference between the predicted and actual values.\n",
        "Interpretation: A lower MAE indicates that, on average, the models predictions are close to the actual prices.\n",
        "Example: If MAE is $1000, it means on average the models predictions are off by $1000 from the actual prices.\n",
        "\n",
        "***Mean Squared Error (MSE)*** measures the average squared difference between the predicted and actual values.\n",
        "Interpretation: MSE penalizes larger errors more than smaller ones. A lower MSE indicates smaller errors.\n",
        "Example: If your MSE is 100, it means, on average, the squared errors are 100 square units away from the actual prices.\n",
        "\n",
        "***The Root Mean Squared Error (RMSE)*** is the square root of the MSE and provides the error in the same units as the target variable.\n",
        "Interpretation: It's easier to interpret compared to MSE. A lower RMSE indicates better performance.\n",
        "Example: If your RMSE is 10, it means your predictions are typically off by 10 units (e.g., $10).\n",
        "\n",
        "***R-squared (R2)*** measures the proportion of variance in the dependent variable that is predictable from the independent variables.\n",
        "Interpretation: An R2 score of 0.8, for example, means that 80% of the variance in house prices can be explained by the features in your model.\n",
        "Example: An R2 of 1.0 means that your model perfectly predicts house prices, while an R2 of 0 means your model doesn't explain any variance.\n",
        "\n",
        "***The Mean Absolute Percentage Error (MAPE)*** measures the percentage difference between predicted and actual values.\n",
        "Interpretation : MAPE of 5% means on average, models prediction are off by 5% from actual prices.\n",
        "Example : if the model predict the price of a house is $100.000, ant the MAPE is 5%, it means the actual prices is likely between $95.000 and $105.000\n",
        "\n",
        "\n",
        "***The Explained Variance Score*** measures the proportion of variance in the dependent variable that is explained by the model.\n",
        "Interpretation: An explained variance of 0.9, for example, means that 90% of the variance in house prices is explained by your model.\n",
        "Example: An explained variance of 1.0 indicates a perfect fit."
      ],
      "metadata": {
        "id": "FwhGs7wsyMZD"
      }
    },
    {
      "cell_type": "code",
      "source": [
        "model.fit(X_train, Y_train)"
      ],
      "metadata": {
        "colab": {
          "base_uri": "https://localhost:8080/",
          "height": 193
        },
        "id": "EVt6V-x6_-W5",
        "outputId": "a2fafe6f-5c7d-44df-f36c-40c707a028fd"
      },
      "execution_count": 8,
      "outputs": [
        {
          "output_type": "execute_result",
          "data": {
            "text/plain": [
              "Pipeline(steps=[('input processing',\n",
              "                 ColumnTransformer(remainder='passthrough',\n",
              "                                   transformers=[('robust scaler',\n",
              "                                                  RobustScaler(),\n",
              "                                                  ['luas_lahan',\n",
              "                                                   'luas_bangunan']),\n",
              "                                                 ('Onehot Encoder',\n",
              "                                                  OneHotEncoder(handle_unknown='ignore'),\n",
              "                                                  ['kota', 'keamanan_24jam',\n",
              "                                                   'taman_bermain_anak',\n",
              "                                                   'kecamatan']),\n",
              "                                                 ('Drop location column',\n",
              "                                                  'drop', ['kecamatan'])])),\n",
              "                ('Regression Model',\n",
              "                 RandomForestRegressor(max_depth=11, max_features='log2',\n",
              "                                       min_impurity_decrease=0.0002,\n",
              "                                       min_samples_leaf=5, min_samples_split=10,\n",
              "                                       n_estimators=180, n_jobs=-1,\n",
              "                                       random_state=469))])"
            ],
            "text/html": [
              "<style>#sk-container-id-1 {color: black;background-color: white;}#sk-container-id-1 pre{padding: 0;}#sk-container-id-1 div.sk-toggleable {background-color: white;}#sk-container-id-1 label.sk-toggleable__label {cursor: pointer;display: block;width: 100%;margin-bottom: 0;padding: 0.3em;box-sizing: border-box;text-align: center;}#sk-container-id-1 label.sk-toggleable__label-arrow:before {content: \"▸\";float: left;margin-right: 0.25em;color: #696969;}#sk-container-id-1 label.sk-toggleable__label-arrow:hover:before {color: black;}#sk-container-id-1 div.sk-estimator:hover label.sk-toggleable__label-arrow:before {color: black;}#sk-container-id-1 div.sk-toggleable__content {max-height: 0;max-width: 0;overflow: hidden;text-align: left;background-color: #f0f8ff;}#sk-container-id-1 div.sk-toggleable__content pre {margin: 0.2em;color: black;border-radius: 0.25em;background-color: #f0f8ff;}#sk-container-id-1 input.sk-toggleable__control:checked~div.sk-toggleable__content {max-height: 200px;max-width: 100%;overflow: auto;}#sk-container-id-1 input.sk-toggleable__control:checked~label.sk-toggleable__label-arrow:before {content: \"▾\";}#sk-container-id-1 div.sk-estimator input.sk-toggleable__control:checked~label.sk-toggleable__label {background-color: #d4ebff;}#sk-container-id-1 div.sk-label input.sk-toggleable__control:checked~label.sk-toggleable__label {background-color: #d4ebff;}#sk-container-id-1 input.sk-hidden--visually {border: 0;clip: rect(1px 1px 1px 1px);clip: rect(1px, 1px, 1px, 1px);height: 1px;margin: -1px;overflow: hidden;padding: 0;position: absolute;width: 1px;}#sk-container-id-1 div.sk-estimator {font-family: monospace;background-color: #f0f8ff;border: 1px dotted black;border-radius: 0.25em;box-sizing: border-box;margin-bottom: 0.5em;}#sk-container-id-1 div.sk-estimator:hover {background-color: #d4ebff;}#sk-container-id-1 div.sk-parallel-item::after {content: \"\";width: 100%;border-bottom: 1px solid gray;flex-grow: 1;}#sk-container-id-1 div.sk-label:hover label.sk-toggleable__label {background-color: #d4ebff;}#sk-container-id-1 div.sk-serial::before {content: \"\";position: absolute;border-left: 1px solid gray;box-sizing: border-box;top: 0;bottom: 0;left: 50%;z-index: 0;}#sk-container-id-1 div.sk-serial {display: flex;flex-direction: column;align-items: center;background-color: white;padding-right: 0.2em;padding-left: 0.2em;position: relative;}#sk-container-id-1 div.sk-item {position: relative;z-index: 1;}#sk-container-id-1 div.sk-parallel {display: flex;align-items: stretch;justify-content: center;background-color: white;position: relative;}#sk-container-id-1 div.sk-item::before, #sk-container-id-1 div.sk-parallel-item::before {content: \"\";position: absolute;border-left: 1px solid gray;box-sizing: border-box;top: 0;bottom: 0;left: 50%;z-index: -1;}#sk-container-id-1 div.sk-parallel-item {display: flex;flex-direction: column;z-index: 1;position: relative;background-color: white;}#sk-container-id-1 div.sk-parallel-item:first-child::after {align-self: flex-end;width: 50%;}#sk-container-id-1 div.sk-parallel-item:last-child::after {align-self: flex-start;width: 50%;}#sk-container-id-1 div.sk-parallel-item:only-child::after {width: 0;}#sk-container-id-1 div.sk-dashed-wrapped {border: 1px dashed gray;margin: 0 0.4em 0.5em 0.4em;box-sizing: border-box;padding-bottom: 0.4em;background-color: white;}#sk-container-id-1 div.sk-label label {font-family: monospace;font-weight: bold;display: inline-block;line-height: 1.2em;}#sk-container-id-1 div.sk-label-container {text-align: center;}#sk-container-id-1 div.sk-container {/* jupyter's `normalize.less` sets `[hidden] { display: none; }` but bootstrap.min.css set `[hidden] { display: none !important; }` so we also need the `!important` here to be able to override the default hidden behavior on the sphinx rendered scikit-learn.org. See: https://github.com/scikit-learn/scikit-learn/issues/21755 */display: inline-block !important;position: relative;}#sk-container-id-1 div.sk-text-repr-fallback {display: none;}</style><div id=\"sk-container-id-1\" class=\"sk-top-container\"><div class=\"sk-text-repr-fallback\"><pre>Pipeline(steps=[(&#x27;input processing&#x27;,\n",
              "                 ColumnTransformer(remainder=&#x27;passthrough&#x27;,\n",
              "                                   transformers=[(&#x27;robust scaler&#x27;,\n",
              "                                                  RobustScaler(),\n",
              "                                                  [&#x27;luas_lahan&#x27;,\n",
              "                                                   &#x27;luas_bangunan&#x27;]),\n",
              "                                                 (&#x27;Onehot Encoder&#x27;,\n",
              "                                                  OneHotEncoder(handle_unknown=&#x27;ignore&#x27;),\n",
              "                                                  [&#x27;kota&#x27;, &#x27;keamanan_24jam&#x27;,\n",
              "                                                   &#x27;taman_bermain_anak&#x27;,\n",
              "                                                   &#x27;kecamatan&#x27;]),\n",
              "                                                 (&#x27;Drop location column&#x27;,\n",
              "                                                  &#x27;drop&#x27;, [&#x27;kecamatan&#x27;])])),\n",
              "                (&#x27;Regression Model&#x27;,\n",
              "                 RandomForestRegressor(max_depth=11, max_features=&#x27;log2&#x27;,\n",
              "                                       min_impurity_decrease=0.0002,\n",
              "                                       min_samples_leaf=5, min_samples_split=10,\n",
              "                                       n_estimators=180, n_jobs=-1,\n",
              "                                       random_state=469))])</pre><b>In a Jupyter environment, please rerun this cell to show the HTML representation or trust the notebook. <br />On GitHub, the HTML representation is unable to render, please try loading this page with nbviewer.org.</b></div><div class=\"sk-container\" hidden><div class=\"sk-item sk-dashed-wrapped\"><div class=\"sk-label-container\"><div class=\"sk-label sk-toggleable\"><input class=\"sk-toggleable__control sk-hidden--visually\" id=\"sk-estimator-id-1\" type=\"checkbox\" ><label for=\"sk-estimator-id-1\" class=\"sk-toggleable__label sk-toggleable__label-arrow\">Pipeline</label><div class=\"sk-toggleable__content\"><pre>Pipeline(steps=[(&#x27;input processing&#x27;,\n",
              "                 ColumnTransformer(remainder=&#x27;passthrough&#x27;,\n",
              "                                   transformers=[(&#x27;robust scaler&#x27;,\n",
              "                                                  RobustScaler(),\n",
              "                                                  [&#x27;luas_lahan&#x27;,\n",
              "                                                   &#x27;luas_bangunan&#x27;]),\n",
              "                                                 (&#x27;Onehot Encoder&#x27;,\n",
              "                                                  OneHotEncoder(handle_unknown=&#x27;ignore&#x27;),\n",
              "                                                  [&#x27;kota&#x27;, &#x27;keamanan_24jam&#x27;,\n",
              "                                                   &#x27;taman_bermain_anak&#x27;,\n",
              "                                                   &#x27;kecamatan&#x27;]),\n",
              "                                                 (&#x27;Drop location column&#x27;,\n",
              "                                                  &#x27;drop&#x27;, [&#x27;kecamatan&#x27;])])),\n",
              "                (&#x27;Regression Model&#x27;,\n",
              "                 RandomForestRegressor(max_depth=11, max_features=&#x27;log2&#x27;,\n",
              "                                       min_impurity_decrease=0.0002,\n",
              "                                       min_samples_leaf=5, min_samples_split=10,\n",
              "                                       n_estimators=180, n_jobs=-1,\n",
              "                                       random_state=469))])</pre></div></div></div><div class=\"sk-serial\"><div class=\"sk-item sk-dashed-wrapped\"><div class=\"sk-label-container\"><div class=\"sk-label sk-toggleable\"><input class=\"sk-toggleable__control sk-hidden--visually\" id=\"sk-estimator-id-2\" type=\"checkbox\" ><label for=\"sk-estimator-id-2\" class=\"sk-toggleable__label sk-toggleable__label-arrow\">input processing: ColumnTransformer</label><div class=\"sk-toggleable__content\"><pre>ColumnTransformer(remainder=&#x27;passthrough&#x27;,\n",
              "                  transformers=[(&#x27;robust scaler&#x27;, RobustScaler(),\n",
              "                                 [&#x27;luas_lahan&#x27;, &#x27;luas_bangunan&#x27;]),\n",
              "                                (&#x27;Onehot Encoder&#x27;,\n",
              "                                 OneHotEncoder(handle_unknown=&#x27;ignore&#x27;),\n",
              "                                 [&#x27;kota&#x27;, &#x27;keamanan_24jam&#x27;,\n",
              "                                  &#x27;taman_bermain_anak&#x27;, &#x27;kecamatan&#x27;]),\n",
              "                                (&#x27;Drop location column&#x27;, &#x27;drop&#x27;,\n",
              "                                 [&#x27;kecamatan&#x27;])])</pre></div></div></div><div class=\"sk-parallel\"><div class=\"sk-parallel-item\"><div class=\"sk-item\"><div class=\"sk-label-container\"><div class=\"sk-label sk-toggleable\"><input class=\"sk-toggleable__control sk-hidden--visually\" id=\"sk-estimator-id-3\" type=\"checkbox\" ><label for=\"sk-estimator-id-3\" class=\"sk-toggleable__label sk-toggleable__label-arrow\">robust scaler</label><div class=\"sk-toggleable__content\"><pre>[&#x27;luas_lahan&#x27;, &#x27;luas_bangunan&#x27;]</pre></div></div></div><div class=\"sk-serial\"><div class=\"sk-item\"><div class=\"sk-estimator sk-toggleable\"><input class=\"sk-toggleable__control sk-hidden--visually\" id=\"sk-estimator-id-4\" type=\"checkbox\" ><label for=\"sk-estimator-id-4\" class=\"sk-toggleable__label sk-toggleable__label-arrow\">RobustScaler</label><div class=\"sk-toggleable__content\"><pre>RobustScaler()</pre></div></div></div></div></div></div><div class=\"sk-parallel-item\"><div class=\"sk-item\"><div class=\"sk-label-container\"><div class=\"sk-label sk-toggleable\"><input class=\"sk-toggleable__control sk-hidden--visually\" id=\"sk-estimator-id-5\" type=\"checkbox\" ><label for=\"sk-estimator-id-5\" class=\"sk-toggleable__label sk-toggleable__label-arrow\">Onehot Encoder</label><div class=\"sk-toggleable__content\"><pre>[&#x27;kota&#x27;, &#x27;keamanan_24jam&#x27;, &#x27;taman_bermain_anak&#x27;, &#x27;kecamatan&#x27;]</pre></div></div></div><div class=\"sk-serial\"><div class=\"sk-item\"><div class=\"sk-estimator sk-toggleable\"><input class=\"sk-toggleable__control sk-hidden--visually\" id=\"sk-estimator-id-6\" type=\"checkbox\" ><label for=\"sk-estimator-id-6\" class=\"sk-toggleable__label sk-toggleable__label-arrow\">OneHotEncoder</label><div class=\"sk-toggleable__content\"><pre>OneHotEncoder(handle_unknown=&#x27;ignore&#x27;)</pre></div></div></div></div></div></div><div class=\"sk-parallel-item\"><div class=\"sk-item\"><div class=\"sk-label-container\"><div class=\"sk-label sk-toggleable\"><input class=\"sk-toggleable__control sk-hidden--visually\" id=\"sk-estimator-id-7\" type=\"checkbox\" ><label for=\"sk-estimator-id-7\" class=\"sk-toggleable__label sk-toggleable__label-arrow\">Drop location column</label><div class=\"sk-toggleable__content\"><pre>[&#x27;kecamatan&#x27;]</pre></div></div></div><div class=\"sk-serial\"><div class=\"sk-item\"><div class=\"sk-estimator sk-toggleable\"><input class=\"sk-toggleable__control sk-hidden--visually\" id=\"sk-estimator-id-8\" type=\"checkbox\" ><label for=\"sk-estimator-id-8\" class=\"sk-toggleable__label sk-toggleable__label-arrow\">drop</label><div class=\"sk-toggleable__content\"><pre>drop</pre></div></div></div></div></div></div><div class=\"sk-parallel-item\"><div class=\"sk-item\"><div class=\"sk-label-container\"><div class=\"sk-label sk-toggleable\"><input class=\"sk-toggleable__control sk-hidden--visually\" id=\"sk-estimator-id-9\" type=\"checkbox\" ><label for=\"sk-estimator-id-9\" class=\"sk-toggleable__label sk-toggleable__label-arrow\">remainder</label><div class=\"sk-toggleable__content\"><pre>[&#x27;kamar_tidur&#x27;, &#x27;kamar_mandi&#x27;, &#x27;latitude_district&#x27;, &#x27;longitude_district&#x27;]</pre></div></div></div><div class=\"sk-serial\"><div class=\"sk-item\"><div class=\"sk-estimator sk-toggleable\"><input class=\"sk-toggleable__control sk-hidden--visually\" id=\"sk-estimator-id-10\" type=\"checkbox\" ><label for=\"sk-estimator-id-10\" class=\"sk-toggleable__label sk-toggleable__label-arrow\">passthrough</label><div class=\"sk-toggleable__content\"><pre>passthrough</pre></div></div></div></div></div></div></div></div><div class=\"sk-item\"><div class=\"sk-estimator sk-toggleable\"><input class=\"sk-toggleable__control sk-hidden--visually\" id=\"sk-estimator-id-11\" type=\"checkbox\" ><label for=\"sk-estimator-id-11\" class=\"sk-toggleable__label sk-toggleable__label-arrow\">RandomForestRegressor</label><div class=\"sk-toggleable__content\"><pre>RandomForestRegressor(max_depth=11, max_features=&#x27;log2&#x27;,\n",
              "                      min_impurity_decrease=0.0002, min_samples_leaf=5,\n",
              "                      min_samples_split=10, n_estimators=180, n_jobs=-1,\n",
              "                      random_state=469)</pre></div></div></div></div></div></div></div>"
            ]
          },
          "metadata": {},
          "execution_count": 8
        }
      ]
    },
    {
      "cell_type": "code",
      "source": [
        "# Sample actual and predicted values\n",
        "y_pred = model.predict(X_train)\n",
        "\n",
        "# Calculate Mean Absolute Error (MAE)\n",
        "mae = mean_absolute_error(Y_train, y_pred)\n",
        "\n",
        "# Calculate Mean Squared Error (MSE)\n",
        "mse = mean_squared_error(Y_train, y_pred)\n",
        "\n",
        "# Calculate Root Mean Squared Error (RMSE)\n",
        "rmse = np.sqrt(mse)\n",
        "\n",
        "# Calculate R-squared (R2)\n",
        "r2 = r2_score(Y_train, y_pred)\n",
        "\n",
        "# Calculate Mean Absolute Percentage Error (MAPE)\n",
        "mape = np.mean(np.abs((Y_train - y_pred) / Y_train)) * 100\n",
        "\n",
        "# Calculate Explained Variance Score\n",
        "explained_variance = explained_variance_score(Y_train, y_pred)\n",
        "\n",
        "# Print the results\n",
        "print(f\"Mean Absolute Error (MAE): {mae:.2f}\")\n",
        "print(f\"Mean Squared Error (MSE): {mse:.2f}\")\n",
        "print(f\"Root Mean Squared Error (RMSE): {rmse:.2f}\")\n",
        "print(f\"R-squared (R2): {r2:.2f}\")\n",
        "print(f\"Mean Absolute Percentage Error (MAPE): {mape:.2f}%\")\n",
        "print(f\"Explained Variance Score: {explained_variance:.2f}\")"
      ],
      "metadata": {
        "colab": {
          "base_uri": "https://localhost:8080/"
        },
        "id": "SPxYFP1Vwxo5",
        "outputId": "7ab65c23-a3f3-4d28-98b0-fbe0abb112d4"
      },
      "execution_count": 9,
      "outputs": [
        {
          "output_type": "stream",
          "name": "stdout",
          "text": [
            "Mean Absolute Error (MAE): 3290976548.72\n",
            "Mean Squared Error (MSE): 93601352919364681728.00\n",
            "Root Mean Squared Error (RMSE): 9674779218.12\n",
            "R-squared (R2): 0.61\n",
            "Mean Absolute Percentage Error (MAPE): 121.97%\n",
            "Explained Variance Score: 0.61\n"
          ]
        }
      ]
    },
    {
      "cell_type": "markdown",
      "source": [
        "MAE result is 3.676.175.599 which shows that the average of model's prediction is off 3.676.175.599 rupiah.\n",
        "\n",
        "MSE result is 114366260990929600512 shows that on average the squared error of the prediction is 114366260990929600512 off from the actual price. MSE is bigger because it penalize the larger error.\n",
        "\n",
        "RMSE result is 10.694.216.240.14 shows that the models prediction is typically off around. 10 billion.\n",
        "\n",
        "R2 result is 0.53 shows that 53% of the variance in house prices can be explained by the features the model use. The feature and the model used is around 53% correct at predicting property prices\n",
        "\n",
        "MAPE result is 77.03% shows that by average the model prediction is off around 77% from the actual price.\n",
        "\n",
        "Explained Variance Score result is 0.53 means that 53 percent of varince in property prices is explained by the model. 0.53 means that the model is not quiet a good fit."
      ],
      "metadata": {
        "id": "Iu83k6BRy0eC"
      }
    },
    {
      "cell_type": "code",
      "source": [
        "# Sample actual and predicted values\n",
        "y_pred = model.predict(X_test)\n",
        "\n",
        "# Calculate Mean Absolute Error (MAE)\n",
        "mae = mean_absolute_error(Y_test, y_pred)\n",
        "\n",
        "# Calculate Root Mean Squared Error (RMSE)\n",
        "mse = mean_squared_error(Y_test, y_pred)\n",
        "rmse = np.sqrt(mse)\n",
        "\n",
        "# Calculate R-squared (R2)\n",
        "r2 = r2_score(Y_test, y_pred)\n",
        "\n",
        "# Calculate Mean Absolute Percentage Error (MAPE)\n",
        "mape = np.mean(np.abs((Y_test - y_pred) / Y_test)) * 100\n",
        "\n",
        "# Calculate Explained Variance Score\n",
        "explained_variance = explained_variance_score(Y_test, y_pred)\n",
        "\n",
        "# Print the results\n",
        "print(f\"Mean Absolute Error (MAE): {mae:.2f}\")\n",
        "print(f\"Root Mean Squared Error (RMSE): {rmse:.2f}\")\n",
        "print(f\"R-squared (R2): {r2:.2f}\")\n",
        "print(f\"Mean Absolute Percentage Error (MAPE): {mape:.2f}%\")\n",
        "print(f\"Explained Variance Score: {explained_variance:.2f}\")"
      ],
      "metadata": {
        "colab": {
          "base_uri": "https://localhost:8080/"
        },
        "id": "A8EZKfPYwUi5",
        "outputId": "a8572bfa-579b-49c7-e7ab-841797917621"
      },
      "execution_count": 10,
      "outputs": [
        {
          "output_type": "stream",
          "name": "stdout",
          "text": [
            "Mean Absolute Error (MAE): 3361961825.70\n",
            "Root Mean Squared Error (RMSE): 9235654732.39\n",
            "R-squared (R2): 0.62\n",
            "Mean Absolute Percentage Error (MAPE): 128.82%\n",
            "Explained Variance Score: 0.62\n"
          ]
        }
      ]
    },
    {
      "cell_type": "markdown",
      "source": [
        "MAE result is 3494680836 which shows that the average of model's prediction is off 3.49 billion rupiah.\n",
        "\n",
        "MSE result is 89669446321955930112 shows that on average the squared error of the prediction is  off from the actual price. MSE is bigger because it penalize the larger error.\n",
        "\n",
        "RMSE result is 9469395245 shows that the models prediction is typically off around. 9 billion.\n",
        "\n",
        "R2 result is 0.6 shows that 60% of the variance in house prices can be explained by the features the model use. The feature and the model used is around 53% correct at predicting property prices\n",
        "\n",
        "MAPE result is 76.21% shows that by average the model prediction is off around 76.21% from the actual price.\n",
        "\n",
        "Explained Variance Score result is 0.60 means that 60 percent of varince in property prices is explained by the model. 0.60 means that the model is not quiet a good fit."
      ],
      "metadata": {
        "id": "H5MfAQPeztpg"
      }
    },
    {
      "cell_type": "markdown",
      "source": [
        "## Checking Model Performance for Different price range"
      ],
      "metadata": {
        "id": "0cFvBxfkEign"
      }
    },
    {
      "cell_type": "markdown",
      "source": [
        "https://www.kompas.com/properti/read/2023/05/06/170000221/berdasarkan-harganya-ini-beda-rumah-mewah-menengah-dan-sederhana?page=all"
      ],
      "metadata": {
        "id": "6Oq5rmK0Q-iC"
      }
    },
    {
      "cell_type": "code",
      "source": [
        "simple_house = df[df['harga'] < 450000000]\n",
        "medium_house = df[(df['harga'] >= 451000000) & (df['harga'] <= 2257000000)]\n",
        "luxury_house = df[df['harga'] > 2258000000]"
      ],
      "metadata": {
        "id": "fCy8AOPgEiJ3"
      },
      "execution_count": 11,
      "outputs": []
    },
    {
      "cell_type": "code",
      "source": [
        "X = simple_house.drop(['harga'], axis=1)\n",
        "Y = simple_house['harga']\n",
        "X_train, X_test, Y_train, Y_test = train_test_split(X, Y, test_size=0.2, random_state=33)\n",
        "\n",
        "model.fit(X_train, Y_train)\n",
        "\n",
        "y_pred = model.predict(X_test)\n",
        "mae = mean_absolute_error(Y_test, y_pred)\n",
        "mse = mean_squared_error(Y_test, y_pred)\n",
        "rmse = np.sqrt(mse)\n",
        "r2 = r2_score(Y_test, y_pred)\n",
        "mape = np.mean(np.abs((Y_test - y_pred) / Y_test)) * 100\n",
        "explained_variance = explained_variance_score(Y_test, y_pred)\n",
        "\n",
        "# Print the results\n",
        "print(f\"Mean Absolute Error (MAE): {mae:.2f}\")\n",
        "print(f\"Root Mean Squared Error (RMSE): {rmse:.2f}\")\n",
        "print(f\"R-squared (R2): {r2:.2f}\")\n",
        "print(f\"Mean Absolute Percentage Error (MAPE): {mape:.2f}%\")\n",
        "print(f\"Explained Variance Score: {explained_variance:.2f}\")"
      ],
      "metadata": {
        "colab": {
          "base_uri": "https://localhost:8080/"
        },
        "id": "Azsg6svQSDNw",
        "outputId": "53b7f54b-fff5-4582-a4b7-cf64dd770f04"
      },
      "execution_count": 12,
      "outputs": [
        {
          "output_type": "stream",
          "name": "stdout",
          "text": [
            "Mean Absolute Error (MAE): 77938534.56\n",
            "Root Mean Squared Error (RMSE): 93988258.81\n",
            "R-squared (R2): 0.19\n",
            "Mean Absolute Percentage Error (MAPE): 40.74%\n",
            "Explained Variance Score: 0.19\n"
          ]
        }
      ]
    },
    {
      "cell_type": "code",
      "source": [
        "X = medium_house.drop(['harga'], axis=1)\n",
        "Y = medium_house['harga']\n",
        "X_train, X_test, Y_train, Y_test = train_test_split(X, Y, test_size=0.2, random_state=33)\n",
        "\n",
        "model.fit(X_train, Y_train)\n",
        "\n",
        "y_pred = model.predict(X_test)\n",
        "mae = mean_absolute_error(Y_test, y_pred)\n",
        "mse = mean_squared_error(Y_test, y_pred)\n",
        "rmse = np.sqrt(mse)\n",
        "r2 = r2_score(Y_test, y_pred)\n",
        "mape = np.mean(np.abs((Y_test - y_pred) / Y_test)) * 100\n",
        "explained_variance = explained_variance_score(Y_test, y_pred)\n",
        "\n",
        "# Print the results\n",
        "print(f\"Mean Absolute Error (MAE): {mae:.2f}\")\n",
        "print(f\"Root Mean Squared Error (RMSE): {rmse:.2f}\")\n",
        "print(f\"R-squared (R2): {r2:.2f}\")\n",
        "print(f\"Mean Absolute Percentage Error (MAPE): {mape:.2f}%\")\n",
        "print(f\"Explained Variance Score: {explained_variance:.2f}\")"
      ],
      "metadata": {
        "colab": {
          "base_uri": "https://localhost:8080/"
        },
        "id": "F4AHxqgbSjm7",
        "outputId": "3f85b5b5-500c-48b3-c1bf-46adb9b4cb6e"
      },
      "execution_count": 13,
      "outputs": [
        {
          "output_type": "stream",
          "name": "stdout",
          "text": [
            "Mean Absolute Error (MAE): 302728629.87\n",
            "Root Mean Squared Error (RMSE): 365623354.46\n",
            "R-squared (R2): 0.49\n",
            "Mean Absolute Percentage Error (MAPE): 28.63%\n",
            "Explained Variance Score: 0.49\n"
          ]
        }
      ]
    },
    {
      "cell_type": "code",
      "source": [
        "X = luxury_house.drop(['harga'], axis=1)\n",
        "Y = luxury_house['harga']\n",
        "X_train, X_test, Y_train, Y_test = train_test_split(X, Y, test_size=0.2, random_state=33)\n",
        "\n",
        "model.fit(X_train, Y_train)\n",
        "\n",
        "y_pred = model.predict(X_test)\n",
        "mae = mean_absolute_error(Y_test, y_pred)\n",
        "mse = mean_squared_error(Y_test, y_pred)\n",
        "rmse = np.sqrt(mse)\n",
        "r2 = r2_score(Y_test, y_pred)\n",
        "mape = np.mean(np.abs((Y_test - y_pred) / Y_test)) * 100\n",
        "explained_variance = explained_variance_score(Y_test, y_pred)\n",
        "\n",
        "# Print the results\n",
        "print(f\"Mean Absolute Error (MAE): {mae:.2f}\")\n",
        "print(f\"Root Mean Squared Error (RMSE): {rmse:.2f}\")\n",
        "print(f\"R-squared (R2): {r2:.2f}\")\n",
        "print(f\"Mean Absolute Percentage Error (MAPE): {mape:.2f}%\")\n",
        "print(f\"Explained Variance Score: {explained_variance:.2f}\")"
      ],
      "metadata": {
        "colab": {
          "base_uri": "https://localhost:8080/"
        },
        "id": "4TE4JMPnSkkn",
        "outputId": "2d9cfe96-2aee-4436-ef3e-32ad8dec67d8"
      },
      "execution_count": 14,
      "outputs": [
        {
          "output_type": "stream",
          "name": "stdout",
          "text": [
            "Mean Absolute Error (MAE): 5250784309.24\n",
            "Root Mean Squared Error (RMSE): 11060371083.61\n",
            "R-squared (R2): 0.63\n",
            "Mean Absolute Percentage Error (MAPE): 58.01%\n",
            "Explained Variance Score: 0.63\n"
          ]
        }
      ]
    },
    {
      "cell_type": "code",
      "source": [
        "columns = ['Low Prices Houses', 'Medium Priced Houses', 'Luxury Houses']\n",
        "data = {\n",
        "    'All House Price Range': ['3.36 billion', '9.23 billion', '0.62', '128.82%', '0.62'],\n",
        "    'Low Prices Houses': ['77.93 million', '93.98 million', '0.19', '40.74%', '0.19'],\n",
        "    'Medium Priced Houses': ['302.72 million', '365.62 million', '0.49', '28.63%', '0.49'],\n",
        "    'Luxury Houses': ['5.25 Billion', '11.06 billion', '0.63', '58.01%', '0.63']\n",
        "}\n",
        "\n",
        "# Define row names\n",
        "row_names = ['MAE', 'RMSE', 'R2', 'MAPE', 'Explained Variance Score']\n",
        "performance_comparison = pd.DataFrame(data, index=row_names)"
      ],
      "metadata": {
        "id": "WWlpYmBeTEd1"
      },
      "execution_count": 15,
      "outputs": []
    },
    {
      "cell_type": "code",
      "source": [
        "performance_comparison"
      ],
      "metadata": {
        "colab": {
          "base_uri": "https://localhost:8080/",
          "height": 221
        },
        "id": "tiAbMhpQoptX",
        "outputId": "61ac0278-9406-44d5-a565-09b8ac35ba8e"
      },
      "execution_count": 16,
      "outputs": [
        {
          "output_type": "execute_result",
          "data": {
            "text/plain": [
              "                         All House Price Range Low Prices Houses  \\\n",
              "MAE                               3.36 billion     77.93 million   \n",
              "RMSE                              9.23 billion     93.98 million   \n",
              "R2                                        0.62              0.19   \n",
              "MAPE                                   128.82%            40.74%   \n",
              "Explained Variance Score                  0.62              0.19   \n",
              "\n",
              "                         Medium Priced Houses  Luxury Houses  \n",
              "MAE                            302.72 million   5.25 Billion  \n",
              "RMSE                           365.62 million  11.06 billion  \n",
              "R2                                       0.49           0.63  \n",
              "MAPE                                   28.63%         58.01%  \n",
              "Explained Variance Score                 0.49           0.63  "
            ],
            "text/html": [
              "\n",
              "  <div id=\"df-51863ed4-a32f-4d23-a2fa-75ab190ed24e\" class=\"colab-df-container\">\n",
              "    <div>\n",
              "<style scoped>\n",
              "    .dataframe tbody tr th:only-of-type {\n",
              "        vertical-align: middle;\n",
              "    }\n",
              "\n",
              "    .dataframe tbody tr th {\n",
              "        vertical-align: top;\n",
              "    }\n",
              "\n",
              "    .dataframe thead th {\n",
              "        text-align: right;\n",
              "    }\n",
              "</style>\n",
              "<table border=\"1\" class=\"dataframe\">\n",
              "  <thead>\n",
              "    <tr style=\"text-align: right;\">\n",
              "      <th></th>\n",
              "      <th>All House Price Range</th>\n",
              "      <th>Low Prices Houses</th>\n",
              "      <th>Medium Priced Houses</th>\n",
              "      <th>Luxury Houses</th>\n",
              "    </tr>\n",
              "  </thead>\n",
              "  <tbody>\n",
              "    <tr>\n",
              "      <th>MAE</th>\n",
              "      <td>3.36 billion</td>\n",
              "      <td>77.93 million</td>\n",
              "      <td>302.72 million</td>\n",
              "      <td>5.25 Billion</td>\n",
              "    </tr>\n",
              "    <tr>\n",
              "      <th>RMSE</th>\n",
              "      <td>9.23 billion</td>\n",
              "      <td>93.98 million</td>\n",
              "      <td>365.62 million</td>\n",
              "      <td>11.06 billion</td>\n",
              "    </tr>\n",
              "    <tr>\n",
              "      <th>R2</th>\n",
              "      <td>0.62</td>\n",
              "      <td>0.19</td>\n",
              "      <td>0.49</td>\n",
              "      <td>0.63</td>\n",
              "    </tr>\n",
              "    <tr>\n",
              "      <th>MAPE</th>\n",
              "      <td>128.82%</td>\n",
              "      <td>40.74%</td>\n",
              "      <td>28.63%</td>\n",
              "      <td>58.01%</td>\n",
              "    </tr>\n",
              "    <tr>\n",
              "      <th>Explained Variance Score</th>\n",
              "      <td>0.62</td>\n",
              "      <td>0.19</td>\n",
              "      <td>0.49</td>\n",
              "      <td>0.63</td>\n",
              "    </tr>\n",
              "  </tbody>\n",
              "</table>\n",
              "</div>\n",
              "    <div class=\"colab-df-buttons\">\n",
              "\n",
              "  <div class=\"colab-df-container\">\n",
              "    <button class=\"colab-df-convert\" onclick=\"convertToInteractive('df-51863ed4-a32f-4d23-a2fa-75ab190ed24e')\"\n",
              "            title=\"Convert this dataframe to an interactive table.\"\n",
              "            style=\"display:none;\">\n",
              "\n",
              "  <svg xmlns=\"http://www.w3.org/2000/svg\" height=\"24px\" viewBox=\"0 -960 960 960\">\n",
              "    <path d=\"M120-120v-720h720v720H120Zm60-500h600v-160H180v160Zm220 220h160v-160H400v160Zm0 220h160v-160H400v160ZM180-400h160v-160H180v160Zm440 0h160v-160H620v160ZM180-180h160v-160H180v160Zm440 0h160v-160H620v160Z\"/>\n",
              "  </svg>\n",
              "    </button>\n",
              "\n",
              "  <style>\n",
              "    .colab-df-container {\n",
              "      display:flex;\n",
              "      gap: 12px;\n",
              "    }\n",
              "\n",
              "    .colab-df-convert {\n",
              "      background-color: #E8F0FE;\n",
              "      border: none;\n",
              "      border-radius: 50%;\n",
              "      cursor: pointer;\n",
              "      display: none;\n",
              "      fill: #1967D2;\n",
              "      height: 32px;\n",
              "      padding: 0 0 0 0;\n",
              "      width: 32px;\n",
              "    }\n",
              "\n",
              "    .colab-df-convert:hover {\n",
              "      background-color: #E2EBFA;\n",
              "      box-shadow: 0px 1px 2px rgba(60, 64, 67, 0.3), 0px 1px 3px 1px rgba(60, 64, 67, 0.15);\n",
              "      fill: #174EA6;\n",
              "    }\n",
              "\n",
              "    .colab-df-buttons div {\n",
              "      margin-bottom: 4px;\n",
              "    }\n",
              "\n",
              "    [theme=dark] .colab-df-convert {\n",
              "      background-color: #3B4455;\n",
              "      fill: #D2E3FC;\n",
              "    }\n",
              "\n",
              "    [theme=dark] .colab-df-convert:hover {\n",
              "      background-color: #434B5C;\n",
              "      box-shadow: 0px 1px 3px 1px rgba(0, 0, 0, 0.15);\n",
              "      filter: drop-shadow(0px 1px 2px rgba(0, 0, 0, 0.3));\n",
              "      fill: #FFFFFF;\n",
              "    }\n",
              "  </style>\n",
              "\n",
              "    <script>\n",
              "      const buttonEl =\n",
              "        document.querySelector('#df-51863ed4-a32f-4d23-a2fa-75ab190ed24e button.colab-df-convert');\n",
              "      buttonEl.style.display =\n",
              "        google.colab.kernel.accessAllowed ? 'block' : 'none';\n",
              "\n",
              "      async function convertToInteractive(key) {\n",
              "        const element = document.querySelector('#df-51863ed4-a32f-4d23-a2fa-75ab190ed24e');\n",
              "        const dataTable =\n",
              "          await google.colab.kernel.invokeFunction('convertToInteractive',\n",
              "                                                    [key], {});\n",
              "        if (!dataTable) return;\n",
              "\n",
              "        const docLinkHtml = 'Like what you see? Visit the ' +\n",
              "          '<a target=\"_blank\" href=https://colab.research.google.com/notebooks/data_table.ipynb>data table notebook</a>'\n",
              "          + ' to learn more about interactive tables.';\n",
              "        element.innerHTML = '';\n",
              "        dataTable['output_type'] = 'display_data';\n",
              "        await google.colab.output.renderOutput(dataTable, element);\n",
              "        const docLink = document.createElement('div');\n",
              "        docLink.innerHTML = docLinkHtml;\n",
              "        element.appendChild(docLink);\n",
              "      }\n",
              "    </script>\n",
              "  </div>\n",
              "\n",
              "\n",
              "<div id=\"df-75c3e927-6fbd-49dd-8db2-8119571f9c98\">\n",
              "  <button class=\"colab-df-quickchart\" onclick=\"quickchart('df-75c3e927-6fbd-49dd-8db2-8119571f9c98')\"\n",
              "            title=\"Suggest charts.\"\n",
              "            style=\"display:none;\">\n",
              "\n",
              "<svg xmlns=\"http://www.w3.org/2000/svg\" height=\"24px\"viewBox=\"0 0 24 24\"\n",
              "     width=\"24px\">\n",
              "    <g>\n",
              "        <path d=\"M19 3H5c-1.1 0-2 .9-2 2v14c0 1.1.9 2 2 2h14c1.1 0 2-.9 2-2V5c0-1.1-.9-2-2-2zM9 17H7v-7h2v7zm4 0h-2V7h2v10zm4 0h-2v-4h2v4z\"/>\n",
              "    </g>\n",
              "</svg>\n",
              "  </button>\n",
              "\n",
              "<style>\n",
              "  .colab-df-quickchart {\n",
              "      --bg-color: #E8F0FE;\n",
              "      --fill-color: #1967D2;\n",
              "      --hover-bg-color: #E2EBFA;\n",
              "      --hover-fill-color: #174EA6;\n",
              "      --disabled-fill-color: #AAA;\n",
              "      --disabled-bg-color: #DDD;\n",
              "  }\n",
              "\n",
              "  [theme=dark] .colab-df-quickchart {\n",
              "      --bg-color: #3B4455;\n",
              "      --fill-color: #D2E3FC;\n",
              "      --hover-bg-color: #434B5C;\n",
              "      --hover-fill-color: #FFFFFF;\n",
              "      --disabled-bg-color: #3B4455;\n",
              "      --disabled-fill-color: #666;\n",
              "  }\n",
              "\n",
              "  .colab-df-quickchart {\n",
              "    background-color: var(--bg-color);\n",
              "    border: none;\n",
              "    border-radius: 50%;\n",
              "    cursor: pointer;\n",
              "    display: none;\n",
              "    fill: var(--fill-color);\n",
              "    height: 32px;\n",
              "    padding: 0;\n",
              "    width: 32px;\n",
              "  }\n",
              "\n",
              "  .colab-df-quickchart:hover {\n",
              "    background-color: var(--hover-bg-color);\n",
              "    box-shadow: 0 1px 2px rgba(60, 64, 67, 0.3), 0 1px 3px 1px rgba(60, 64, 67, 0.15);\n",
              "    fill: var(--button-hover-fill-color);\n",
              "  }\n",
              "\n",
              "  .colab-df-quickchart-complete:disabled,\n",
              "  .colab-df-quickchart-complete:disabled:hover {\n",
              "    background-color: var(--disabled-bg-color);\n",
              "    fill: var(--disabled-fill-color);\n",
              "    box-shadow: none;\n",
              "  }\n",
              "\n",
              "  .colab-df-spinner {\n",
              "    border: 2px solid var(--fill-color);\n",
              "    border-color: transparent;\n",
              "    border-bottom-color: var(--fill-color);\n",
              "    animation:\n",
              "      spin 1s steps(1) infinite;\n",
              "  }\n",
              "\n",
              "  @keyframes spin {\n",
              "    0% {\n",
              "      border-color: transparent;\n",
              "      border-bottom-color: var(--fill-color);\n",
              "      border-left-color: var(--fill-color);\n",
              "    }\n",
              "    20% {\n",
              "      border-color: transparent;\n",
              "      border-left-color: var(--fill-color);\n",
              "      border-top-color: var(--fill-color);\n",
              "    }\n",
              "    30% {\n",
              "      border-color: transparent;\n",
              "      border-left-color: var(--fill-color);\n",
              "      border-top-color: var(--fill-color);\n",
              "      border-right-color: var(--fill-color);\n",
              "    }\n",
              "    40% {\n",
              "      border-color: transparent;\n",
              "      border-right-color: var(--fill-color);\n",
              "      border-top-color: var(--fill-color);\n",
              "    }\n",
              "    60% {\n",
              "      border-color: transparent;\n",
              "      border-right-color: var(--fill-color);\n",
              "    }\n",
              "    80% {\n",
              "      border-color: transparent;\n",
              "      border-right-color: var(--fill-color);\n",
              "      border-bottom-color: var(--fill-color);\n",
              "    }\n",
              "    90% {\n",
              "      border-color: transparent;\n",
              "      border-bottom-color: var(--fill-color);\n",
              "    }\n",
              "  }\n",
              "</style>\n",
              "\n",
              "  <script>\n",
              "    async function quickchart(key) {\n",
              "      const quickchartButtonEl =\n",
              "        document.querySelector('#' + key + ' button');\n",
              "      quickchartButtonEl.disabled = true;  // To prevent multiple clicks.\n",
              "      quickchartButtonEl.classList.add('colab-df-spinner');\n",
              "      try {\n",
              "        const charts = await google.colab.kernel.invokeFunction(\n",
              "            'suggestCharts', [key], {});\n",
              "      } catch (error) {\n",
              "        console.error('Error during call to suggestCharts:', error);\n",
              "      }\n",
              "      quickchartButtonEl.classList.remove('colab-df-spinner');\n",
              "      quickchartButtonEl.classList.add('colab-df-quickchart-complete');\n",
              "    }\n",
              "    (() => {\n",
              "      let quickchartButtonEl =\n",
              "        document.querySelector('#df-75c3e927-6fbd-49dd-8db2-8119571f9c98 button');\n",
              "      quickchartButtonEl.style.display =\n",
              "        google.colab.kernel.accessAllowed ? 'block' : 'none';\n",
              "    })();\n",
              "  </script>\n",
              "</div>\n",
              "    </div>\n",
              "  </div>\n"
            ]
          },
          "metadata": {},
          "execution_count": 16
        }
      ]
    },
    {
      "cell_type": "markdown",
      "source": [
        "# MODEL SAVING"
      ],
      "metadata": {
        "id": "EpvW444CCUvQ"
      }
    },
    {
      "cell_type": "code",
      "source": [
        "# saving the model, and column transformer\n",
        "with open('model.pkl', 'wb') as file_1:\n",
        "  joblib.dump(model, file_1)\n",
        "\n",
        "with open('model_transformer.pkl', 'wb') as file_2:\n",
        "  joblib.dump(input_transformer, file_2)"
      ],
      "metadata": {
        "id": "CZyfLROICa-p"
      },
      "execution_count": 18,
      "outputs": []
    },
    {
      "cell_type": "markdown",
      "source": [
        "# MODEL INFERENCE"
      ],
      "metadata": {
        "id": "f2Jz9ME5m5yn"
      }
    },
    {
      "cell_type": "code",
      "source": [
        "# loading model\n",
        "with open('model.pkl', 'rb') as file_1:\n",
        "  model = joblib.load(file_1)\n",
        "\n",
        "with open('model_transformer.pkl', 'rb') as file_2:\n",
        "  transformer = joblib.load(file_2)"
      ],
      "metadata": {
        "id": "dw2tFxtcm7cz"
      },
      "execution_count": 13,
      "outputs": []
    },
    {
      "cell_type": "code",
      "source": [
        "test_dict = df.iloc[2292:2293].to_dict('records')\n",
        "test_dict"
      ],
      "metadata": {
        "colab": {
          "base_uri": "https://localhost:8080/"
        },
        "id": "D-b0BqQim8dE",
        "outputId": "cc01796c-196c-4a0c-9ebb-f42686bd6889"
      },
      "execution_count": 14,
      "outputs": [
        {
          "output_type": "execute_result",
          "data": {
            "text/plain": [
              "[{'kota': 'Jakarta Selatan',\n",
              "  'luas_lahan': 90,\n",
              "  'luas_bangunan': 72,\n",
              "  'kamar_tidur': 3,\n",
              "  'kamar_mandi': 2,\n",
              "  'keamanan_24jam': 'Ada',\n",
              "  'taman_bermain_anak': 'Ada',\n",
              "  'harga': 1300000000.0,\n",
              "  'latitude': -6.28381815,\n",
              "  'longitude': 106.80486325728526}]"
            ]
          },
          "metadata": {},
          "execution_count": 14
        }
      ]
    },
    {
      "cell_type": "code",
      "source": [
        "df_original['kota'].unique()"
      ],
      "metadata": {
        "colab": {
          "base_uri": "https://localhost:8080/"
        },
        "id": "Ovt0NOiSqv45",
        "outputId": "1be5526d-e0b9-4a07-eba8-d89e0f9e3575"
      },
      "execution_count": 15,
      "outputs": [
        {
          "output_type": "execute_result",
          "data": {
            "text/plain": [
              "array(['Jakarta Timur', 'Jakarta Selatan', 'Jakarta Barat',\n",
              "       'Jakarta Pusat', 'Jakarta Utara'], dtype=object)"
            ]
          },
          "metadata": {},
          "execution_count": 15
        }
      ]
    },
    {
      "cell_type": "code",
      "source": [
        "# making dummmy data for inference\n",
        "test_data = pd.DataFrame({\n",
        "  'kota': ['Jakarta Selatan'],\n",
        "  'luas_lahan': [90],\n",
        "  'luas_bangunan': [72],\n",
        "  'kamar_tidur': [3],\n",
        "  'kamar_mandi': [2],\n",
        "  'keamanan_24jam': ['Ada'],\n",
        "  'taman_bermain_anak': ['Ada'],\n",
        "  'harga': [1300000000.0],\n",
        "  'latitude': [-6.28381815],\n",
        "  'longitude': [106.80486325728526]\n",
        "  }\n",
        ")"
      ],
      "metadata": {
        "id": "MMl-Ke3hm-MC"
      },
      "execution_count": null,
      "outputs": []
    },
    {
      "cell_type": "code",
      "source": [
        "model.predict(test_data)"
      ],
      "metadata": {
        "id": "aBZSmgQcm_-P"
      },
      "execution_count": null,
      "outputs": []
    },
    {
      "cell_type": "markdown",
      "source": [
        "# CONCLUSION AND RECOMMENDATION"
      ],
      "metadata": {
        "id": "zeUXk-iRCXDE"
      }
    },
    {
      "cell_type": "markdown",
      "source": [
        "model kurang viable\n",
        "\n",
        "pemisahan data berdasar kategori\n",
        "\n",
        "data tidak 100% tepat\n",
        "\n",
        "tahun properti berpengaruh, mungkin ada data tercampur"
      ],
      "metadata": {
        "id": "Lpb40SWzz9sv"
      }
    }
  ]
}